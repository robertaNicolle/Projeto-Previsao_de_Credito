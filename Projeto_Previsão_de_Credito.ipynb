{
  "nbformat": 4,
  "nbformat_minor": 0,
  "metadata": {
    "colab": {
      "provenance": [],
      "authorship_tag": "ABX9TyMHu49OZSFtafXJLrj3SmNA",
      "include_colab_link": true
    },
    "kernelspec": {
      "name": "python3",
      "display_name": "Python 3"
    },
    "language_info": {
      "name": "python"
    }
  },
  "cells": [
    {
      "cell_type": "markdown",
      "metadata": {
        "id": "view-in-github",
        "colab_type": "text"
      },
      "source": [
        "<a href=\"https://colab.research.google.com/github/robertaNicolle/Projeto-Previsao_de_Credito/blob/main/Projeto_Previs%C3%A3o_de_Credito.ipynb\" target=\"_parent\"><img src=\"https://colab.research.google.com/assets/colab-badge.svg\" alt=\"Open In Colab\"/></a>"
      ]
    },
    {
      "cell_type": "code",
      "execution_count": 1,
      "metadata": {
        "id": "OSN_yWD020tN"
      },
      "outputs": [],
      "source": [
        "\n",
        "import pandas as pd\n",
        "import numpy as np\n"
      ]
    },
    {
      "cell_type": "code",
      "source": [
        "from google.colab import files\n",
        "files.upload()"
      ],
      "metadata": {
        "colab": {
          "base_uri": "https://localhost:8080/",
          "height": 107
        },
        "id": "e__Mnp73u1S_",
        "outputId": "d8f1b5ae-4372-4bc9-8a53-6d24d5f28ad6"
      },
      "execution_count": 3,
      "outputs": [
        {
          "output_type": "display_data",
          "data": {
            "text/plain": [
              "<IPython.core.display.HTML object>"
            ],
            "text/html": [
              "\n",
              "     <input type=\"file\" id=\"files-8c579b2d-b1a1-4605-a28a-91d0daae30b4\" name=\"files[]\" multiple disabled\n",
              "        style=\"border:none\" />\n",
              "     <output id=\"result-8c579b2d-b1a1-4605-a28a-91d0daae30b4\">\n",
              "      Upload widget is only available when the cell has been executed in the\n",
              "      current browser session. Please rerun this cell to enable.\n",
              "      </output>\n",
              "      <script>// Copyright 2017 Google LLC\n",
              "//\n",
              "// Licensed under the Apache License, Version 2.0 (the \"License\");\n",
              "// you may not use this file except in compliance with the License.\n",
              "// You may obtain a copy of the License at\n",
              "//\n",
              "//      http://www.apache.org/licenses/LICENSE-2.0\n",
              "//\n",
              "// Unless required by applicable law or agreed to in writing, software\n",
              "// distributed under the License is distributed on an \"AS IS\" BASIS,\n",
              "// WITHOUT WARRANTIES OR CONDITIONS OF ANY KIND, either express or implied.\n",
              "// See the License for the specific language governing permissions and\n",
              "// limitations under the License.\n",
              "\n",
              "/**\n",
              " * @fileoverview Helpers for google.colab Python module.\n",
              " */\n",
              "(function(scope) {\n",
              "function span(text, styleAttributes = {}) {\n",
              "  const element = document.createElement('span');\n",
              "  element.textContent = text;\n",
              "  for (const key of Object.keys(styleAttributes)) {\n",
              "    element.style[key] = styleAttributes[key];\n",
              "  }\n",
              "  return element;\n",
              "}\n",
              "\n",
              "// Max number of bytes which will be uploaded at a time.\n",
              "const MAX_PAYLOAD_SIZE = 100 * 1024;\n",
              "\n",
              "function _uploadFiles(inputId, outputId) {\n",
              "  const steps = uploadFilesStep(inputId, outputId);\n",
              "  const outputElement = document.getElementById(outputId);\n",
              "  // Cache steps on the outputElement to make it available for the next call\n",
              "  // to uploadFilesContinue from Python.\n",
              "  outputElement.steps = steps;\n",
              "\n",
              "  return _uploadFilesContinue(outputId);\n",
              "}\n",
              "\n",
              "// This is roughly an async generator (not supported in the browser yet),\n",
              "// where there are multiple asynchronous steps and the Python side is going\n",
              "// to poll for completion of each step.\n",
              "// This uses a Promise to block the python side on completion of each step,\n",
              "// then passes the result of the previous step as the input to the next step.\n",
              "function _uploadFilesContinue(outputId) {\n",
              "  const outputElement = document.getElementById(outputId);\n",
              "  const steps = outputElement.steps;\n",
              "\n",
              "  const next = steps.next(outputElement.lastPromiseValue);\n",
              "  return Promise.resolve(next.value.promise).then((value) => {\n",
              "    // Cache the last promise value to make it available to the next\n",
              "    // step of the generator.\n",
              "    outputElement.lastPromiseValue = value;\n",
              "    return next.value.response;\n",
              "  });\n",
              "}\n",
              "\n",
              "/**\n",
              " * Generator function which is called between each async step of the upload\n",
              " * process.\n",
              " * @param {string} inputId Element ID of the input file picker element.\n",
              " * @param {string} outputId Element ID of the output display.\n",
              " * @return {!Iterable<!Object>} Iterable of next steps.\n",
              " */\n",
              "function* uploadFilesStep(inputId, outputId) {\n",
              "  const inputElement = document.getElementById(inputId);\n",
              "  inputElement.disabled = false;\n",
              "\n",
              "  const outputElement = document.getElementById(outputId);\n",
              "  outputElement.innerHTML = '';\n",
              "\n",
              "  const pickedPromise = new Promise((resolve) => {\n",
              "    inputElement.addEventListener('change', (e) => {\n",
              "      resolve(e.target.files);\n",
              "    });\n",
              "  });\n",
              "\n",
              "  const cancel = document.createElement('button');\n",
              "  inputElement.parentElement.appendChild(cancel);\n",
              "  cancel.textContent = 'Cancel upload';\n",
              "  const cancelPromise = new Promise((resolve) => {\n",
              "    cancel.onclick = () => {\n",
              "      resolve(null);\n",
              "    };\n",
              "  });\n",
              "\n",
              "  // Wait for the user to pick the files.\n",
              "  const files = yield {\n",
              "    promise: Promise.race([pickedPromise, cancelPromise]),\n",
              "    response: {\n",
              "      action: 'starting',\n",
              "    }\n",
              "  };\n",
              "\n",
              "  cancel.remove();\n",
              "\n",
              "  // Disable the input element since further picks are not allowed.\n",
              "  inputElement.disabled = true;\n",
              "\n",
              "  if (!files) {\n",
              "    return {\n",
              "      response: {\n",
              "        action: 'complete',\n",
              "      }\n",
              "    };\n",
              "  }\n",
              "\n",
              "  for (const file of files) {\n",
              "    const li = document.createElement('li');\n",
              "    li.append(span(file.name, {fontWeight: 'bold'}));\n",
              "    li.append(span(\n",
              "        `(${file.type || 'n/a'}) - ${file.size} bytes, ` +\n",
              "        `last modified: ${\n",
              "            file.lastModifiedDate ? file.lastModifiedDate.toLocaleDateString() :\n",
              "                                    'n/a'} - `));\n",
              "    const percent = span('0% done');\n",
              "    li.appendChild(percent);\n",
              "\n",
              "    outputElement.appendChild(li);\n",
              "\n",
              "    const fileDataPromise = new Promise((resolve) => {\n",
              "      const reader = new FileReader();\n",
              "      reader.onload = (e) => {\n",
              "        resolve(e.target.result);\n",
              "      };\n",
              "      reader.readAsArrayBuffer(file);\n",
              "    });\n",
              "    // Wait for the data to be ready.\n",
              "    let fileData = yield {\n",
              "      promise: fileDataPromise,\n",
              "      response: {\n",
              "        action: 'continue',\n",
              "      }\n",
              "    };\n",
              "\n",
              "    // Use a chunked sending to avoid message size limits. See b/62115660.\n",
              "    let position = 0;\n",
              "    do {\n",
              "      const length = Math.min(fileData.byteLength - position, MAX_PAYLOAD_SIZE);\n",
              "      const chunk = new Uint8Array(fileData, position, length);\n",
              "      position += length;\n",
              "\n",
              "      const base64 = btoa(String.fromCharCode.apply(null, chunk));\n",
              "      yield {\n",
              "        response: {\n",
              "          action: 'append',\n",
              "          file: file.name,\n",
              "          data: base64,\n",
              "        },\n",
              "      };\n",
              "\n",
              "      let percentDone = fileData.byteLength === 0 ?\n",
              "          100 :\n",
              "          Math.round((position / fileData.byteLength) * 100);\n",
              "      percent.textContent = `${percentDone}% done`;\n",
              "\n",
              "    } while (position < fileData.byteLength);\n",
              "  }\n",
              "\n",
              "  // All done.\n",
              "  yield {\n",
              "    response: {\n",
              "      action: 'complete',\n",
              "    }\n",
              "  };\n",
              "}\n",
              "\n",
              "scope.google = scope.google || {};\n",
              "scope.google.colab = scope.google.colab || {};\n",
              "scope.google.colab._files = {\n",
              "  _uploadFiles,\n",
              "  _uploadFilesContinue,\n",
              "};\n",
              "})(self);\n",
              "</script> "
            ]
          },
          "metadata": {}
        },
        {
          "output_type": "stream",
          "name": "stdout",
          "text": [
            "Saving kaggle.json to kaggle (4).json\n"
          ]
        },
        {
          "output_type": "execute_result",
          "data": {
            "text/plain": [
              "{'kaggle (4).json': b'{\"username\":\"robertanicollebs\",\"key\":\"bebd12c7b1d5f609248dc28f147dc0f6\"}'}"
            ]
          },
          "metadata": {},
          "execution_count": 3
        }
      ]
    },
    {
      "cell_type": "code",
      "source": [
        "import kagglehub\n",
        "\n",
        "# Download latest version\n",
        "path = kagglehub.dataset_download(\"laotse/credit-risk-dataset\")\n",
        "\n",
        "print(\"Path to dataset files:\", path)"
      ],
      "metadata": {
        "colab": {
          "base_uri": "https://localhost:8080/"
        },
        "id": "48-T5P2D4CuN",
        "outputId": "366a178a-c1c8-401a-cb1a-fb93bc113fdc"
      },
      "execution_count": 2,
      "outputs": [
        {
          "output_type": "stream",
          "name": "stdout",
          "text": [
            "Path to dataset files: /kaggle/input/credit-risk-dataset\n"
          ]
        }
      ]
    },
    {
      "cell_type": "code",
      "source": [],
      "metadata": {
        "id": "s184uk0rvDTE"
      },
      "execution_count": 3,
      "outputs": []
    },
    {
      "cell_type": "code",
      "source": [
        "# Criar a pasta .kaggle\n",
        "!mkdir -p ~/.kaggle\n",
        "\n",
        "# Mover o arquivo para a pasta certa\n",
        "!cp kaggle.json ~/.kaggle/\n",
        "\n",
        "# Dar permissão de leitura\n",
        "!chmod 600 ~/.kaggle/kaggle.json\n"
      ],
      "metadata": {
        "id": "pbHqhoUgvDiP"
      },
      "execution_count": 4,
      "outputs": []
    },
    {
      "cell_type": "code",
      "source": [
        "!kaggle datasets download -d laotse/credit-risk-dataset\n"
      ],
      "metadata": {
        "colab": {
          "base_uri": "https://localhost:8080/"
        },
        "id": "RF4Z0D4OvJdA",
        "outputId": "dee8a4d6-305e-4bbc-c3b1-171b2a88e134"
      },
      "execution_count": 5,
      "outputs": [
        {
          "output_type": "stream",
          "name": "stdout",
          "text": [
            "Dataset URL: https://www.kaggle.com/datasets/laotse/credit-risk-dataset\n",
            "License(s): CC0-1.0\n",
            "credit-risk-dataset.zip: Skipping, found more recently modified local copy (use --force to force download)\n"
          ]
        }
      ]
    },
    {
      "cell_type": "code",
      "source": [
        "import zipfile\n",
        "\n",
        "with zipfile.ZipFile('credit-risk-dataset.zip', 'r') as zip_ref:\n",
        "    zip_ref.extractall()\n"
      ],
      "metadata": {
        "id": "uh_8vzzuvQ21"
      },
      "execution_count": 6,
      "outputs": []
    },
    {
      "cell_type": "code",
      "source": [
        "import os\n",
        "print(os.listdir())\n"
      ],
      "metadata": {
        "colab": {
          "base_uri": "https://localhost:8080/"
        },
        "id": "xvpBrUEnvW3s",
        "outputId": "25e8cbdd-dd64-4c6f-990e-a6769baa0868"
      },
      "execution_count": 7,
      "outputs": [
        {
          "output_type": "stream",
          "name": "stdout",
          "text": [
            "['.config', 'kaggle (3).json', 'kaggle (4).json', 'credit_risk_dataset.csv', 'credit-risk-dataset.zip', 'kaggle (2).json', 'kaggle (1).json', 'kaggle.json', 'sample_data']\n"
          ]
        }
      ]
    },
    {
      "cell_type": "code",
      "source": [
        "import pandas as pd\n",
        "\n",
        "df = pd.read_csv('credit_risk_dataset.csv')\n",
        "print(df.head())\n"
      ],
      "metadata": {
        "colab": {
          "base_uri": "https://localhost:8080/"
        },
        "id": "Z4BLI6kdvcd7",
        "outputId": "20ec8a6b-4009-4f5d-a370-a98879445c73"
      },
      "execution_count": 8,
      "outputs": [
        {
          "output_type": "stream",
          "name": "stdout",
          "text": [
            "   person_age  person_income person_home_ownership  person_emp_length  \\\n",
            "0          22          59000                  RENT              123.0   \n",
            "1          21           9600                   OWN                5.0   \n",
            "2          25           9600              MORTGAGE                1.0   \n",
            "3          23          65500                  RENT                4.0   \n",
            "4          24          54400                  RENT                8.0   \n",
            "\n",
            "  loan_intent loan_grade  loan_amnt  loan_int_rate  loan_status  \\\n",
            "0    PERSONAL          D      35000          16.02            1   \n",
            "1   EDUCATION          B       1000          11.14            0   \n",
            "2     MEDICAL          C       5500          12.87            1   \n",
            "3     MEDICAL          C      35000          15.23            1   \n",
            "4     MEDICAL          C      35000          14.27            1   \n",
            "\n",
            "   loan_percent_income cb_person_default_on_file  cb_person_cred_hist_length  \n",
            "0                 0.59                         Y                           3  \n",
            "1                 0.10                         N                           2  \n",
            "2                 0.57                         N                           3  \n",
            "3                 0.53                         N                           2  \n",
            "4                 0.55                         Y                           4  \n"
          ]
        }
      ]
    },
    {
      "cell_type": "code",
      "source": [
        "# Ver primeiras linhas\n",
        "df.head()\n",
        "\n",
        "# Ver estrutura do DataFrame\n",
        "df.info()\n",
        "\n",
        "# Ver estatísticas gerais\n",
        "df.describe()\n",
        "\n",
        "# Verificar valores nulos\n",
        "df.isnull().sum()\n",
        "\n",
        "# Ver os tipos das variáveis\n",
        "df.dtypes\n"
      ],
      "metadata": {
        "colab": {
          "base_uri": "https://localhost:8080/",
          "height": 790
        },
        "id": "B0NKH94m6Tkc",
        "outputId": "25ed4bcf-3432-40f9-e20f-dabb269e8031"
      },
      "execution_count": 9,
      "outputs": [
        {
          "output_type": "stream",
          "name": "stdout",
          "text": [
            "<class 'pandas.core.frame.DataFrame'>\n",
            "RangeIndex: 32581 entries, 0 to 32580\n",
            "Data columns (total 12 columns):\n",
            " #   Column                      Non-Null Count  Dtype  \n",
            "---  ------                      --------------  -----  \n",
            " 0   person_age                  32581 non-null  int64  \n",
            " 1   person_income               32581 non-null  int64  \n",
            " 2   person_home_ownership       32581 non-null  object \n",
            " 3   person_emp_length           31686 non-null  float64\n",
            " 4   loan_intent                 32581 non-null  object \n",
            " 5   loan_grade                  32581 non-null  object \n",
            " 6   loan_amnt                   32581 non-null  int64  \n",
            " 7   loan_int_rate               29465 non-null  float64\n",
            " 8   loan_status                 32581 non-null  int64  \n",
            " 9   loan_percent_income         32581 non-null  float64\n",
            " 10  cb_person_default_on_file   32581 non-null  object \n",
            " 11  cb_person_cred_hist_length  32581 non-null  int64  \n",
            "dtypes: float64(3), int64(5), object(4)\n",
            "memory usage: 3.0+ MB\n"
          ]
        },
        {
          "output_type": "execute_result",
          "data": {
            "text/plain": [
              "person_age                      int64\n",
              "person_income                   int64\n",
              "person_home_ownership          object\n",
              "person_emp_length             float64\n",
              "loan_intent                    object\n",
              "loan_grade                     object\n",
              "loan_amnt                       int64\n",
              "loan_int_rate                 float64\n",
              "loan_status                     int64\n",
              "loan_percent_income           float64\n",
              "cb_person_default_on_file      object\n",
              "cb_person_cred_hist_length      int64\n",
              "dtype: object"
            ],
            "text/html": [
              "<div>\n",
              "<style scoped>\n",
              "    .dataframe tbody tr th:only-of-type {\n",
              "        vertical-align: middle;\n",
              "    }\n",
              "\n",
              "    .dataframe tbody tr th {\n",
              "        vertical-align: top;\n",
              "    }\n",
              "\n",
              "    .dataframe thead th {\n",
              "        text-align: right;\n",
              "    }\n",
              "</style>\n",
              "<table border=\"1\" class=\"dataframe\">\n",
              "  <thead>\n",
              "    <tr style=\"text-align: right;\">\n",
              "      <th></th>\n",
              "      <th>0</th>\n",
              "    </tr>\n",
              "  </thead>\n",
              "  <tbody>\n",
              "    <tr>\n",
              "      <th>person_age</th>\n",
              "      <td>int64</td>\n",
              "    </tr>\n",
              "    <tr>\n",
              "      <th>person_income</th>\n",
              "      <td>int64</td>\n",
              "    </tr>\n",
              "    <tr>\n",
              "      <th>person_home_ownership</th>\n",
              "      <td>object</td>\n",
              "    </tr>\n",
              "    <tr>\n",
              "      <th>person_emp_length</th>\n",
              "      <td>float64</td>\n",
              "    </tr>\n",
              "    <tr>\n",
              "      <th>loan_intent</th>\n",
              "      <td>object</td>\n",
              "    </tr>\n",
              "    <tr>\n",
              "      <th>loan_grade</th>\n",
              "      <td>object</td>\n",
              "    </tr>\n",
              "    <tr>\n",
              "      <th>loan_amnt</th>\n",
              "      <td>int64</td>\n",
              "    </tr>\n",
              "    <tr>\n",
              "      <th>loan_int_rate</th>\n",
              "      <td>float64</td>\n",
              "    </tr>\n",
              "    <tr>\n",
              "      <th>loan_status</th>\n",
              "      <td>int64</td>\n",
              "    </tr>\n",
              "    <tr>\n",
              "      <th>loan_percent_income</th>\n",
              "      <td>float64</td>\n",
              "    </tr>\n",
              "    <tr>\n",
              "      <th>cb_person_default_on_file</th>\n",
              "      <td>object</td>\n",
              "    </tr>\n",
              "    <tr>\n",
              "      <th>cb_person_cred_hist_length</th>\n",
              "      <td>int64</td>\n",
              "    </tr>\n",
              "  </tbody>\n",
              "</table>\n",
              "</div><br><label><b>dtype:</b> object</label>"
            ]
          },
          "metadata": {},
          "execution_count": 9
        }
      ]
    },
    {
      "cell_type": "code",
      "source": [
        "df.isnull().sum()  # Verifica nulos\n",
        "df.dropna(inplace=True)  # Remove linhas com nulos\n",
        "\n",
        "df.duplicated().sum()  # Verifica duplicatas\n",
        "df.drop_duplicates(inplace=True)"
      ],
      "metadata": {
        "id": "3HjDKGhf5QkS"
      },
      "execution_count": 10,
      "outputs": []
    },
    {
      "cell_type": "code",
      "source": [
        "import seaborn as sns\n",
        "import matplotlib.pyplot as plt\n",
        "\n",
        "sns.countplot(x='loan_status', data=df)\n",
        "plt.title('Distribuição da variável alvo (Status do Empréstimo)')\n",
        "plt.xlabel('Status do Empréstimo')\n",
        "plt.ylabel('Quantidade')\n",
        "plt.show()\n"
      ],
      "metadata": {
        "colab": {
          "base_uri": "https://localhost:8080/",
          "height": 473
        },
        "id": "E3Sx9OQu5b9e",
        "outputId": "e34db1b4-0213-4128-8cea-2569c1f1eb6e"
      },
      "execution_count": 11,
      "outputs": [
        {
          "output_type": "display_data",
          "data": {
            "text/plain": [
              "<Figure size 640x480 with 1 Axes>"
            ],
            "image/png": "[encoded data removed]"
          },
          "metadata": {}
        }
      ]
    },
    {
      "cell_type": "code",
      "source": [
        "# Importar bibliotecas\n",
        "import pandas as pd\n",
        "import seaborn as sns\n",
        "import matplotlib.pyplot as plt\n",
        "\n",
        "# Ver primeiras linhas\n",
        "print(\"Primeiras linhas do dataset:\")\n",
        "display(df.head())\n",
        "\n",
        "# Ver informações gerais do DataFrame\n",
        "print(\"Informações do DataFrame:\")\n",
        "df.info()\n",
        "\n",
        "# Estatísticas descritivas\n",
        "print(\"Estatísticas descritivas:\")\n",
        "display(df.describe())\n",
        "\n",
        "# Contar valores únicos da variável-alvo\n",
        "print(\"Distribuição da variável loan_status:\")\n",
        "print(df['loan_status'].value_counts())\n",
        "\n",
        "# Criar coluna com rótulos mais legíveis\n",
        "df['loan_status_label'] = df['loan_status'].map({0: 'Pagou', 1: 'Inadimplente'})\n",
        "\n",
        "# Visualização: Distribuição da variável-alvo\n",
        "plt.figure(figsize=(6,4))\n",
        "sns.countplot(x='loan_status_label', data=df, palette='Set2')\n",
        "plt.title('Distribuição dos Clientes: Pagaram vs Inadimplentes')\n",
        "plt.xlabel('Status do Empréstimo')\n",
        "plt.ylabel('Quantidade')\n",
        "plt.show()\n",
        "\n",
        "# Visualização: Distribuição de idade\n",
        "plt.figure(figsize=(6,4))\n",
        "sns.histplot(df['person_age'], bins=20, kde=True)\n",
        "plt.title('Distribuição da Idade dos Clientes')\n",
        "plt.xlabel('Idade')\n",
        "plt.ylabel('Frequência')\n",
        "plt.show()\n",
        "\n",
        "# Boxplot de renda por status do empréstimo\n",
        "plt.figure(figsize=(8,5))\n",
        "sns.boxplot(x='loan_status_label', y='person_income', data=df, palette='Set3')\n",
        "plt.title('Renda por Status do Empréstimo')\n",
        "plt.xlabel('Status do Cliente')\n",
        "plt.ylabel('Renda')\n",
        "plt.show()\n",
        "\n",
        "# Mapa de calor de correlação entre variáveis numéricas\n",
        "plt.figure(figsize=(10,8))\n",
        "sns.heatmap(df.corr(numeric_only=True), annot=True, cmap='coolwarm', fmt=\".2f\")\n",
        "plt.title('Correlação entre variáveis numéricas')\n",
        "plt.show()\n"
      ],
      "metadata": {
        "colab": {
          "base_uri": "https://localhost:8080/",
          "height": 1000
        },
        "id": "c8yB35dW7kui",
        "outputId": "ef3d5174-80ec-49a4-e992-f715bd337af8"
      },
      "execution_count": 12,
      "outputs": [
        {
          "output_type": "stream",
          "name": "stdout",
          "text": [
            "Primeiras linhas do dataset:\n"
          ]
        },
        {
          "output_type": "display_data",
          "data": {
            "text/plain": [
              "   person_age  person_income person_home_ownership  person_emp_length  \\\n",
              "0          22          59000                  RENT              123.0   \n",
              "1          21           9600                   OWN                5.0   \n",
              "2          25           9600              MORTGAGE                1.0   \n",
              "3          23          65500                  RENT                4.0   \n",
              "4          24          54400                  RENT                8.0   \n",
              "\n",
              "  loan_intent loan_grade  loan_amnt  loan_int_rate  loan_status  \\\n",
              "0    PERSONAL          D      35000          16.02            1   \n",
              "1   EDUCATION          B       1000          11.14            0   \n",
              "2     MEDICAL          C       5500          12.87            1   \n",
              "3     MEDICAL          C      35000          15.23            1   \n",
              "4     MEDICAL          C      35000          14.27            1   \n",
              "\n",
              "   loan_percent_income cb_person_default_on_file  cb_person_cred_hist_length  \n",
              "0                 0.59                         Y                           3  \n",
              "1                 0.10                         N                           2  \n",
              "2                 0.57                         N                           3  \n",
              "3                 0.53                         N                           2  \n",
              "4                 0.55                         Y                           4  "
            ],
            "text/html": [
              "\n",
              "  <div id=\"df-958c1918-a374-4286-85a2-312462d03ab6\" class=\"colab-df-container\">\n",
              "    <div>\n",
              "<style scoped>\n",
              "    .dataframe tbody tr th:only-of-type {\n",
              "        vertical-align: middle;\n",
              "    }\n",
              "\n",
              "    .dataframe tbody tr th {\n",
              "        vertical-align: top;\n",
              "    }\n",
              "\n",
              "    .dataframe thead th {\n",
              "        text-align: right;\n",
              "    }\n",
              "</style>\n",
              "<table border=\"1\" class=\"dataframe\">\n",
              "  <thead>\n",
              "    <tr style=\"text-align: right;\">\n",
              "      <th></th>\n",
              "      <th>person_age</th>\n",
              "      <th>person_income</th>\n",
              "      <th>person_home_ownership</th>\n",
              "      <th>person_emp_length</th>\n",
              "      <th>loan_intent</th>\n",
              "      <th>loan_grade</th>\n",
              "      <th>loan_amnt</th>\n",
              "      <th>loan_int_rate</th>\n",
              "      <th>loan_status</th>\n",
              "      <th>loan_percent_income</th>\n",
              "      <th>cb_person_default_on_file</th>\n",
              "      <th>cb_person_cred_hist_length</th>\n",
              "    </tr>\n",
              "  </thead>\n",
              "  <tbody>\n",
              "    <tr>\n",
              "      <th>0</th>\n",
              "      <td>22</td>\n",
              "      <td>59000</td>\n",
              "      <td>RENT</td>\n",
              "      <td>123.0</td>\n",
              "      <td>PERSONAL</td>\n",
              "      <td>D</td>\n",
              "      <td>35000</td>\n",
              "      <td>16.02</td>\n",
              "      <td>1</td>\n",
              "      <td>0.59</td>\n",
              "      <td>Y</td>\n",
              "      <td>3</td>\n",
              "    </tr>\n",
              "    <tr>\n",
              "      <th>1</th>\n",
              "      <td>21</td>\n",
              "      <td>9600</td>\n",
              "      <td>OWN</td>\n",
              "      <td>5.0</td>\n",
              "      <td>EDUCATION</td>\n",
              "      <td>B</td>\n",
              "      <td>1000</td>\n",
              "      <td>11.14</td>\n",
              "      <td>0</td>\n",
              "      <td>0.10</td>\n",
              "      <td>N</td>\n",
              "      <td>2</td>\n",
              "    </tr>\n",
              "    <tr>\n",
              "      <th>2</th>\n",
              "      <td>25</td>\n",
              "      <td>9600</td>\n",
              "      <td>MORTGAGE</td>\n",
              "      <td>1.0</td>\n",
              "      <td>MEDICAL</td>\n",
              "      <td>C</td>\n",
              "      <td>5500</td>\n",
              "      <td>12.87</td>\n",
              "      <td>1</td>\n",
              "      <td>0.57</td>\n",
              "      <td>N</td>\n",
              "      <td>3</td>\n",
              "    </tr>\n",
              "    <tr>\n",
              "      <th>3</th>\n",
              "      <td>23</td>\n",
              "      <td>65500</td>\n",
              "      <td>RENT</td>\n",
              "      <td>4.0</td>\n",
              "      <td>MEDICAL</td>\n",
              "      <td>C</td>\n",
              "      <td>35000</td>\n",
              "      <td>15.23</td>\n",
              "      <td>1</td>\n",
              "      <td>0.53</td>\n",
              "      <td>N</td>\n",
              "      <td>2</td>\n",
              "    </tr>\n",
              "    <tr>\n",
              "      <th>4</th>\n",
              "      <td>24</td>\n",
              "      <td>54400</td>\n",
              "      <td>RENT</td>\n",
              "      <td>8.0</td>\n",
              "      <td>MEDICAL</td>\n",
              "      <td>C</td>\n",
              "      <td>35000</td>\n",
              "      <td>14.27</td>\n",
              "      <td>1</td>\n",
              "      <td>0.55</td>\n",
              "      <td>Y</td>\n",
              "      <td>4</td>\n",
              "    </tr>\n",
              "  </tbody>\n",
              "</table>\n",
              "</div>\n",
              "    <div class=\"colab-df-buttons\">\n",
              "\n",
              "  <div class=\"colab-df-container\">\n",
              "    <button class=\"colab-df-convert\" onclick=\"convertToInteractive('df-958c1918-a374-4286-85a2-312462d03ab6')\"\n",
              "            title=\"Convert this dataframe to an interactive table.\"\n",
              "            style=\"display:none;\">\n",
              "\n",
              "  <svg xmlns=\"http://www.w3.org/2000/svg\" height=\"24px\" viewBox=\"0 -960 960 960\">\n",
              "    <path d=\"M120-120v-720h720v720H120Zm60-500h600v-160H180v160Zm220 220h160v-160H400v160Zm0 220h160v-160H400v160ZM180-400h160v-160H180v160Zm440 0h160v-160H620v160ZM180-180h160v-160H180v160Zm440 0h160v-160H620v160Z\"/>\n",
              "  </svg>\n",
              "    </button>\n",
              "\n",
              "  <style>\n",
              "    .colab-df-container {\n",
              "      display:flex;\n",
              "      gap: 12px;\n",
              "    }\n",
              "\n",
              "    .colab-df-convert {\n",
              "      background-color: #E8F0FE;\n",
              "      border: none;\n",
              "      border-radius: 50%;\n",
              "      cursor: pointer;\n",
              "      display: none;\n",
              "      fill: #1967D2;\n",
              "      height: 32px;\n",
              "      padding: 0 0 0 0;\n",
              "      width: 32px;\n",
              "    }\n",
              "\n",
              "    .colab-df-convert:hover {\n",
              "      background-color: #E2EBFA;\n",
              "      box-shadow: 0px 1px 2px rgba(60, 64, 67, 0.3), 0px 1px 3px 1px rgba(60, 64, 67, 0.15);\n",
              "      fill: #174EA6;\n",
              "    }\n",
              "\n",
              "    .colab-df-buttons div {\n",
              "      margin-bottom: 4px;\n",
              "    }\n",
              "\n",
              "    [theme=dark] .colab-df-convert {\n",
              "      background-color: #3B4455;\n",
              "      fill: #D2E3FC;\n",
              "    }\n",
              "\n",
              "    [theme=dark] .colab-df-convert:hover {\n",
              "      background-color: #434B5C;\n",
              "      box-shadow: 0px 1px 3px 1px rgba(0, 0, 0, 0.15);\n",
              "      filter: drop-shadow(0px 1px 2px rgba(0, 0, 0, 0.3));\n",
              "      fill: #FFFFFF;\n",
              "    }\n",
              "  </style>\n",
              "\n",
              "    <script>\n",
              "      const buttonEl =\n",
              "        document.querySelector('#df-958c1918-a374-4286-85a2-312462d03ab6 button.colab-df-convert');\n",
              "      buttonEl.style.display =\n",
              "        google.colab.kernel.accessAllowed ? 'block' : 'none';\n",
              "\n",
              "      async function convertToInteractive(key) {\n",
              "        const element = document.querySelector('#df-958c1918-a374-4286-85a2-312462d03ab6');\n",
              "        const dataTable =\n",
              "          await google.colab.kernel.invokeFunction('convertToInteractive',\n",
              "                                                    [key], {});\n",
              "        if (!dataTable) return;\n",
              "\n",
              "        const docLinkHtml = 'Like what you see? Visit the ' +\n",
              "          '<a target=\"_blank\" href=https://colab.research.google.com/notebooks/data_table.ipynb>data table notebook</a>'\n",
              "          + ' to learn more about interactive tables.';\n",
              "        element.innerHTML = '';\n",
              "        dataTable['output_type'] = 'display_data';\n",
              "        await google.colab.output.renderOutput(dataTable, element);\n",
              "        const docLink = document.createElement('div');\n",
              "        docLink.innerHTML = docLinkHtml;\n",
              "        element.appendChild(docLink);\n",
              "      }\n",
              "    </script>\n",
              "  </div>\n",
              "\n",
              "\n",
              "    <div id=\"df-94633119-30ce-4e96-811c-14cbf1e062f6\">\n",
              "      <button class=\"colab-df-quickchart\" onclick=\"quickchart('df-94633119-30ce-4e96-811c-14cbf1e062f6')\"\n",
              "                title=\"Suggest charts\"\n",
              "                style=\"display:none;\">\n",
              "\n",
              "<svg xmlns=\"http://www.w3.org/2000/svg\" height=\"24px\"viewBox=\"0 0 24 24\"\n",
              "     width=\"24px\">\n",
              "    <g>\n",
              "        <path d=\"M19 3H5c-1.1 0-2 .9-2 2v14c0 1.1.9 2 2 2h14c1.1 0 2-.9 2-2V5c0-1.1-.9-2-2-2zM9 17H7v-7h2v7zm4 0h-2V7h2v10zm4 0h-2v-4h2v4z\"/>\n",
              "    </g>\n",
              "</svg>\n",
              "      </button>\n",
              "\n",
              "<style>\n",
              "  .colab-df-quickchart {\n",
              "      --bg-color: #E8F0FE;\n",
              "      --fill-color: #1967D2;\n",
              "      --hover-bg-color: #E2EBFA;\n",
              "      --hover-fill-color: #174EA6;\n",
              "      --disabled-fill-color: #AAA;\n",
              "      --disabled-bg-color: #DDD;\n",
              "  }\n",
              "\n",
              "  [theme=dark] .colab-df-quickchart {\n",
              "      --bg-color: #3B4455;\n",
              "      --fill-color: #D2E3FC;\n",
              "      --hover-bg-color: #434B5C;\n",
              "      --hover-fill-color: #FFFFFF;\n",
              "      --disabled-bg-color: #3B4455;\n",
              "      --disabled-fill-color: #666;\n",
              "  }\n",
              "\n",
              "  .colab-df-quickchart {\n",
              "    background-color: var(--bg-color);\n",
              "    border: none;\n",
              "    border-radius: 50%;\n",
              "    cursor: pointer;\n",
              "    display: none;\n",
              "    fill: var(--fill-color);\n",
              "    height: 32px;\n",
              "    padding: 0;\n",
              "    width: 32px;\n",
              "  }\n",
              "\n",
              "  .colab-df-quickchart:hover {\n",
              "    background-color: var(--hover-bg-color);\n",
              "    box-shadow: 0 1px 2px rgba(60, 64, 67, 0.3), 0 1px 3px 1px rgba(60, 64, 67, 0.15);\n",
              "    fill: var(--button-hover-fill-color);\n",
              "  }\n",
              "\n",
              "  .colab-df-quickchart-complete:disabled,\n",
              "  .colab-df-quickchart-complete:disabled:hover {\n",
              "    background-color: var(--disabled-bg-color);\n",
              "    fill: var(--disabled-fill-color);\n",
              "    box-shadow: none;\n",
              "  }\n",
              "\n",
              "  .colab-df-spinner {\n",
              "    border: 2px solid var(--fill-color);\n",
              "    border-color: transparent;\n",
              "    border-bottom-color: var(--fill-color);\n",
              "    animation:\n",
              "      spin 1s steps(1) infinite;\n",
              "  }\n",
              "\n",
              "  @keyframes spin {\n",
              "    0% {\n",
              "      border-color: transparent;\n",
              "      border-bottom-color: var(--fill-color);\n",
              "      border-left-color: var(--fill-color);\n",
              "    }\n",
              "    20% {\n",
              "      border-color: transparent;\n",
              "      border-left-color: var(--fill-color);\n",
              "      border-top-color: var(--fill-color);\n",
              "    }\n",
              "    30% {\n",
              "      border-color: transparent;\n",
              "      border-left-color: var(--fill-color);\n",
              "      border-top-color: var(--fill-color);\n",
              "      border-right-color: var(--fill-color);\n",
              "    }\n",
              "    40% {\n",
              "      border-color: transparent;\n",
              "      border-right-color: var(--fill-color);\n",
              "      border-top-color: var(--fill-color);\n",
              "    }\n",
              "    60% {\n",
              "      border-color: transparent;\n",
              "      border-right-color: var(--fill-color);\n",
              "    }\n",
              "    80% {\n",
              "      border-color: transparent;\n",
              "      border-right-color: var(--fill-color);\n",
              "      border-bottom-color: var(--fill-color);\n",
              "    }\n",
              "    90% {\n",
              "      border-color: transparent;\n",
              "      border-bottom-color: var(--fill-color);\n",
              "    }\n",
              "  }\n",
              "</style>\n",
              "\n",
              "      <script>\n",
              "        async function quickchart(key) {\n",
              "          const quickchartButtonEl =\n",
              "            document.querySelector('#' + key + ' button');\n",
              "          quickchartButtonEl.disabled = true;  // To prevent multiple clicks.\n",
              "          quickchartButtonEl.classList.add('colab-df-spinner');\n",
              "          try {\n",
              "            const charts = await google.colab.kernel.invokeFunction(\n",
              "                'suggestCharts', [key], {});\n",
              "          } catch (error) {\n",
              "            console.error('Error during call to suggestCharts:', error);\n",
              "          }\n",
              "          quickchartButtonEl.classList.remove('colab-df-spinner');\n",
              "          quickchartButtonEl.classList.add('colab-df-quickchart-complete');\n",
              "        }\n",
              "        (() => {\n",
              "          let quickchartButtonEl =\n",
              "            document.querySelector('#df-94633119-30ce-4e96-811c-14cbf1e062f6 button');\n",
              "          quickchartButtonEl.style.display =\n",
              "            google.colab.kernel.accessAllowed ? 'block' : 'none';\n",
              "        })();\n",
              "      </script>\n",
              "    </div>\n",
              "\n",
              "    </div>\n",
              "  </div>\n"
            ],
            "application/vnd.google.colaboratory.intrinsic+json": {
              "type": "dataframe",
              "summary": "{\n  \"name\": \"plt\",\n  \"rows\": 5,\n  \"fields\": [\n    {\n      \"column\": \"person_age\",\n      \"properties\": {\n        \"dtype\": \"number\",\n        \"std\": 1,\n        \"min\": 21,\n        \"max\": 25,\n        \"num_unique_values\": 5,\n        \"samples\": [\n          21,\n          24,\n          25\n        ],\n        \"semantic_type\": \"\",\n        \"description\": \"\"\n      }\n    },\n    {\n      \"column\": \"person_income\",\n      \"properties\": {\n        \"dtype\": \"number\",\n        \"std\": 27686,\n        \"min\": 9600,\n        \"max\": 65500,\n        \"num_unique_values\": 4,\n        \"samples\": [\n          9600,\n          54400,\n          59000\n        ],\n        \"semantic_type\": \"\",\n        \"description\": \"\"\n      }\n    },\n    {\n      \"column\": \"person_home_ownership\",\n      \"properties\": {\n        \"dtype\": \"string\",\n        \"num_unique_values\": 3,\n        \"samples\": [\n          \"RENT\",\n          \"OWN\",\n          \"MORTGAGE\"\n        ],\n        \"semantic_type\": \"\",\n        \"description\": \"\"\n      }\n    },\n    {\n      \"column\": \"person_emp_length\",\n      \"properties\": {\n        \"dtype\": \"number\",\n        \"std\": 53.0537463333175,\n        \"min\": 1.0,\n        \"max\": 123.0,\n        \"num_unique_values\": 5,\n        \"samples\": [\n          5.0,\n          8.0,\n          1.0\n        ],\n        \"semantic_type\": \"\",\n        \"description\": \"\"\n      }\n    },\n    {\n      \"column\": \"loan_intent\",\n      \"properties\": {\n        \"dtype\": \"string\",\n        \"num_unique_values\": 3,\n        \"samples\": [\n          \"PERSONAL\",\n          \"EDUCATION\",\n          \"MEDICAL\"\n        ],\n        \"semantic_type\": \"\",\n        \"description\": \"\"\n      }\n    },\n    {\n      \"column\": \"loan_grade\",\n      \"properties\": {\n        \"dtype\": \"string\",\n        \"num_unique_values\": 3,\n        \"samples\": [\n          \"D\",\n          \"B\",\n          \"C\"\n        ],\n        \"semantic_type\": \"\",\n        \"description\": \"\"\n      }\n    },\n    {\n      \"column\": \"loan_amnt\",\n      \"properties\": {\n        \"dtype\": \"number\",\n        \"std\": 17462,\n        \"min\": 1000,\n        \"max\": 35000,\n        \"num_unique_values\": 3,\n        \"samples\": [\n          35000,\n          1000,\n          5500\n        ],\n        \"semantic_type\": \"\",\n        \"description\": \"\"\n      }\n    },\n    {\n      \"column\": \"loan_int_rate\",\n      \"properties\": {\n        \"dtype\": \"number\",\n        \"std\": 1.9415535017093912,\n        \"min\": 11.14,\n        \"max\": 16.02,\n        \"num_unique_values\": 5,\n        \"samples\": [\n          11.14,\n          14.27,\n          12.87\n        ],\n        \"semantic_type\": \"\",\n        \"description\": \"\"\n      }\n    },\n    {\n      \"column\": \"loan_status\",\n      \"properties\": {\n        \"dtype\": \"number\",\n        \"std\": 0,\n        \"min\": 0,\n        \"max\": 1,\n        \"num_unique_values\": 2,\n        \"samples\": [\n          0,\n          1\n        ],\n        \"semantic_type\": \"\",\n        \"description\": \"\"\n      }\n    },\n    {\n      \"column\": \"loan_percent_income\",\n      \"properties\": {\n        \"dtype\": \"number\",\n        \"std\": 0.20692993983471797,\n        \"min\": 0.1,\n        \"max\": 0.59,\n        \"num_unique_values\": 5,\n        \"samples\": [\n          0.1,\n          0.55\n        ],\n        \"semantic_type\": \"\",\n        \"description\": \"\"\n      }\n    },\n    {\n      \"column\": \"cb_person_default_on_file\",\n      \"properties\": {\n        \"dtype\": \"category\",\n        \"num_unique_values\": 2,\n        \"samples\": [\n          \"N\",\n          \"Y\"\n        ],\n        \"semantic_type\": \"\",\n        \"description\": \"\"\n      }\n    },\n    {\n      \"column\": \"cb_person_cred_hist_length\",\n      \"properties\": {\n        \"dtype\": \"number\",\n        \"std\": 0,\n        \"min\": 2,\n        \"max\": 4,\n        \"num_unique_values\": 3,\n        \"samples\": [\n          3,\n          2\n        ],\n        \"semantic_type\": \"\",\n        \"description\": \"\"\n      }\n    }\n  ]\n}"
            }
          },
          "metadata": {}
        },
        {
          "output_type": "stream",
          "name": "stdout",
          "text": [
            "Informações do DataFrame:\n",
            "<class 'pandas.core.frame.DataFrame'>\n",
            "Index: 28501 entries, 0 to 32580\n",
            "Data columns (total 12 columns):\n",
            " #   Column                      Non-Null Count  Dtype  \n",
            "---  ------                      --------------  -----  \n",
            " 0   person_age                  28501 non-null  int64  \n",
            " 1   person_income               28501 non-null  int64  \n",
            " 2   person_home_ownership       28501 non-null  object \n",
            " 3   person_emp_length           28501 non-null  float64\n",
            " 4   loan_intent                 28501 non-null  object \n",
            " 5   loan_grade                  28501 non-null  object \n",
            " 6   loan_amnt                   28501 non-null  int64  \n",
            " 7   loan_int_rate               28501 non-null  float64\n",
            " 8   loan_status                 28501 non-null  int64  \n",
            " 9   loan_percent_income         28501 non-null  float64\n",
            " 10  cb_person_default_on_file   28501 non-null  object \n",
            " 11  cb_person_cred_hist_length  28501 non-null  int64  \n",
            "dtypes: float64(3), int64(5), object(4)\n",
            "memory usage: 2.8+ MB\n",
            "Estatísticas descritivas:\n"
          ]
        },
        {
          "output_type": "display_data",
          "data": {
            "text/plain": [
              "         person_age  person_income  person_emp_length     loan_amnt  \\\n",
              "count  28501.000000   2.850100e+04       28501.000000  28501.000000   \n",
              "mean      27.738676   6.665441e+04           4.790148   9658.533034   \n",
              "std        6.316166   6.237603e+04           4.157462   6329.604672   \n",
              "min       20.000000   4.000000e+03           0.000000    500.000000   \n",
              "25%       23.000000   3.950000e+04           2.000000   5000.000000   \n",
              "50%       26.000000   5.600000e+04           4.000000   8000.000000   \n",
              "75%       30.000000   8.000000e+04           7.000000  12500.000000   \n",
              "max      144.000000   6.000000e+06         123.000000  35000.000000   \n",
              "\n",
              "       loan_int_rate   loan_status  loan_percent_income  \\\n",
              "count   28501.000000  28501.000000         28501.000000   \n",
              "mean       11.045385      0.217115             0.169517   \n",
              "std         3.230748      0.412289             0.106410   \n",
              "min         5.420000      0.000000             0.000000   \n",
              "25%         7.900000      0.000000             0.090000   \n",
              "50%        10.990000      0.000000             0.150000   \n",
              "75%        13.480000      0.000000             0.230000   \n",
              "max        23.220000      1.000000             0.830000   \n",
              "\n",
              "       cb_person_cred_hist_length  \n",
              "count                28501.000000  \n",
              "mean                     5.800498  \n",
              "std                      4.042153  \n",
              "min                      2.000000  \n",
              "25%                      3.000000  \n",
              "50%                      4.000000  \n",
              "75%                      8.000000  \n",
              "max                     30.000000  "
            ],
            "text/html": [
              "\n",
              "  <div id=\"df-1931913f-2499-466c-92d9-55879567d073\" class=\"colab-df-container\">\n",
              "    <div>\n",
              "<style scoped>\n",
              "    .dataframe tbody tr th:only-of-type {\n",
              "        vertical-align: middle;\n",
              "    }\n",
              "\n",
              "    .dataframe tbody tr th {\n",
              "        vertical-align: top;\n",
              "    }\n",
              "\n",
              "    .dataframe thead th {\n",
              "        text-align: right;\n",
              "    }\n",
              "</style>\n",
              "<table border=\"1\" class=\"dataframe\">\n",
              "  <thead>\n",
              "    <tr style=\"text-align: right;\">\n",
              "      <th></th>\n",
              "      <th>person_age</th>\n",
              "      <th>person_income</th>\n",
              "      <th>person_emp_length</th>\n",
              "      <th>loan_amnt</th>\n",
              "      <th>loan_int_rate</th>\n",
              "      <th>loan_status</th>\n",
              "      <th>loan_percent_income</th>\n",
              "      <th>cb_person_cred_hist_length</th>\n",
              "    </tr>\n",
              "  </thead>\n",
              "  <tbody>\n",
              "    <tr>\n",
              "      <th>count</th>\n",
              "      <td>28501.000000</td>\n",
              "      <td>2.850100e+04</td>\n",
              "      <td>28501.000000</td>\n",
              "      <td>28501.000000</td>\n",
              "      <td>28501.000000</td>\n",
              "      <td>28501.000000</td>\n",
              "      <td>28501.000000</td>\n",
              "      <td>28501.000000</td>\n",
              "    </tr>\n",
              "    <tr>\n",
              "      <th>mean</th>\n",
              "      <td>27.738676</td>\n",
              "      <td>6.665441e+04</td>\n",
              "      <td>4.790148</td>\n",
              "      <td>9658.533034</td>\n",
              "      <td>11.045385</td>\n",
              "      <td>0.217115</td>\n",
              "      <td>0.169517</td>\n",
              "      <td>5.800498</td>\n",
              "    </tr>\n",
              "    <tr>\n",
              "      <th>std</th>\n",
              "      <td>6.316166</td>\n",
              "      <td>6.237603e+04</td>\n",
              "      <td>4.157462</td>\n",
              "      <td>6329.604672</td>\n",
              "      <td>3.230748</td>\n",
              "      <td>0.412289</td>\n",
              "      <td>0.106410</td>\n",
              "      <td>4.042153</td>\n",
              "    </tr>\n",
              "    <tr>\n",
              "      <th>min</th>\n",
              "      <td>20.000000</td>\n",
              "      <td>4.000000e+03</td>\n",
              "      <td>0.000000</td>\n",
              "      <td>500.000000</td>\n",
              "      <td>5.420000</td>\n",
              "      <td>0.000000</td>\n",
              "      <td>0.000000</td>\n",
              "      <td>2.000000</td>\n",
              "    </tr>\n",
              "    <tr>\n",
              "      <th>25%</th>\n",
              "      <td>23.000000</td>\n",
              "      <td>3.950000e+04</td>\n",
              "      <td>2.000000</td>\n",
              "      <td>5000.000000</td>\n",
              "      <td>7.900000</td>\n",
              "      <td>0.000000</td>\n",
              "      <td>0.090000</td>\n",
              "      <td>3.000000</td>\n",
              "    </tr>\n",
              "    <tr>\n",
              "      <th>50%</th>\n",
              "      <td>26.000000</td>\n",
              "      <td>5.600000e+04</td>\n",
              "      <td>4.000000</td>\n",
              "      <td>8000.000000</td>\n",
              "      <td>10.990000</td>\n",
              "      <td>0.000000</td>\n",
              "      <td>0.150000</td>\n",
              "      <td>4.000000</td>\n",
              "    </tr>\n",
              "    <tr>\n",
              "      <th>75%</th>\n",
              "      <td>30.000000</td>\n",
              "      <td>8.000000e+04</td>\n",
              "      <td>7.000000</td>\n",
              "      <td>12500.000000</td>\n",
              "      <td>13.480000</td>\n",
              "      <td>0.000000</td>\n",
              "      <td>0.230000</td>\n",
              "      <td>8.000000</td>\n",
              "    </tr>\n",
              "    <tr>\n",
              "      <th>max</th>\n",
              "      <td>144.000000</td>\n",
              "      <td>6.000000e+06</td>\n",
              "      <td>123.000000</td>\n",
              "      <td>35000.000000</td>\n",
              "      <td>23.220000</td>\n",
              "      <td>1.000000</td>\n",
              "      <td>0.830000</td>\n",
              "      <td>30.000000</td>\n",
              "    </tr>\n",
              "  </tbody>\n",
              "</table>\n",
              "</div>\n",
              "    <div class=\"colab-df-buttons\">\n",
              "\n",
              "  <div class=\"colab-df-container\">\n",
              "    <button class=\"colab-df-convert\" onclick=\"convertToInteractive('df-1931913f-2499-466c-92d9-55879567d073')\"\n",
              "            title=\"Convert this dataframe to an interactive table.\"\n",
              "            style=\"display:none;\">\n",
              "\n",
              "  <svg xmlns=\"http://www.w3.org/2000/svg\" height=\"24px\" viewBox=\"0 -960 960 960\">\n",
              "    <path d=\"M120-120v-720h720v720H120Zm60-500h600v-160H180v160Zm220 220h160v-160H400v160Zm0 220h160v-160H400v160ZM180-400h160v-160H180v160Zm440 0h160v-160H620v160ZM180-180h160v-160H180v160Zm440 0h160v-160H620v160Z\"/>\n",
              "  </svg>\n",
              "    </button>\n",
              "\n",
              "  <style>\n",
              "    .colab-df-container {\n",
              "      display:flex;\n",
              "      gap: 12px;\n",
              "    }\n",
              "\n",
              "    .colab-df-convert {\n",
              "      background-color: #E8F0FE;\n",
              "      border: none;\n",
              "      border-radius: 50%;\n",
              "      cursor: pointer;\n",
              "      display: none;\n",
              "      fill: #1967D2;\n",
              "      height: 32px;\n",
              "      padding: 0 0 0 0;\n",
              "      width: 32px;\n",
              "    }\n",
              "\n",
              "    .colab-df-convert:hover {\n",
              "      background-color: #E2EBFA;\n",
              "      box-shadow: 0px 1px 2px rgba(60, 64, 67, 0.3), 0px 1px 3px 1px rgba(60, 64, 67, 0.15);\n",
              "      fill: #174EA6;\n",
              "    }\n",
              "\n",
              "    .colab-df-buttons div {\n",
              "      margin-bottom: 4px;\n",
              "    }\n",
              "\n",
              "    [theme=dark] .colab-df-convert {\n",
              "      background-color: #3B4455;\n",
              "      fill: #D2E3FC;\n",
              "    }\n",
              "\n",
              "    [theme=dark] .colab-df-convert:hover {\n",
              "      background-color: #434B5C;\n",
              "      box-shadow: 0px 1px 3px 1px rgba(0, 0, 0, 0.15);\n",
              "      filter: drop-shadow(0px 1px 2px rgba(0, 0, 0, 0.3));\n",
              "      fill: #FFFFFF;\n",
              "    }\n",
              "  </style>\n",
              "\n",
              "    <script>\n",
              "      const buttonEl =\n",
              "        document.querySelector('#df-1931913f-2499-466c-92d9-55879567d073 button.colab-df-convert');\n",
              "      buttonEl.style.display =\n",
              "        google.colab.kernel.accessAllowed ? 'block' : 'none';\n",
              "\n",
              "      async function convertToInteractive(key) {\n",
              "        const element = document.querySelector('#df-1931913f-2499-466c-92d9-55879567d073');\n",
              "        const dataTable =\n",
              "          await google.colab.kernel.invokeFunction('convertToInteractive',\n",
              "                                                    [key], {});\n",
              "        if (!dataTable) return;\n",
              "\n",
              "        const docLinkHtml = 'Like what you see? Visit the ' +\n",
              "          '<a target=\"_blank\" href=https://colab.research.google.com/notebooks/data_table.ipynb>data table notebook</a>'\n",
              "          + ' to learn more about interactive tables.';\n",
              "        element.innerHTML = '';\n",
              "        dataTable['output_type'] = 'display_data';\n",
              "        await google.colab.output.renderOutput(dataTable, element);\n",
              "        const docLink = document.createElement('div');\n",
              "        docLink.innerHTML = docLinkHtml;\n",
              "        element.appendChild(docLink);\n",
              "      }\n",
              "    </script>\n",
              "  </div>\n",
              "\n",
              "\n",
              "    <div id=\"df-5c60d4ae-28e2-436e-a011-49f64160fe9d\">\n",
              "      <button class=\"colab-df-quickchart\" onclick=\"quickchart('df-5c60d4ae-28e2-436e-a011-49f64160fe9d')\"\n",
              "                title=\"Suggest charts\"\n",
              "                style=\"display:none;\">\n",
              "\n",
              "<svg xmlns=\"http://www.w3.org/2000/svg\" height=\"24px\"viewBox=\"0 0 24 24\"\n",
              "     width=\"24px\">\n",
              "    <g>\n",
              "        <path d=\"M19 3H5c-1.1 0-2 .9-2 2v14c0 1.1.9 2 2 2h14c1.1 0 2-.9 2-2V5c0-1.1-.9-2-2-2zM9 17H7v-7h2v7zm4 0h-2V7h2v10zm4 0h-2v-4h2v4z\"/>\n",
              "    </g>\n",
              "</svg>\n",
              "      </button>\n",
              "\n",
              "<style>\n",
              "  .colab-df-quickchart {\n",
              "      --bg-color: #E8F0FE;\n",
              "      --fill-color: #1967D2;\n",
              "      --hover-bg-color: #E2EBFA;\n",
              "      --hover-fill-color: #174EA6;\n",
              "      --disabled-fill-color: #AAA;\n",
              "      --disabled-bg-color: #DDD;\n",
              "  }\n",
              "\n",
              "  [theme=dark] .colab-df-quickchart {\n",
              "      --bg-color: #3B4455;\n",
              "      --fill-color: #D2E3FC;\n",
              "      --hover-bg-color: #434B5C;\n",
              "      --hover-fill-color: #FFFFFF;\n",
              "      --disabled-bg-color: #3B4455;\n",
              "      --disabled-fill-color: #666;\n",
              "  }\n",
              "\n",
              "  .colab-df-quickchart {\n",
              "    background-color: var(--bg-color);\n",
              "    border: none;\n",
              "    border-radius: 50%;\n",
              "    cursor: pointer;\n",
              "    display: none;\n",
              "    fill: var(--fill-color);\n",
              "    height: 32px;\n",
              "    padding: 0;\n",
              "    width: 32px;\n",
              "  }\n",
              "\n",
              "  .colab-df-quickchart:hover {\n",
              "    background-color: var(--hover-bg-color);\n",
              "    box-shadow: 0 1px 2px rgba(60, 64, 67, 0.3), 0 1px 3px 1px rgba(60, 64, 67, 0.15);\n",
              "    fill: var(--button-hover-fill-color);\n",
              "  }\n",
              "\n",
              "  .colab-df-quickchart-complete:disabled,\n",
              "  .colab-df-quickchart-complete:disabled:hover {\n",
              "    background-color: var(--disabled-bg-color);\n",
              "    fill: var(--disabled-fill-color);\n",
              "    box-shadow: none;\n",
              "  }\n",
              "\n",
              "  .colab-df-spinner {\n",
              "    border: 2px solid var(--fill-color);\n",
              "    border-color: transparent;\n",
              "    border-bottom-color: var(--fill-color);\n",
              "    animation:\n",
              "      spin 1s steps(1) infinite;\n",
              "  }\n",
              "\n",
              "  @keyframes spin {\n",
              "    0% {\n",
              "      border-color: transparent;\n",
              "      border-bottom-color: var(--fill-color);\n",
              "      border-left-color: var(--fill-color);\n",
              "    }\n",
              "    20% {\n",
              "      border-color: transparent;\n",
              "      border-left-color: var(--fill-color);\n",
              "      border-top-color: var(--fill-color);\n",
              "    }\n",
              "    30% {\n",
              "      border-color: transparent;\n",
              "      border-left-color: var(--fill-color);\n",
              "      border-top-color: var(--fill-color);\n",
              "      border-right-color: var(--fill-color);\n",
              "    }\n",
              "    40% {\n",
              "      border-color: transparent;\n",
              "      border-right-color: var(--fill-color);\n",
              "      border-top-color: var(--fill-color);\n",
              "    }\n",
              "    60% {\n",
              "      border-color: transparent;\n",
              "      border-right-color: var(--fill-color);\n",
              "    }\n",
              "    80% {\n",
              "      border-color: transparent;\n",
              "      border-right-color: var(--fill-color);\n",
              "      border-bottom-color: var(--fill-color);\n",
              "    }\n",
              "    90% {\n",
              "      border-color: transparent;\n",
              "      border-bottom-color: var(--fill-color);\n",
              "    }\n",
              "  }\n",
              "</style>\n",
              "\n",
              "      <script>\n",
              "        async function quickchart(key) {\n",
              "          const quickchartButtonEl =\n",
              "            document.querySelector('#' + key + ' button');\n",
              "          quickchartButtonEl.disabled = true;  // To prevent multiple clicks.\n",
              "          quickchartButtonEl.classList.add('colab-df-spinner');\n",
              "          try {\n",
              "            const charts = await google.colab.kernel.invokeFunction(\n",
              "                'suggestCharts', [key], {});\n",
              "          } catch (error) {\n",
              "            console.error('Error during call to suggestCharts:', error);\n",
              "          }\n",
              "          quickchartButtonEl.classList.remove('colab-df-spinner');\n",
              "          quickchartButtonEl.classList.add('colab-df-quickchart-complete');\n",
              "        }\n",
              "        (() => {\n",
              "          let quickchartButtonEl =\n",
              "            document.querySelector('#df-5c60d4ae-28e2-436e-a011-49f64160fe9d button');\n",
              "          quickchartButtonEl.style.display =\n",
              "            google.colab.kernel.accessAllowed ? 'block' : 'none';\n",
              "        })();\n",
              "      </script>\n",
              "    </div>\n",
              "\n",
              "    </div>\n",
              "  </div>\n"
            ],
            "application/vnd.google.colaboratory.intrinsic+json": {
              "type": "dataframe",
              "summary": "{\n  \"name\": \"plt\",\n  \"rows\": 8,\n  \"fields\": [\n    {\n      \"column\": \"person_age\",\n      \"properties\": {\n        \"dtype\": \"number\",\n        \"std\": 10062.724682624828,\n        \"min\": 6.316165996802397,\n        \"max\": 28501.0,\n        \"num_unique_values\": 8,\n        \"samples\": [\n          27.73867583593558,\n          26.0,\n          28501.0\n        ],\n        \"semantic_type\": \"\",\n        \"description\": \"\"\n      }\n    },\n    {\n      \"column\": \"person_income\",\n      \"properties\": {\n        \"dtype\": \"number\",\n        \"std\": 2104434.508475559,\n        \"min\": 4000.0,\n        \"max\": 6000000.0,\n        \"num_unique_values\": 8,\n        \"samples\": [\n          66654.4113189011,\n          56000.0,\n          28501.0\n        ],\n        \"semantic_type\": \"\",\n        \"description\": \"\"\n      }\n    },\n    {\n      \"column\": \"person_emp_length\",\n      \"properties\": {\n        \"dtype\": \"number\",\n        \"std\": 10069.391029435263,\n        \"min\": 0.0,\n        \"max\": 28501.0,\n        \"num_unique_values\": 8,\n        \"samples\": [\n          4.790147714115294,\n          4.0,\n          28501.0\n        ],\n        \"semantic_type\": \"\",\n        \"description\": \"\"\n      }\n    },\n    {\n      \"column\": \"loan_amnt\",\n      \"properties\": {\n        \"dtype\": \"number\",\n        \"std\": 12101.731782412411,\n        \"min\": 500.0,\n        \"max\": 35000.0,\n        \"num_unique_values\": 8,\n        \"samples\": [\n          9658.533033928634,\n          8000.0,\n          28501.0\n        ],\n        \"semantic_type\": \"\",\n        \"description\": \"\"\n      }\n    },\n    {\n      \"column\": \"loan_int_rate\",\n      \"properties\": {\n        \"dtype\": \"number\",\n        \"std\": 10072.824477923117,\n        \"min\": 3.2307479743726657,\n        \"max\": 28501.0,\n        \"num_unique_values\": 8,\n        \"samples\": [\n          11.045384723343041,\n          10.99,\n          28501.0\n        ],\n        \"semantic_type\": \"\",\n        \"description\": \"\"\n      }\n    },\n    {\n      \"column\": \"loan_status\",\n      \"properties\": {\n        \"dtype\": \"number\",\n        \"std\": 10076.542893903033,\n        \"min\": 0.0,\n        \"max\": 28501.0,\n        \"num_unique_values\": 5,\n        \"samples\": [\n          0.21711518894073892,\n          1.0,\n          0.41228891295869075\n        ],\n        \"semantic_type\": \"\",\n        \"description\": \"\"\n      }\n    },\n    {\n      \"column\": \"loan_percent_income\",\n      \"properties\": {\n        \"dtype\": \"number\",\n        \"std\": 10076.545592218452,\n        \"min\": 0.0,\n        \"max\": 28501.0,\n        \"num_unique_values\": 8,\n        \"samples\": [\n          0.16951650819269498,\n          0.15,\n          28501.0\n        ],\n        \"semantic_type\": \"\",\n        \"description\": \"\"\n      }\n    },\n    {\n      \"column\": \"cb_person_cred_hist_length\",\n      \"properties\": {\n        \"dtype\": \"number\",\n        \"std\": 10073.758320294372,\n        \"min\": 2.0,\n        \"max\": 28501.0,\n        \"num_unique_values\": 8,\n        \"samples\": [\n          5.800498228132346,\n          4.0,\n          28501.0\n        ],\n        \"semantic_type\": \"\",\n        \"description\": \"\"\n      }\n    }\n  ]\n}"
            }
          },
          "metadata": {}
        },
        {
          "output_type": "stream",
          "name": "stdout",
          "text": [
            "Distribuição da variável loan_status:\n",
            "loan_status\n",
            "0    22313\n",
            "1     6188\n",
            "Name: count, dtype: int64\n"
          ]
        },
        {
          "output_type": "stream",
          "name": "stderr",
          "text": [
            "<ipython-input-12-56b500a55372>:27: FutureWarning: \n",
            "\n",
            "Passing `palette` without assigning `hue` is deprecated and will be removed in v0.14.0. Assign the `x` variable to `hue` and set `legend=False` for the same effect.\n",
            "\n",
            "  sns.countplot(x='loan_status_label', data=df, palette='Set2')\n"
          ]
        },
        {
          "output_type": "display_data",
          "data": {
            "text/plain": [
              "<Figure size 600x400 with 1 Axes>"
            ],
            "image/png": "[encoded data removed]"
          },
          "metadata": {}
        },
        {
          "output_type": "display_data",
          "data": {
            "text/plain": [
              "<Figure size 600x400 with 1 Axes>"
            ],
            "image/png": "[encoded data removed]"
          },
          "metadata": {}
        },
        {
          "output_type": "stream",
          "name": "stderr",
          "text": [
            "<ipython-input-12-56b500a55372>:43: FutureWarning: \n",
            "\n",
            "Passing `palette` without assigning `hue` is deprecated and will be removed in v0.14.0. Assign the `x` variable to `hue` and set `legend=False` for the same effect.\n",
            "\n",
            "  sns.boxplot(x='loan_status_label', y='person_income', data=df, palette='Set3')\n"
          ]
        },
        {
          "output_type": "display_data",
          "data": {
            "text/plain": [
              "<Figure size 800x500 with 1 Axes>"
            ],
            "image/png": "[encoded data removed]"
          },
          "metadata": {}
        },
        {
          "output_type": "display_data",
          "data": {
            "text/plain": [
              "<Figure size 1000x800 with 2 Axes>"
            ],
            "image/png": "[encoded data removed]"
          },
          "metadata": {}
        }
      ]
    },
    {
      "cell_type": "code",
      "source": [],
      "metadata": {
        "id": "Ts8Ier9rE4Ul"
      },
      "execution_count": 12,
      "outputs": []
    },
    {
      "cell_type": "markdown",
      "source": [
        "# Análise dos Graficos:\n",
        "\n",
        "1) A quantidade de clientes que pagaram os empréstimos é consideravelmente maior do que a de inadimplentes, indicando um forte desbalanceamento. Isso mostra que a inadimplência não é comum neste conjunto de dados, o que pode influenciar negativamente o desempenho de modelos preditivos se não for tratado.\n",
        "\n",
        "2) Empréstimos são consideravelmente maiores entre pessoas de 20 a 30 anos, seguidos de uma queda gradual dos 30 aos 50 anos. Isso mostra que jovens adultos são o público mais frequente na concessão de crédito neste dataset.\n",
        "\n",
        "3) A mediana de renda é semelhante entre os clientes adimplentes e inadimplentes. No entanto, o grupo dos adimplentes apresenta mais outliers de alta renda, o que pode indicar que a renda, isoladamente, não é um preditor forte de inadimplência neste caso.\n",
        "\n",
        "4) A variável loan_status apresenta correlações positivas com loan_percent_income e loan_int_rate, o que indica que quanto maior a taxa de juros e a porcentagem da renda comprometida, maior a chance de inadimplência.\n",
        "Já a correlação com person_income é negativa (embora fraca), o que sugere que quanto maior a renda do cliente, menor a chance de inadimplência. Apesar de não serem correlações fortes, os sinais estão alinhados com o que se espera do comportamento financeiro."
      ],
      "metadata": {
        "id": "kiRiTN-eE2Us"
      }
    },
    {
      "cell_type": "markdown",
      "source": [
        "# Pré-processamento dos dados para machine learning"
      ],
      "metadata": {
        "id": "qgewRBiuwAsb"
      }
    },
    {
      "cell_type": "markdown",
      "source": [
        "1. **Lidar com valores nulos**"
      ],
      "metadata": {
        "id": "yROcewqr0jLl"
      }
    },
    {
      "cell_type": "code",
      "source": [
        "print(df.isnull().sum())\n"
      ],
      "metadata": {
        "colab": {
          "base_uri": "https://localhost:8080/"
        },
        "id": "eaQyNJejzu9K",
        "outputId": "b7ab9550-32b4-434c-acdc-3d9a1298d0f0"
      },
      "execution_count": 13,
      "outputs": [
        {
          "output_type": "stream",
          "name": "stdout",
          "text": [
            "person_age                    0\n",
            "person_income                 0\n",
            "person_home_ownership         0\n",
            "person_emp_length             0\n",
            "loan_intent                   0\n",
            "loan_grade                    0\n",
            "loan_amnt                     0\n",
            "loan_int_rate                 0\n",
            "loan_status                   0\n",
            "loan_percent_income           0\n",
            "cb_person_default_on_file     0\n",
            "cb_person_cred_hist_length    0\n",
            "loan_status_label             0\n",
            "dtype: int64\n"
          ]
        }
      ]
    },
    {
      "cell_type": "code",
      "source": [
        "# Exemplo: preencher valores nulos da experiência com a mediana\n",
        "df['person_emp_length'].fillna(df['person_emp_length'].median(), inplace=True)\n",
        "\n",
        "\n",
        "\n",
        "# Se tiver outros nulos, repita esse processo ou exclua as linhas\n",
        "df.dropna(inplace=True)  # Só se forem poucos casos\n"
      ],
      "metadata": {
        "colab": {
          "base_uri": "https://localhost:8080/"
        },
        "id": "JsXWXJIlz0is",
        "outputId": "c1a98c47-f206-41cb-900b-8e547ba7b718"
      },
      "execution_count": 14,
      "outputs": [
        {
          "output_type": "stream",
          "name": "stderr",
          "text": [
            "<ipython-input-14-41aec68e7e30>:2: FutureWarning: A value is trying to be set on a copy of a DataFrame or Series through chained assignment using an inplace method.\n",
            "The behavior will change in pandas 3.0. This inplace method will never work because the intermediate object on which we are setting values always behaves as a copy.\n",
            "\n",
            "For example, when doing 'df[col].method(value, inplace=True)', try using 'df.method({col: value}, inplace=True)' or df[col] = df[col].method(value) instead, to perform the operation inplace on the original object.\n",
            "\n",
            "\n",
            "  df['person_emp_length'].fillna(df['person_emp_length'].median(), inplace=True)\n"
          ]
        }
      ]
    },
    {
      "cell_type": "code",
      "source": [
        "df.dropna(inplace=True)  # Remove linhas com nulos\n",
        "    # ... outras operações ...\n",
        "df_encoded = pd.get_dummies(df, columns=[\n",
        "    'person_home_ownership',\n",
        "    'loan_intent',\n",
        "    'loan_grade',\n",
        "    'cb_person_default_on_file'\n",
        "], drop_first=True)\n",
        "    # ... outras operações ...\n",
        "X=df_encoded.drop(columns=['loan_status'])\n",
        "    # ... train_test_split(X, y, ...)\n",
        "    # ... SMOTE(X_train, y_train)"
      ],
      "metadata": {
        "id": "DK-KfoU5x2vx"
      },
      "execution_count": 15,
      "outputs": []
    },
    {
      "cell_type": "markdown",
      "source": [
        "2. **Codificar variáveis categóricas**"
      ],
      "metadata": {
        "id": "_PY7LsKS0rRC"
      }
    },
    {
      "cell_type": "code",
      "source": [
        "# Usando pd.get_dummies (One-hot encoding)\n",
        "df_encoded=pd.get_dummies(df, columns=[\n",
        "    'person_home_ownership',\n",
        "    'loan_intent',\n",
        "    'loan_grade',\n",
        "    'cb_person_default_on_file'\n",
        "], drop_first=True)\n"
      ],
      "metadata": {
        "id": "zIMlqa2Wz27O"
      },
      "execution_count": 16,
      "outputs": []
    },
    {
      "cell_type": "markdown",
      "source": [
        "3. **Selecionar variáveis para o modelo**"
      ],
      "metadata": {
        "id": "3oyeN-7K0wOz"
      }
    },
    {
      "cell_type": "code",
      "source": [
        "# Features (todas as colunas, exceto o alvo)\n",
        "X = df_encoded.drop(columns=['loan_status'])\n",
        "\n",
        "\n",
        "# Alvo\n",
        "y = df_encoded['loan_status']\n"
      ],
      "metadata": {
        "id": "7D5dfXmIz-uS"
      },
      "execution_count": 17,
      "outputs": []
    },
    {
      "cell_type": "markdown",
      "source": [
        "4. **Separar em treino e teste**\n"
      ],
      "metadata": {
        "id": "xkwtaIk70zml"
      }
    },
    {
      "cell_type": "code",
      "source": [
        "from sklearn.model_selection import train_test_split\n",
        "\n",
        "X_train, X_test, y_train, y_test = train_test_split(\n",
        "    X, y, test_size=0.2, random_state=42, stratify=y\n",
        ")\n"
      ],
      "metadata": {
        "id": "rBS1rXiJ0Bxq"
      },
      "execution_count": 18,
      "outputs": []
    },
    {
      "cell_type": "code",
      "source": [
        "print(\"Colunas e tipos em df antes do get_dummies:\")\n",
        "print(df.dtypes)\n",
        "print(\"\\nPrimeiras linhas de df antes do get_dummies:\")\n",
        "print(df.head())\n",
        "print(\"\\nValores únicos na coluna loan_status (deve ser 0 e 1):\")\n",
        "print(df['loan_status'].unique())\n",
        "print(\"\\nValores únicos na coluna loan_status_label (deve ser 'Pagou' e 'Inadimplente'):\")\n",
        "print(df['loan_status_label'].unique())"
      ],
      "metadata": {
        "colab": {
          "base_uri": "https://localhost:8080/"
        },
        "id": "86Kn2-iP4Ar1",
        "outputId": "fb5a5320-1f08-43c1-f900-e9b146188750"
      },
      "execution_count": 19,
      "outputs": [
        {
          "output_type": "stream",
          "name": "stdout",
          "text": [
            "Colunas e tipos em df antes do get_dummies:\n",
            "person_age                      int64\n",
            "person_income                   int64\n",
            "person_home_ownership          object\n",
            "person_emp_length             float64\n",
            "loan_intent                    object\n",
            "loan_grade                     object\n",
            "loan_amnt                       int64\n",
            "loan_int_rate                 float64\n",
            "loan_status                     int64\n",
            "loan_percent_income           float64\n",
            "cb_person_default_on_file      object\n",
            "cb_person_cred_hist_length      int64\n",
            "loan_status_label              object\n",
            "dtype: object\n",
            "\n",
            "Primeiras linhas de df antes do get_dummies:\n",
            "   person_age  person_income person_home_ownership  person_emp_length  \\\n",
            "0          22          59000                  RENT              123.0   \n",
            "1          21           9600                   OWN                5.0   \n",
            "2          25           9600              MORTGAGE                1.0   \n",
            "3          23          65500                  RENT                4.0   \n",
            "4          24          54400                  RENT                8.0   \n",
            "\n",
            "  loan_intent loan_grade  loan_amnt  loan_int_rate  loan_status  \\\n",
            "0    PERSONAL          D      35000          16.02            1   \n",
            "1   EDUCATION          B       1000          11.14            0   \n",
            "2     MEDICAL          C       5500          12.87            1   \n",
            "3     MEDICAL          C      35000          15.23            1   \n",
            "4     MEDICAL          C      35000          14.27            1   \n",
            "\n",
            "   loan_percent_income cb_person_default_on_file  cb_person_cred_hist_length  \\\n",
            "0                 0.59                         Y                           3   \n",
            "1                 0.10                         N                           2   \n",
            "2                 0.57                         N                           3   \n",
            "3                 0.53                         N                           2   \n",
            "4                 0.55                         Y                           4   \n",
            "\n",
            "  loan_status_label  \n",
            "0      Inadimplente  \n",
            "1             Pagou  \n",
            "2      Inadimplente  \n",
            "3      Inadimplente  \n",
            "4      Inadimplente  \n",
            "\n",
            "Valores únicos na coluna loan_status (deve ser 0 e 1):\n",
            "[1 0]\n",
            "\n",
            "Valores únicos na coluna loan_status_label (deve ser 'Pagou' e 'Inadimplente'):\n",
            "['Inadimplente' 'Pagou']\n"
          ]
        }
      ]
    },
    {
      "cell_type": "code",
      "source": [
        "# Certifique-se de dropar 'loan_status_label' antes de aplicar get_dummies nas outras categóricas\n",
        "df_encoded = pd.get_dummies(df.drop(columns=['loan_status_label']), columns=[\n",
        "    'person_home_ownership',\n",
        "    'loan_intent',\n",
        "    'loan_grade',\n",
        "    'cb_person_default_on_file'\n",
        "], drop_first=True)\n",
        "\n",
        "print(\"\\nColunas e tipos em df_encoded após get_dummies:\")\n",
        "print(df_encoded.dtypes)\n",
        "print(\"\\nPrimeiras linhas de df_encoded:\")\n",
        "print(df_encoded.head())\n",
        "# Verifique se a coluna 'loan_status_label' NÃO está presente em df_encoded\n",
        "print(\"\\n'loan_status_label' in df_encoded.columns:\", 'loan_status_label' in df_encoded.columns)\n",
        "print(\"\\nValores únicos na coluna loan_status em df_encoded (deve ser 0 e 1):\")\n",
        "print(df_encoded['loan_status'].unique())"
      ],
      "metadata": {
        "colab": {
          "base_uri": "https://localhost:8080/"
        },
        "id": "Xi4YreWv4LHn",
        "outputId": "73eba53d-e147-44f5-eb9c-d734881c1f3d"
      },
      "execution_count": 20,
      "outputs": [
        {
          "output_type": "stream",
          "name": "stdout",
          "text": [
            "\n",
            "Colunas e tipos em df_encoded após get_dummies:\n",
            "person_age                       int64\n",
            "person_income                    int64\n",
            "person_emp_length              float64\n",
            "loan_amnt                        int64\n",
            "loan_int_rate                  float64\n",
            "loan_status                      int64\n",
            "loan_percent_income            float64\n",
            "cb_person_cred_hist_length       int64\n",
            "person_home_ownership_OTHER       bool\n",
            "person_home_ownership_OWN         bool\n",
            "person_home_ownership_RENT        bool\n",
            "loan_intent_EDUCATION             bool\n",
            "loan_intent_HOMEIMPROVEMENT       bool\n",
            "loan_intent_MEDICAL               bool\n",
            "loan_intent_PERSONAL              bool\n",
            "loan_intent_VENTURE               bool\n",
            "loan_grade_B                      bool\n",
            "loan_grade_C                      bool\n",
            "loan_grade_D                      bool\n",
            "loan_grade_E                      bool\n",
            "loan_grade_F                      bool\n",
            "loan_grade_G                      bool\n",
            "cb_person_default_on_file_Y       bool\n",
            "dtype: object\n",
            "\n",
            "Primeiras linhas de df_encoded:\n",
            "   person_age  person_income  person_emp_length  loan_amnt  loan_int_rate  \\\n",
            "0          22          59000              123.0      35000          16.02   \n",
            "1          21           9600                5.0       1000          11.14   \n",
            "2          25           9600                1.0       5500          12.87   \n",
            "3          23          65500                4.0      35000          15.23   \n",
            "4          24          54400                8.0      35000          14.27   \n",
            "\n",
            "   loan_status  loan_percent_income  cb_person_cred_hist_length  \\\n",
            "0            1                 0.59                           3   \n",
            "1            0                 0.10                           2   \n",
            "2            1                 0.57                           3   \n",
            "3            1                 0.53                           2   \n",
            "4            1                 0.55                           4   \n",
            "\n",
            "   person_home_ownership_OTHER  person_home_ownership_OWN  ...  \\\n",
            "0                        False                      False  ...   \n",
            "1                        False                       True  ...   \n",
            "2                        False                      False  ...   \n",
            "3                        False                      False  ...   \n",
            "4                        False                      False  ...   \n",
            "\n",
            "   loan_intent_MEDICAL  loan_intent_PERSONAL  loan_intent_VENTURE  \\\n",
            "0                False                  True                False   \n",
            "1                False                 False                False   \n",
            "2                 True                 False                False   \n",
            "3                 True                 False                False   \n",
            "4                 True                 False                False   \n",
            "\n",
            "   loan_grade_B  loan_grade_C  loan_grade_D  loan_grade_E  loan_grade_F  \\\n",
            "0         False         False          True         False         False   \n",
            "1          True         False         False         False         False   \n",
            "2         False          True         False         False         False   \n",
            "3         False          True         False         False         False   \n",
            "4         False          True         False         False         False   \n",
            "\n",
            "   loan_grade_G  cb_person_default_on_file_Y  \n",
            "0         False                         True  \n",
            "1         False                        False  \n",
            "2         False                        False  \n",
            "3         False                        False  \n",
            "4         False                         True  \n",
            "\n",
            "[5 rows x 23 columns]\n",
            "\n",
            "'loan_status_label' in df_encoded.columns: False\n",
            "\n",
            "Valores únicos na coluna loan_status em df_encoded (deve ser 0 e 1):\n",
            "[1 0]\n"
          ]
        }
      ]
    },
    {
      "cell_type": "code",
      "source": [
        "# Features (todas as colunas, exceto o alvo numérico 'loan_status')\n",
        "X = df_encoded.drop(columns=['loan_status'])\n",
        "\n",
        "# Alvo (a coluna numérica 'loan_status')\n",
        "y = df_encoded['loan_status']\n",
        "\n",
        "print(\"\\nTipo de dados de X:\", X.dtypes)\n",
        "print(\"\\nPrimeiras linhas de X:\\n\", X.head())\n",
        "print(\"\\n'loan_status' in X.columns:\", 'loan_status' in X.columns) # Deve ser False\n",
        "\n",
        "print(\"\\nTipo de dados de y:\", y.dtype)\n",
        "print(\"\\nPrimeiros valores de y:\", y.head())\n",
        "print(\"\\nValores únicos em y:\", y.unique()) # Deve ser [0 1]"
      ],
      "metadata": {
        "colab": {
          "base_uri": "https://localhost:8080/"
        },
        "id": "t0kBKt7r4QCg",
        "outputId": "31d13714-d1f4-4119-e0f2-beb6d2d188fc"
      },
      "execution_count": 21,
      "outputs": [
        {
          "output_type": "stream",
          "name": "stdout",
          "text": [
            "\n",
            "Tipo de dados de X: person_age                       int64\n",
            "person_income                    int64\n",
            "person_emp_length              float64\n",
            "loan_amnt                        int64\n",
            "loan_int_rate                  float64\n",
            "loan_percent_income            float64\n",
            "cb_person_cred_hist_length       int64\n",
            "person_home_ownership_OTHER       bool\n",
            "person_home_ownership_OWN         bool\n",
            "person_home_ownership_RENT        bool\n",
            "loan_intent_EDUCATION             bool\n",
            "loan_intent_HOMEIMPROVEMENT       bool\n",
            "loan_intent_MEDICAL               bool\n",
            "loan_intent_PERSONAL              bool\n",
            "loan_intent_VENTURE               bool\n",
            "loan_grade_B                      bool\n",
            "loan_grade_C                      bool\n",
            "loan_grade_D                      bool\n",
            "loan_grade_E                      bool\n",
            "loan_grade_F                      bool\n",
            "loan_grade_G                      bool\n",
            "cb_person_default_on_file_Y       bool\n",
            "dtype: object\n",
            "\n",
            "Primeiras linhas de X:\n",
            "    person_age  person_income  person_emp_length  loan_amnt  loan_int_rate  \\\n",
            "0          22          59000              123.0      35000          16.02   \n",
            "1          21           9600                5.0       1000          11.14   \n",
            "2          25           9600                1.0       5500          12.87   \n",
            "3          23          65500                4.0      35000          15.23   \n",
            "4          24          54400                8.0      35000          14.27   \n",
            "\n",
            "   loan_percent_income  cb_person_cred_hist_length  \\\n",
            "0                 0.59                           3   \n",
            "1                 0.10                           2   \n",
            "2                 0.57                           3   \n",
            "3                 0.53                           2   \n",
            "4                 0.55                           4   \n",
            "\n",
            "   person_home_ownership_OTHER  person_home_ownership_OWN  \\\n",
            "0                        False                      False   \n",
            "1                        False                       True   \n",
            "2                        False                      False   \n",
            "3                        False                      False   \n",
            "4                        False                      False   \n",
            "\n",
            "   person_home_ownership_RENT  ...  loan_intent_MEDICAL  loan_intent_PERSONAL  \\\n",
            "0                        True  ...                False                  True   \n",
            "1                       False  ...                False                 False   \n",
            "2                       False  ...                 True                 False   \n",
            "3                        True  ...                 True                 False   \n",
            "4                        True  ...                 True                 False   \n",
            "\n",
            "   loan_intent_VENTURE  loan_grade_B  loan_grade_C  loan_grade_D  \\\n",
            "0                False         False         False          True   \n",
            "1                False          True         False         False   \n",
            "2                False         False          True         False   \n",
            "3                False         False          True         False   \n",
            "4                False         False          True         False   \n",
            "\n",
            "   loan_grade_E  loan_grade_F  loan_grade_G  cb_person_default_on_file_Y  \n",
            "0         False         False         False                         True  \n",
            "1         False         False         False                        False  \n",
            "2         False         False         False                        False  \n",
            "3         False         False         False                        False  \n",
            "4         False         False         False                         True  \n",
            "\n",
            "[5 rows x 22 columns]\n",
            "\n",
            "'loan_status' in X.columns: False\n",
            "\n",
            "Tipo de dados de y: int64\n",
            "\n",
            "Primeiros valores de y: 0    1\n",
            "1    0\n",
            "2    1\n",
            "3    1\n",
            "4    1\n",
            "Name: loan_status, dtype: int64\n",
            "\n",
            "Valores únicos em y: [1 0]\n"
          ]
        }
      ]
    },
    {
      "cell_type": "code",
      "source": [
        "from sklearn.model_selection import train_test_split\n",
        "\n",
        "X_train, X_test, y_train, y_test = train_test_split(\n",
        "    X, y, test_size=0.2, random_state=42, stratify=y\n",
        ")\n",
        "\n",
        "print(\"\\nTipo de dados de X_train:\", X_train.dtypes)\n",
        "print(\"\\nPrimeiras linhas de X_train:\\n\", X_train.head())\n",
        "\n",
        "print(\"\\nTipo de dados de y_train antes do SMOTE:\", y_train.dtype) # Deve ser numérico\n",
        "print(\"\\nPrimeiros valores de y_train antes do SMOTE:\", y_train.head()) # Deve ser 0 ou 1\n",
        "print(\"\\nValores únicos em y_train antes do SMOTE:\", y_train.unique()) # Deve ser [0 1]\n",
        "print(\"\\nDistribuição das classes em y_train antes do SMOTE:\\n\", y_train.value_counts())"
      ],
      "metadata": {
        "colab": {
          "base_uri": "https://localhost:8080/"
        },
        "id": "MNdt_mEl4Udu",
        "outputId": "23ac5471-ea51-413f-f1df-4e8da5693118"
      },
      "execution_count": 22,
      "outputs": [
        {
          "output_type": "stream",
          "name": "stdout",
          "text": [
            "\n",
            "Tipo de dados de X_train: person_age                       int64\n",
            "person_income                    int64\n",
            "person_emp_length              float64\n",
            "loan_amnt                        int64\n",
            "loan_int_rate                  float64\n",
            "loan_percent_income            float64\n",
            "cb_person_cred_hist_length       int64\n",
            "person_home_ownership_OTHER       bool\n",
            "person_home_ownership_OWN         bool\n",
            "person_home_ownership_RENT        bool\n",
            "loan_intent_EDUCATION             bool\n",
            "loan_intent_HOMEIMPROVEMENT       bool\n",
            "loan_intent_MEDICAL               bool\n",
            "loan_intent_PERSONAL              bool\n",
            "loan_intent_VENTURE               bool\n",
            "loan_grade_B                      bool\n",
            "loan_grade_C                      bool\n",
            "loan_grade_D                      bool\n",
            "loan_grade_E                      bool\n",
            "loan_grade_F                      bool\n",
            "loan_grade_G                      bool\n",
            "cb_person_default_on_file_Y       bool\n",
            "dtype: object\n",
            "\n",
            "Primeiras linhas de X_train:\n",
            "        person_age  person_income  person_emp_length  loan_amnt  loan_int_rate  \\\n",
            "31256          37          84000               11.0       8225          12.99   \n",
            "2739           21          34000                5.0       7200           6.76   \n",
            "5024           24          45000                0.0       5000          13.79   \n",
            "19053          29         102400                2.0       2000           8.88   \n",
            "20157          32          34000                4.0       4000           7.74   \n",
            "\n",
            "       loan_percent_income  cb_person_cred_hist_length  \\\n",
            "31256                 0.10                          11   \n",
            "2739                  0.21                           2   \n",
            "5024                  0.11                           2   \n",
            "19053                 0.02                           7   \n",
            "20157                 0.12                          10   \n",
            "\n",
            "       person_home_ownership_OTHER  person_home_ownership_OWN  \\\n",
            "31256                        False                      False   \n",
            "2739                         False                      False   \n",
            "5024                         False                      False   \n",
            "19053                        False                      False   \n",
            "20157                        False                      False   \n",
            "\n",
            "       person_home_ownership_RENT  ...  loan_intent_MEDICAL  \\\n",
            "31256                       False  ...                False   \n",
            "2739                        False  ...                False   \n",
            "5024                         True  ...                 True   \n",
            "19053                        True  ...                False   \n",
            "20157                        True  ...                False   \n",
            "\n",
            "       loan_intent_PERSONAL  loan_intent_VENTURE  loan_grade_B  loan_grade_C  \\\n",
            "31256                 False                False         False          True   \n",
            "2739                   True                False         False         False   \n",
            "5024                  False                False         False          True   \n",
            "19053                 False                False          True         False   \n",
            "20157                 False                 True         False         False   \n",
            "\n",
            "       loan_grade_D  loan_grade_E  loan_grade_F  loan_grade_G  \\\n",
            "31256         False         False         False         False   \n",
            "2739          False         False         False         False   \n",
            "5024          False         False         False         False   \n",
            "19053         False         False         False         False   \n",
            "20157         False         False         False         False   \n",
            "\n",
            "       cb_person_default_on_file_Y  \n",
            "31256                         True  \n",
            "2739                         False  \n",
            "5024                          True  \n",
            "19053                        False  \n",
            "20157                        False  \n",
            "\n",
            "[5 rows x 22 columns]\n",
            "\n",
            "Tipo de dados de y_train antes do SMOTE: int64\n",
            "\n",
            "Primeiros valores de y_train antes do SMOTE: 31256    0\n",
            "2739     1\n",
            "5024     0\n",
            "19053    0\n",
            "20157    0\n",
            "Name: loan_status, dtype: int64\n",
            "\n",
            "Valores únicos em y_train antes do SMOTE: [0 1]\n",
            "\n",
            "Distribuição das classes em y_train antes do SMOTE:\n",
            " loan_status\n",
            "0    17850\n",
            "1     4950\n",
            "Name: count, dtype: int64\n"
          ]
        }
      ]
    },
    {
      "cell_type": "code",
      "source": [
        "from imblearn.over_sampling import SMOTE\n",
        "\n",
        "smote = SMOTE(random_state=42)\n",
        "# Se as verificações acima estiverem corretas, esta linha deve funcionar\n",
        "X_train_bal, y_train_bal = smote.fit_resample(X_train, y_train)\n",
        "\n",
        "print(\"\\nSMOTE aplicado com sucesso!\")\n",
        "print(\"Distribuição das classes em y_train_bal após o SMOTE:\\n\", y_train_bal.value_counts())"
      ],
      "metadata": {
        "colab": {
          "base_uri": "https://localhost:8080/"
        },
        "id": "rZOlAAt_4ZrU",
        "outputId": "b71ab856-cf02-4065-a261-a3030dfdf9c0"
      },
      "execution_count": 23,
      "outputs": [
        {
          "output_type": "stream",
          "name": "stdout",
          "text": [
            "\n",
            "SMOTE aplicado com sucesso!\n",
            "Distribuição das classes em y_train_bal após o SMOTE:\n",
            " loan_status\n",
            "0    17850\n",
            "1    17850\n",
            "Name: count, dtype: int64\n"
          ]
        }
      ]
    },
    {
      "cell_type": "markdown",
      "source": [
        " 5. **Balancear os dados**"
      ],
      "metadata": {
        "id": "tyPvWcNC04xu"
      }
    },
    {
      "cell_type": "code",
      "source": [
        "from imblearn.over_sampling import SMOTE\n",
        "\n",
        "smote = SMOTE(random_state=42)\n",
        "X_train_bal, y_train_bal = smote.fit_resample(X_train, y_train)\n"
      ],
      "metadata": {
        "id": "PZFD8Jp30XaY"
      },
      "execution_count": 24,
      "outputs": []
    },
    {
      "cell_type": "markdown",
      "source": [
        "# Treinar o modelo de Machine Learning"
      ],
      "metadata": {
        "id": "X0Y9eY3d1RtH"
      }
    },
    {
      "cell_type": "markdown",
      "source": [
        "1. **Importar e treinar o modelo**"
      ],
      "metadata": {
        "id": "NKB6FOVn1a60"
      }
    },
    {
      "cell_type": "code",
      "source": [
        "from sklearn.ensemble import RandomForestClassifier\n",
        "from sklearn.metrics import classification_report, confusion_matrix\n",
        "\n",
        "# Cria o modelo\n",
        "model = RandomForestClassifier(random_state=42)\n",
        "\n",
        "# Treina o modelo com os dados balanceados\n",
        "model.fit(X_train_bal, y_train_bal)\n"
      ],
      "metadata": {
        "colab": {
          "base_uri": "https://localhost:8080/",
          "height": 80
        },
        "id": "Kx859dNz0ZsF",
        "outputId": "56057800-91cf-49de-9309-426ba2554465"
      },
      "execution_count": 25,
      "outputs": [
        {
          "output_type": "execute_result",
          "data": {
            "text/plain": [
              "RandomForestClassifier(random_state=42)"
            ],
            "text/html": [
              "<style>#sk-container-id-1 {\n",
              "  /* Definition of color scheme common for light and dark mode */\n",
              "  --sklearn-color-text: #000;\n",
              "  --sklearn-color-text-muted: #666;\n",
              "  --sklearn-color-line: gray;\n",
              "  /* Definition of color scheme for unfitted estimators */\n",
              "  --sklearn-color-unfitted-level-0: #fff5e6;\n",
              "  --sklearn-color-unfitted-level-1: #f6e4d2;\n",
              "  --sklearn-color-unfitted-level-2: #ffe0b3;\n",
              "  --sklearn-color-unfitted-level-3: chocolate;\n",
              "  /* Definition of color scheme for fitted estimators */\n",
              "  --sklearn-color-fitted-level-0: #f0f8ff;\n",
              "  --sklearn-color-fitted-level-1: #d4ebff;\n",
              "  --sklearn-color-fitted-level-2: #b3dbfd;\n",
              "  --sklearn-color-fitted-level-3: cornflowerblue;\n",
              "\n",
              "  /* Specific color for light theme */\n",
              "  --sklearn-color-text-on-default-background: var(--sg-text-color, var(--theme-code-foreground, var(--jp-content-font-color1, black)));\n",
              "  --sklearn-color-background: var(--sg-background-color, var(--theme-background, var(--jp-layout-color0, white)));\n",
              "  --sklearn-color-border-box: var(--sg-text-color, var(--theme-code-foreground, var(--jp-content-font-color1, black)));\n",
              "  --sklearn-color-icon: #696969;\n",
              "\n",
              "  @media (prefers-color-scheme: dark) {\n",
              "    /* Redefinition of color scheme for dark theme */\n",
              "    --sklearn-color-text-on-default-background: var(--sg-text-color, var(--theme-code-foreground, var(--jp-content-font-color1, white)));\n",
              "    --sklearn-color-background: var(--sg-background-color, var(--theme-background, var(--jp-layout-color0, #111)));\n",
              "    --sklearn-color-border-box: var(--sg-text-color, var(--theme-code-foreground, var(--jp-content-font-color1, white)));\n",
              "    --sklearn-color-icon: #878787;\n",
              "  }\n",
              "}\n",
              "\n",
              "#sk-container-id-1 {\n",
              "  color: var(--sklearn-color-text);\n",
              "}\n",
              "\n",
              "#sk-container-id-1 pre {\n",
              "  padding: 0;\n",
              "}\n",
              "\n",
              "#sk-container-id-1 input.sk-hidden--visually {\n",
              "  border: 0;\n",
              "  clip: rect(1px 1px 1px 1px);\n",
              "  clip: rect(1px, 1px, 1px, 1px);\n",
              "  height: 1px;\n",
              "  margin: -1px;\n",
              "  overflow: hidden;\n",
              "  padding: 0;\n",
              "  position: absolute;\n",
              "  width: 1px;\n",
              "}\n",
              "\n",
              "#sk-container-id-1 div.sk-dashed-wrapped {\n",
              "  border: 1px dashed var(--sklearn-color-line);\n",
              "  margin: 0 0.4em 0.5em 0.4em;\n",
              "  box-sizing: border-box;\n",
              "  padding-bottom: 0.4em;\n",
              "  background-color: var(--sklearn-color-background);\n",
              "}\n",
              "\n",
              "#sk-container-id-1 div.sk-container {\n",
              "  /* jupyter's `normalize.less` sets `[hidden] { display: none; }`\n",
              "     but bootstrap.min.css set `[hidden] { display: none !important; }`\n",
              "     so we also need the `!important` here to be able to override the\n",
              "     default hidden behavior on the sphinx rendered scikit-learn.org.\n",
              "     See: https://github.com/scikit-learn/scikit-learn/issues/21755 */\n",
              "  display: inline-block !important;\n",
              "  position: relative;\n",
              "}\n",
              "\n",
              "#sk-container-id-1 div.sk-text-repr-fallback {\n",
              "  display: none;\n",
              "}\n",
              "\n",
              "div.sk-parallel-item,\n",
              "div.sk-serial,\n",
              "div.sk-item {\n",
              "  /* draw centered vertical line to link estimators */\n",
              "  background-image: linear-gradient(var(--sklearn-color-text-on-default-background), var(--sklearn-color-text-on-default-background));\n",
              "  background-size: 2px 100%;\n",
              "  background-repeat: no-repeat;\n",
              "  background-position: center center;\n",
              "}\n",
              "\n",
              "/* Parallel-specific style estimator block */\n",
              "\n",
              "#sk-container-id-1 div.sk-parallel-item::after {\n",
              "  content: \"\";\n",
              "  width: 100%;\n",
              "  border-bottom: 2px solid var(--sklearn-color-text-on-default-background);\n",
              "  flex-grow: 1;\n",
              "}\n",
              "\n",
              "#sk-container-id-1 div.sk-parallel {\n",
              "  display: flex;\n",
              "  align-items: stretch;\n",
              "  justify-content: center;\n",
              "  background-color: var(--sklearn-color-background);\n",
              "  position: relative;\n",
              "}\n",
              "\n",
              "#sk-container-id-1 div.sk-parallel-item {\n",
              "  display: flex;\n",
              "  flex-direction: column;\n",
              "}\n",
              "\n",
              "#sk-container-id-1 div.sk-parallel-item:first-child::after {\n",
              "  align-self: flex-end;\n",
              "  width: 50%;\n",
              "}\n",
              "\n",
              "#sk-container-id-1 div.sk-parallel-item:last-child::after {\n",
              "  align-self: flex-start;\n",
              "  width: 50%;\n",
              "}\n",
              "\n",
              "#sk-container-id-1 div.sk-parallel-item:only-child::after {\n",
              "  width: 0;\n",
              "}\n",
              "\n",
              "/* Serial-specific style estimator block */\n",
              "\n",
              "#sk-container-id-1 div.sk-serial {\n",
              "  display: flex;\n",
              "  flex-direction: column;\n",
              "  align-items: center;\n",
              "  background-color: var(--sklearn-color-background);\n",
              "  padding-right: 1em;\n",
              "  padding-left: 1em;\n",
              "}\n",
              "\n",
              "\n",
              "/* Toggleable style: style used for estimator/Pipeline/ColumnTransformer box that is\n",
              "clickable and can be expanded/collapsed.\n",
              "- Pipeline and ColumnTransformer use this feature and define the default style\n",
              "- Estimators will overwrite some part of the style using the `sk-estimator` class\n",
              "*/\n",
              "\n",
              "/* Pipeline and ColumnTransformer style (default) */\n",
              "\n",
              "#sk-container-id-1 div.sk-toggleable {\n",
              "  /* Default theme specific background. It is overwritten whether we have a\n",
              "  specific estimator or a Pipeline/ColumnTransformer */\n",
              "  background-color: var(--sklearn-color-background);\n",
              "}\n",
              "\n",
              "/* Toggleable label */\n",
              "#sk-container-id-1 label.sk-toggleable__label {\n",
              "  cursor: pointer;\n",
              "  display: flex;\n",
              "  width: 100%;\n",
              "  margin-bottom: 0;\n",
              "  padding: 0.5em;\n",
              "  box-sizing: border-box;\n",
              "  text-align: center;\n",
              "  align-items: start;\n",
              "  justify-content: space-between;\n",
              "  gap: 0.5em;\n",
              "}\n",
              "\n",
              "#sk-container-id-1 label.sk-toggleable__label .caption {\n",
              "  font-size: 0.6rem;\n",
              "  font-weight: lighter;\n",
              "  color: var(--sklearn-color-text-muted);\n",
              "}\n",
              "\n",
              "#sk-container-id-1 label.sk-toggleable__label-arrow:before {\n",
              "  /* Arrow on the left of the label */\n",
              "  content: \"▸\";\n",
              "  float: left;\n",
              "  margin-right: 0.25em;\n",
              "  color: var(--sklearn-color-icon);\n",
              "}\n",
              "\n",
              "#sk-container-id-1 label.sk-toggleable__label-arrow:hover:before {\n",
              "  color: var(--sklearn-color-text);\n",
              "}\n",
              "\n",
              "/* Toggleable content - dropdown */\n",
              "\n",
              "#sk-container-id-1 div.sk-toggleable__content {\n",
              "  max-height: 0;\n",
              "  max-width: 0;\n",
              "  overflow: hidden;\n",
              "  text-align: left;\n",
              "  /* unfitted */\n",
              "  background-color: var(--sklearn-color-unfitted-level-0);\n",
              "}\n",
              "\n",
              "#sk-container-id-1 div.sk-toggleable__content.fitted {\n",
              "  /* fitted */\n",
              "  background-color: var(--sklearn-color-fitted-level-0);\n",
              "}\n",
              "\n",
              "#sk-container-id-1 div.sk-toggleable__content pre {\n",
              "  margin: 0.2em;\n",
              "  border-radius: 0.25em;\n",
              "  color: var(--sklearn-color-text);\n",
              "  /* unfitted */\n",
              "  background-color: var(--sklearn-color-unfitted-level-0);\n",
              "}\n",
              "\n",
              "#sk-container-id-1 div.sk-toggleable__content.fitted pre {\n",
              "  /* unfitted */\n",
              "  background-color: var(--sklearn-color-fitted-level-0);\n",
              "}\n",
              "\n",
              "#sk-container-id-1 input.sk-toggleable__control:checked~div.sk-toggleable__content {\n",
              "  /* Expand drop-down */\n",
              "  max-height: 200px;\n",
              "  max-width: 100%;\n",
              "  overflow: auto;\n",
              "}\n",
              "\n",
              "#sk-container-id-1 input.sk-toggleable__control:checked~label.sk-toggleable__label-arrow:before {\n",
              "  content: \"▾\";\n",
              "}\n",
              "\n",
              "/* Pipeline/ColumnTransformer-specific style */\n",
              "\n",
              "#sk-container-id-1 div.sk-label input.sk-toggleable__control:checked~label.sk-toggleable__label {\n",
              "  color: var(--sklearn-color-text);\n",
              "  background-color: var(--sklearn-color-unfitted-level-2);\n",
              "}\n",
              "\n",
              "#sk-container-id-1 div.sk-label.fitted input.sk-toggleable__control:checked~label.sk-toggleable__label {\n",
              "  background-color: var(--sklearn-color-fitted-level-2);\n",
              "}\n",
              "\n",
              "/* Estimator-specific style */\n",
              "\n",
              "/* Colorize estimator box */\n",
              "#sk-container-id-1 div.sk-estimator input.sk-toggleable__control:checked~label.sk-toggleable__label {\n",
              "  /* unfitted */\n",
              "  background-color: var(--sklearn-color-unfitted-level-2);\n",
              "}\n",
              "\n",
              "#sk-container-id-1 div.sk-estimator.fitted input.sk-toggleable__control:checked~label.sk-toggleable__label {\n",
              "  /* fitted */\n",
              "  background-color: var(--sklearn-color-fitted-level-2);\n",
              "}\n",
              "\n",
              "#sk-container-id-1 div.sk-label label.sk-toggleable__label,\n",
              "#sk-container-id-1 div.sk-label label {\n",
              "  /* The background is the default theme color */\n",
              "  color: var(--sklearn-color-text-on-default-background);\n",
              "}\n",
              "\n",
              "/* On hover, darken the color of the background */\n",
              "#sk-container-id-1 div.sk-label:hover label.sk-toggleable__label {\n",
              "  color: var(--sklearn-color-text);\n",
              "  background-color: var(--sklearn-color-unfitted-level-2);\n",
              "}\n",
              "\n",
              "/* Label box, darken color on hover, fitted */\n",
              "#sk-container-id-1 div.sk-label.fitted:hover label.sk-toggleable__label.fitted {\n",
              "  color: var(--sklearn-color-text);\n",
              "  background-color: var(--sklearn-color-fitted-level-2);\n",
              "}\n",
              "\n",
              "/* Estimator label */\n",
              "\n",
              "#sk-container-id-1 div.sk-label label {\n",
              "  font-family: monospace;\n",
              "  font-weight: bold;\n",
              "  display: inline-block;\n",
              "  line-height: 1.2em;\n",
              "}\n",
              "\n",
              "#sk-container-id-1 div.sk-label-container {\n",
              "  text-align: center;\n",
              "}\n",
              "\n",
              "/* Estimator-specific */\n",
              "#sk-container-id-1 div.sk-estimator {\n",
              "  font-family: monospace;\n",
              "  border: 1px dotted var(--sklearn-color-border-box);\n",
              "  border-radius: 0.25em;\n",
              "  box-sizing: border-box;\n",
              "  margin-bottom: 0.5em;\n",
              "  /* unfitted */\n",
              "  background-color: var(--sklearn-color-unfitted-level-0);\n",
              "}\n",
              "\n",
              "#sk-container-id-1 div.sk-estimator.fitted {\n",
              "  /* fitted */\n",
              "  background-color: var(--sklearn-color-fitted-level-0);\n",
              "}\n",
              "\n",
              "/* on hover */\n",
              "#sk-container-id-1 div.sk-estimator:hover {\n",
              "  /* unfitted */\n",
              "  background-color: var(--sklearn-color-unfitted-level-2);\n",
              "}\n",
              "\n",
              "#sk-container-id-1 div.sk-estimator.fitted:hover {\n",
              "  /* fitted */\n",
              "  background-color: var(--sklearn-color-fitted-level-2);\n",
              "}\n",
              "\n",
              "/* Specification for estimator info (e.g. \"i\" and \"?\") */\n",
              "\n",
              "/* Common style for \"i\" and \"?\" */\n",
              "\n",
              ".sk-estimator-doc-link,\n",
              "a:link.sk-estimator-doc-link,\n",
              "a:visited.sk-estimator-doc-link {\n",
              "  float: right;\n",
              "  font-size: smaller;\n",
              "  line-height: 1em;\n",
              "  font-family: monospace;\n",
              "  background-color: var(--sklearn-color-background);\n",
              "  border-radius: 1em;\n",
              "  height: 1em;\n",
              "  width: 1em;\n",
              "  text-decoration: none !important;\n",
              "  margin-left: 0.5em;\n",
              "  text-align: center;\n",
              "  /* unfitted */\n",
              "  border: var(--sklearn-color-unfitted-level-1) 1pt solid;\n",
              "  color: var(--sklearn-color-unfitted-level-1);\n",
              "}\n",
              "\n",
              ".sk-estimator-doc-link.fitted,\n",
              "a:link.sk-estimator-doc-link.fitted,\n",
              "a:visited.sk-estimator-doc-link.fitted {\n",
              "  /* fitted */\n",
              "  border: var(--sklearn-color-fitted-level-1) 1pt solid;\n",
              "  color: var(--sklearn-color-fitted-level-1);\n",
              "}\n",
              "\n",
              "/* On hover */\n",
              "div.sk-estimator:hover .sk-estimator-doc-link:hover,\n",
              ".sk-estimator-doc-link:hover,\n",
              "div.sk-label-container:hover .sk-estimator-doc-link:hover,\n",
              ".sk-estimator-doc-link:hover {\n",
              "  /* unfitted */\n",
              "  background-color: var(--sklearn-color-unfitted-level-3);\n",
              "  color: var(--sklearn-color-background);\n",
              "  text-decoration: none;\n",
              "}\n",
              "\n",
              "div.sk-estimator.fitted:hover .sk-estimator-doc-link.fitted:hover,\n",
              ".sk-estimator-doc-link.fitted:hover,\n",
              "div.sk-label-container:hover .sk-estimator-doc-link.fitted:hover,\n",
              ".sk-estimator-doc-link.fitted:hover {\n",
              "  /* fitted */\n",
              "  background-color: var(--sklearn-color-fitted-level-3);\n",
              "  color: var(--sklearn-color-background);\n",
              "  text-decoration: none;\n",
              "}\n",
              "\n",
              "/* Span, style for the box shown on hovering the info icon */\n",
              ".sk-estimator-doc-link span {\n",
              "  display: none;\n",
              "  z-index: 9999;\n",
              "  position: relative;\n",
              "  font-weight: normal;\n",
              "  right: .2ex;\n",
              "  padding: .5ex;\n",
              "  margin: .5ex;\n",
              "  width: min-content;\n",
              "  min-width: 20ex;\n",
              "  max-width: 50ex;\n",
              "  color: var(--sklearn-color-text);\n",
              "  box-shadow: 2pt 2pt 4pt #999;\n",
              "  /* unfitted */\n",
              "  background: var(--sklearn-color-unfitted-level-0);\n",
              "  border: .5pt solid var(--sklearn-color-unfitted-level-3);\n",
              "}\n",
              "\n",
              ".sk-estimator-doc-link.fitted span {\n",
              "  /* fitted */\n",
              "  background: var(--sklearn-color-fitted-level-0);\n",
              "  border: var(--sklearn-color-fitted-level-3);\n",
              "}\n",
              "\n",
              ".sk-estimator-doc-link:hover span {\n",
              "  display: block;\n",
              "}\n",
              "\n",
              "/* \"?\"-specific style due to the `<a>` HTML tag */\n",
              "\n",
              "#sk-container-id-1 a.estimator_doc_link {\n",
              "  float: right;\n",
              "  font-size: 1rem;\n",
              "  line-height: 1em;\n",
              "  font-family: monospace;\n",
              "  background-color: var(--sklearn-color-background);\n",
              "  border-radius: 1rem;\n",
              "  height: 1rem;\n",
              "  width: 1rem;\n",
              "  text-decoration: none;\n",
              "  /* unfitted */\n",
              "  color: var(--sklearn-color-unfitted-level-1);\n",
              "  border: var(--sklearn-color-unfitted-level-1) 1pt solid;\n",
              "}\n",
              "\n",
              "#sk-container-id-1 a.estimator_doc_link.fitted {\n",
              "  /* fitted */\n",
              "  border: var(--sklearn-color-fitted-level-1) 1pt solid;\n",
              "  color: var(--sklearn-color-fitted-level-1);\n",
              "}\n",
              "\n",
              "/* On hover */\n",
              "#sk-container-id-1 a.estimator_doc_link:hover {\n",
              "  /* unfitted */\n",
              "  background-color: var(--sklearn-color-unfitted-level-3);\n",
              "  color: var(--sklearn-color-background);\n",
              "  text-decoration: none;\n",
              "}\n",
              "\n",
              "#sk-container-id-1 a.estimator_doc_link.fitted:hover {\n",
              "  /* fitted */\n",
              "  background-color: var(--sklearn-color-fitted-level-3);\n",
              "}\n",
              "</style><div id=\"sk-container-id-1\" class=\"sk-top-container\"><div class=\"sk-text-repr-fallback\"><pre>RandomForestClassifier(random_state=42)</pre><b>In a Jupyter environment, please rerun this cell to show the HTML representation or trust the notebook. <br />On GitHub, the HTML representation is unable to render, please try loading this page with nbviewer.org.</b></div><div class=\"sk-container\" hidden><div class=\"sk-item\"><div class=\"sk-estimator fitted sk-toggleable\"><input class=\"sk-toggleable__control sk-hidden--visually\" id=\"sk-estimator-id-1\" type=\"checkbox\" checked><label for=\"sk-estimator-id-1\" class=\"sk-toggleable__label fitted sk-toggleable__label-arrow\"><div><div>RandomForestClassifier</div></div><div><a class=\"sk-estimator-doc-link fitted\" rel=\"noreferrer\" target=\"_blank\" href=\"https://scikit-learn.org/1.6/modules/generated/sklearn.ensemble.RandomForestClassifier.html\">?<span>Documentation for RandomForestClassifier</span></a><span class=\"sk-estimator-doc-link fitted\">i<span>Fitted</span></span></div></label><div class=\"sk-toggleable__content fitted\"><pre>RandomForestClassifier(random_state=42)</pre></div> </div></div></div></div>"
            ]
          },
          "metadata": {},
          "execution_count": 25
        }
      ]
    },
    {
      "cell_type": "markdown",
      "source": [
        "2. **Fazer previsões no conjunto de teste**"
      ],
      "metadata": {
        "id": "nLgtv0BX1jN-"
      }
    },
    {
      "cell_type": "code",
      "source": [
        "y_pred = model.predict(X_test)\n"
      ],
      "metadata": {
        "id": "D3A_PaIA1eeJ"
      },
      "execution_count": 26,
      "outputs": []
    },
    {
      "cell_type": "markdown",
      "source": [
        "3. **Avaliar o modelo**"
      ],
      "metadata": {
        "id": "3yRUrQa21pL0"
      }
    },
    {
      "cell_type": "code",
      "source": [
        "# Matriz de confusão\n",
        "print(confusion_matrix(y_test, y_pred))\n",
        "\n",
        "# Relatório de classificação\n",
        "print(classification_report(y_test, y_pred))\n"
      ],
      "metadata": {
        "colab": {
          "base_uri": "https://localhost:8080/"
        },
        "id": "IrUq1OcF1msJ",
        "outputId": "5b273b41-f5f5-4a11-b8a0-9aeac3bfe548"
      },
      "execution_count": 27,
      "outputs": [
        {
          "output_type": "stream",
          "name": "stdout",
          "text": [
            "[[4339  124]\n",
            " [ 328  910]]\n",
            "              precision    recall  f1-score   support\n",
            "\n",
            "           0       0.93      0.97      0.95      4463\n",
            "           1       0.88      0.74      0.80      1238\n",
            "\n",
            "    accuracy                           0.92      5701\n",
            "   macro avg       0.90      0.85      0.88      5701\n",
            "weighted avg       0.92      0.92      0.92      5701\n",
            "\n"
          ]
        }
      ]
    },
    {
      "cell_type": "markdown",
      "source": [
        "Análise:\n",
        "\n",
        "O modelo apresentou boa precisão geral e desempenho consistente na identificação de pagadores.\n",
        "\n",
        "No entanto, o recall da classe 1 (inadimplentes) foi de apenas 74%, ou seja, aproximadamente 26% dos inadimplentes não foram detectados.\n",
        "\n",
        "Em cenários de risco de crédito, maximizar o recall da classe 1 é essencial, pois não identificar inadimplentes pode causar prejuízos financeiros.\n",
        "\n",
        "A partir disso, buscamos ajustar o modelo para melhorar a sensibilidade (recall) da classe 1, mesmo que isso reduza levemente a precisão ou acurácia geral."
      ],
      "metadata": {
        "id": "SFQKA9jr9S1C"
      }
    },
    {
      "cell_type": "markdown",
      "source": [
        "# **melhorar a previsão (recall)**"
      ],
      "metadata": {
        "id": "nSqQ13fl97nz"
      }
    },
    {
      "cell_type": "markdown",
      "source": [
        "Ajustar o limiar de decisão (threshold)"
      ],
      "metadata": {
        "id": "XEElRZlT-Hyn"
      }
    },
    {
      "cell_type": "code",
      "source": [
        "# Obter probabilidades previstas\n",
        "y_proba = model.predict_proba(X_test)[:, 1]\n",
        "\n",
        "# Novo limiar de corte: 0.3 (mais sensível para inadimplentes)\n",
        "y_pred_thresh = (y_proba >= 0.3).astype(int)\n",
        "\n",
        "# Avaliar novamente\n",
        "from sklearn.metrics import classification_report, confusion_matrix\n",
        "\n",
        "print(confusion_matrix(y_test, y_pred_thresh))\n",
        "print(classification_report(y_test, y_pred_thresh))\n"
      ],
      "metadata": {
        "colab": {
          "base_uri": "https://localhost:8080/"
        },
        "id": "SgWKgoM61taE",
        "outputId": "5c2d37bf-3c8e-42ff-f9b3-8cc357ae4153"
      },
      "execution_count": 28,
      "outputs": [
        {
          "output_type": "stream",
          "name": "stdout",
          "text": [
            "[[4032  431]\n",
            " [ 246  992]]\n",
            "              precision    recall  f1-score   support\n",
            "\n",
            "           0       0.94      0.90      0.92      4463\n",
            "           1       0.70      0.80      0.75      1238\n",
            "\n",
            "    accuracy                           0.88      5701\n",
            "   macro avg       0.82      0.85      0.83      5701\n",
            "weighted avg       0.89      0.88      0.88      5701\n",
            "\n"
          ]
        }
      ]
    },
    {
      "cell_type": "markdown",
      "source": [
        "Ajustar o modelo com GridSearchCV"
      ],
      "metadata": {
        "id": "xhlwy2Vv-PCZ"
      }
    },
    {
      "cell_type": "code",
      "source": [
        "from sklearn.model_selection import GridSearchCV\n",
        "from sklearn.ensemble import RandomForestClassifier\n"
      ],
      "metadata": {
        "id": "6arDslMu-J5l"
      },
      "execution_count": 29,
      "outputs": []
    },
    {
      "cell_type": "code",
      "source": [
        "param_grid = {\n",
        "    'n_estimators': [100, 200],          # número de árvores\n",
        "    'max_depth': [None, 10, 20],         # profundidade máxima\n",
        "    'min_samples_split': [2, 5],         # min de amostras para dividir nó\n",
        "    'min_samples_leaf': [1, 2],          # min de amostras em uma folha\n",
        "    'class_weight': [None, 'balanced']   # ajustar pesos da classe\n",
        "}\n"
      ],
      "metadata": {
        "id": "Rjk4OoOx-VT0"
      },
      "execution_count": 30,
      "outputs": []
    },
    {
      "cell_type": "code",
      "source": [
        "rf = RandomForestClassifier(random_state=42)\n",
        "\n",
        "grid_search = GridSearchCV(estimator=rf,\n",
        "                           param_grid=param_grid,\n",
        "                           scoring='recall',   # foco em recall!\n",
        "                           cv=5,\n",
        "                           n_jobs=-1,          # usar todos os núcleos\n",
        "                           verbose=2)\n"
      ],
      "metadata": {
        "id": "3HaBDE5J-W6R"
      },
      "execution_count": 31,
      "outputs": []
    },
    {
      "cell_type": "code",
      "source": [
        "grid_search.fit(X_train_bal, y_train_bal)\n"
      ],
      "metadata": {
        "colab": {
          "base_uri": "https://localhost:8080/",
          "height": 182
        },
        "id": "d-q7BIbG-ZUP",
        "outputId": "48badefa-910e-4e71-e4d0-03a41ce3ee9b"
      },
      "execution_count": 32,
      "outputs": [
        {
          "output_type": "stream",
          "name": "stdout",
          "text": [
            "Fitting 5 folds for each of 48 candidates, totalling 240 fits\n"
          ]
        },
        {
          "output_type": "execute_result",
          "data": {
            "text/plain": [
              "GridSearchCV(cv=5, estimator=RandomForestClassifier(random_state=42), n_jobs=-1,\n",
              "             param_grid={'class_weight': [None, 'balanced'],\n",
              "                         'max_depth': [None, 10, 20],\n",
              "                         'min_samples_leaf': [1, 2],\n",
              "                         'min_samples_split': [2, 5],\n",
              "                         'n_estimators': [100, 200]},\n",
              "             scoring='recall', verbose=2)"
            ],
            "text/html": [
              "<style>#sk-container-id-2 {\n",
              "  /* Definition of color scheme common for light and dark mode */\n",
              "  --sklearn-color-text: #000;\n",
              "  --sklearn-color-text-muted: #666;\n",
              "  --sklearn-color-line: gray;\n",
              "  /* Definition of color scheme for unfitted estimators */\n",
              "  --sklearn-color-unfitted-level-0: #fff5e6;\n",
              "  --sklearn-color-unfitted-level-1: #f6e4d2;\n",
              "  --sklearn-color-unfitted-level-2: #ffe0b3;\n",
              "  --sklearn-color-unfitted-level-3: chocolate;\n",
              "  /* Definition of color scheme for fitted estimators */\n",
              "  --sklearn-color-fitted-level-0: #f0f8ff;\n",
              "  --sklearn-color-fitted-level-1: #d4ebff;\n",
              "  --sklearn-color-fitted-level-2: #b3dbfd;\n",
              "  --sklearn-color-fitted-level-3: cornflowerblue;\n",
              "\n",
              "  /* Specific color for light theme */\n",
              "  --sklearn-color-text-on-default-background: var(--sg-text-color, var(--theme-code-foreground, var(--jp-content-font-color1, black)));\n",
              "  --sklearn-color-background: var(--sg-background-color, var(--theme-background, var(--jp-layout-color0, white)));\n",
              "  --sklearn-color-border-box: var(--sg-text-color, var(--theme-code-foreground, var(--jp-content-font-color1, black)));\n",
              "  --sklearn-color-icon: #696969;\n",
              "\n",
              "  @media (prefers-color-scheme: dark) {\n",
              "    /* Redefinition of color scheme for dark theme */\n",
              "    --sklearn-color-text-on-default-background: var(--sg-text-color, var(--theme-code-foreground, var(--jp-content-font-color1, white)));\n",
              "    --sklearn-color-background: var(--sg-background-color, var(--theme-background, var(--jp-layout-color0, #111)));\n",
              "    --sklearn-color-border-box: var(--sg-text-color, var(--theme-code-foreground, var(--jp-content-font-color1, white)));\n",
              "    --sklearn-color-icon: #878787;\n",
              "  }\n",
              "}\n",
              "\n",
              "#sk-container-id-2 {\n",
              "  color: var(--sklearn-color-text);\n",
              "}\n",
              "\n",
              "#sk-container-id-2 pre {\n",
              "  padding: 0;\n",
              "}\n",
              "\n",
              "#sk-container-id-2 input.sk-hidden--visually {\n",
              "  border: 0;\n",
              "  clip: rect(1px 1px 1px 1px);\n",
              "  clip: rect(1px, 1px, 1px, 1px);\n",
              "  height: 1px;\n",
              "  margin: -1px;\n",
              "  overflow: hidden;\n",
              "  padding: 0;\n",
              "  position: absolute;\n",
              "  width: 1px;\n",
              "}\n",
              "\n",
              "#sk-container-id-2 div.sk-dashed-wrapped {\n",
              "  border: 1px dashed var(--sklearn-color-line);\n",
              "  margin: 0 0.4em 0.5em 0.4em;\n",
              "  box-sizing: border-box;\n",
              "  padding-bottom: 0.4em;\n",
              "  background-color: var(--sklearn-color-background);\n",
              "}\n",
              "\n",
              "#sk-container-id-2 div.sk-container {\n",
              "  /* jupyter's `normalize.less` sets `[hidden] { display: none; }`\n",
              "     but bootstrap.min.css set `[hidden] { display: none !important; }`\n",
              "     so we also need the `!important` here to be able to override the\n",
              "     default hidden behavior on the sphinx rendered scikit-learn.org.\n",
              "     See: https://github.com/scikit-learn/scikit-learn/issues/21755 */\n",
              "  display: inline-block !important;\n",
              "  position: relative;\n",
              "}\n",
              "\n",
              "#sk-container-id-2 div.sk-text-repr-fallback {\n",
              "  display: none;\n",
              "}\n",
              "\n",
              "div.sk-parallel-item,\n",
              "div.sk-serial,\n",
              "div.sk-item {\n",
              "  /* draw centered vertical line to link estimators */\n",
              "  background-image: linear-gradient(var(--sklearn-color-text-on-default-background), var(--sklearn-color-text-on-default-background));\n",
              "  background-size: 2px 100%;\n",
              "  background-repeat: no-repeat;\n",
              "  background-position: center center;\n",
              "}\n",
              "\n",
              "/* Parallel-specific style estimator block */\n",
              "\n",
              "#sk-container-id-2 div.sk-parallel-item::after {\n",
              "  content: \"\";\n",
              "  width: 100%;\n",
              "  border-bottom: 2px solid var(--sklearn-color-text-on-default-background);\n",
              "  flex-grow: 1;\n",
              "}\n",
              "\n",
              "#sk-container-id-2 div.sk-parallel {\n",
              "  display: flex;\n",
              "  align-items: stretch;\n",
              "  justify-content: center;\n",
              "  background-color: var(--sklearn-color-background);\n",
              "  position: relative;\n",
              "}\n",
              "\n",
              "#sk-container-id-2 div.sk-parallel-item {\n",
              "  display: flex;\n",
              "  flex-direction: column;\n",
              "}\n",
              "\n",
              "#sk-container-id-2 div.sk-parallel-item:first-child::after {\n",
              "  align-self: flex-end;\n",
              "  width: 50%;\n",
              "}\n",
              "\n",
              "#sk-container-id-2 div.sk-parallel-item:last-child::after {\n",
              "  align-self: flex-start;\n",
              "  width: 50%;\n",
              "}\n",
              "\n",
              "#sk-container-id-2 div.sk-parallel-item:only-child::after {\n",
              "  width: 0;\n",
              "}\n",
              "\n",
              "/* Serial-specific style estimator block */\n",
              "\n",
              "#sk-container-id-2 div.sk-serial {\n",
              "  display: flex;\n",
              "  flex-direction: column;\n",
              "  align-items: center;\n",
              "  background-color: var(--sklearn-color-background);\n",
              "  padding-right: 1em;\n",
              "  padding-left: 1em;\n",
              "}\n",
              "\n",
              "\n",
              "/* Toggleable style: style used for estimator/Pipeline/ColumnTransformer box that is\n",
              "clickable and can be expanded/collapsed.\n",
              "- Pipeline and ColumnTransformer use this feature and define the default style\n",
              "- Estimators will overwrite some part of the style using the `sk-estimator` class\n",
              "*/\n",
              "\n",
              "/* Pipeline and ColumnTransformer style (default) */\n",
              "\n",
              "#sk-container-id-2 div.sk-toggleable {\n",
              "  /* Default theme specific background. It is overwritten whether we have a\n",
              "  specific estimator or a Pipeline/ColumnTransformer */\n",
              "  background-color: var(--sklearn-color-background);\n",
              "}\n",
              "\n",
              "/* Toggleable label */\n",
              "#sk-container-id-2 label.sk-toggleable__label {\n",
              "  cursor: pointer;\n",
              "  display: flex;\n",
              "  width: 100%;\n",
              "  margin-bottom: 0;\n",
              "  padding: 0.5em;\n",
              "  box-sizing: border-box;\n",
              "  text-align: center;\n",
              "  align-items: start;\n",
              "  justify-content: space-between;\n",
              "  gap: 0.5em;\n",
              "}\n",
              "\n",
              "#sk-container-id-2 label.sk-toggleable__label .caption {\n",
              "  font-size: 0.6rem;\n",
              "  font-weight: lighter;\n",
              "  color: var(--sklearn-color-text-muted);\n",
              "}\n",
              "\n",
              "#sk-container-id-2 label.sk-toggleable__label-arrow:before {\n",
              "  /* Arrow on the left of the label */\n",
              "  content: \"▸\";\n",
              "  float: left;\n",
              "  margin-right: 0.25em;\n",
              "  color: var(--sklearn-color-icon);\n",
              "}\n",
              "\n",
              "#sk-container-id-2 label.sk-toggleable__label-arrow:hover:before {\n",
              "  color: var(--sklearn-color-text);\n",
              "}\n",
              "\n",
              "/* Toggleable content - dropdown */\n",
              "\n",
              "#sk-container-id-2 div.sk-toggleable__content {\n",
              "  max-height: 0;\n",
              "  max-width: 0;\n",
              "  overflow: hidden;\n",
              "  text-align: left;\n",
              "  /* unfitted */\n",
              "  background-color: var(--sklearn-color-unfitted-level-0);\n",
              "}\n",
              "\n",
              "#sk-container-id-2 div.sk-toggleable__content.fitted {\n",
              "  /* fitted */\n",
              "  background-color: var(--sklearn-color-fitted-level-0);\n",
              "}\n",
              "\n",
              "#sk-container-id-2 div.sk-toggleable__content pre {\n",
              "  margin: 0.2em;\n",
              "  border-radius: 0.25em;\n",
              "  color: var(--sklearn-color-text);\n",
              "  /* unfitted */\n",
              "  background-color: var(--sklearn-color-unfitted-level-0);\n",
              "}\n",
              "\n",
              "#sk-container-id-2 div.sk-toggleable__content.fitted pre {\n",
              "  /* unfitted */\n",
              "  background-color: var(--sklearn-color-fitted-level-0);\n",
              "}\n",
              "\n",
              "#sk-container-id-2 input.sk-toggleable__control:checked~div.sk-toggleable__content {\n",
              "  /* Expand drop-down */\n",
              "  max-height: 200px;\n",
              "  max-width: 100%;\n",
              "  overflow: auto;\n",
              "}\n",
              "\n",
              "#sk-container-id-2 input.sk-toggleable__control:checked~label.sk-toggleable__label-arrow:before {\n",
              "  content: \"▾\";\n",
              "}\n",
              "\n",
              "/* Pipeline/ColumnTransformer-specific style */\n",
              "\n",
              "#sk-container-id-2 div.sk-label input.sk-toggleable__control:checked~label.sk-toggleable__label {\n",
              "  color: var(--sklearn-color-text);\n",
              "  background-color: var(--sklearn-color-unfitted-level-2);\n",
              "}\n",
              "\n",
              "#sk-container-id-2 div.sk-label.fitted input.sk-toggleable__control:checked~label.sk-toggleable__label {\n",
              "  background-color: var(--sklearn-color-fitted-level-2);\n",
              "}\n",
              "\n",
              "/* Estimator-specific style */\n",
              "\n",
              "/* Colorize estimator box */\n",
              "#sk-container-id-2 div.sk-estimator input.sk-toggleable__control:checked~label.sk-toggleable__label {\n",
              "  /* unfitted */\n",
              "  background-color: var(--sklearn-color-unfitted-level-2);\n",
              "}\n",
              "\n",
              "#sk-container-id-2 div.sk-estimator.fitted input.sk-toggleable__control:checked~label.sk-toggleable__label {\n",
              "  /* fitted */\n",
              "  background-color: var(--sklearn-color-fitted-level-2);\n",
              "}\n",
              "\n",
              "#sk-container-id-2 div.sk-label label.sk-toggleable__label,\n",
              "#sk-container-id-2 div.sk-label label {\n",
              "  /* The background is the default theme color */\n",
              "  color: var(--sklearn-color-text-on-default-background);\n",
              "}\n",
              "\n",
              "/* On hover, darken the color of the background */\n",
              "#sk-container-id-2 div.sk-label:hover label.sk-toggleable__label {\n",
              "  color: var(--sklearn-color-text);\n",
              "  background-color: var(--sklearn-color-unfitted-level-2);\n",
              "}\n",
              "\n",
              "/* Label box, darken color on hover, fitted */\n",
              "#sk-container-id-2 div.sk-label.fitted:hover label.sk-toggleable__label.fitted {\n",
              "  color: var(--sklearn-color-text);\n",
              "  background-color: var(--sklearn-color-fitted-level-2);\n",
              "}\n",
              "\n",
              "/* Estimator label */\n",
              "\n",
              "#sk-container-id-2 div.sk-label label {\n",
              "  font-family: monospace;\n",
              "  font-weight: bold;\n",
              "  display: inline-block;\n",
              "  line-height: 1.2em;\n",
              "}\n",
              "\n",
              "#sk-container-id-2 div.sk-label-container {\n",
              "  text-align: center;\n",
              "}\n",
              "\n",
              "/* Estimator-specific */\n",
              "#sk-container-id-2 div.sk-estimator {\n",
              "  font-family: monospace;\n",
              "  border: 1px dotted var(--sklearn-color-border-box);\n",
              "  border-radius: 0.25em;\n",
              "  box-sizing: border-box;\n",
              "  margin-bottom: 0.5em;\n",
              "  /* unfitted */\n",
              "  background-color: var(--sklearn-color-unfitted-level-0);\n",
              "}\n",
              "\n",
              "#sk-container-id-2 div.sk-estimator.fitted {\n",
              "  /* fitted */\n",
              "  background-color: var(--sklearn-color-fitted-level-0);\n",
              "}\n",
              "\n",
              "/* on hover */\n",
              "#sk-container-id-2 div.sk-estimator:hover {\n",
              "  /* unfitted */\n",
              "  background-color: var(--sklearn-color-unfitted-level-2);\n",
              "}\n",
              "\n",
              "#sk-container-id-2 div.sk-estimator.fitted:hover {\n",
              "  /* fitted */\n",
              "  background-color: var(--sklearn-color-fitted-level-2);\n",
              "}\n",
              "\n",
              "/* Specification for estimator info (e.g. \"i\" and \"?\") */\n",
              "\n",
              "/* Common style for \"i\" and \"?\" */\n",
              "\n",
              ".sk-estimator-doc-link,\n",
              "a:link.sk-estimator-doc-link,\n",
              "a:visited.sk-estimator-doc-link {\n",
              "  float: right;\n",
              "  font-size: smaller;\n",
              "  line-height: 1em;\n",
              "  font-family: monospace;\n",
              "  background-color: var(--sklearn-color-background);\n",
              "  border-radius: 1em;\n",
              "  height: 1em;\n",
              "  width: 1em;\n",
              "  text-decoration: none !important;\n",
              "  margin-left: 0.5em;\n",
              "  text-align: center;\n",
              "  /* unfitted */\n",
              "  border: var(--sklearn-color-unfitted-level-1) 1pt solid;\n",
              "  color: var(--sklearn-color-unfitted-level-1);\n",
              "}\n",
              "\n",
              ".sk-estimator-doc-link.fitted,\n",
              "a:link.sk-estimator-doc-link.fitted,\n",
              "a:visited.sk-estimator-doc-link.fitted {\n",
              "  /* fitted */\n",
              "  border: var(--sklearn-color-fitted-level-1) 1pt solid;\n",
              "  color: var(--sklearn-color-fitted-level-1);\n",
              "}\n",
              "\n",
              "/* On hover */\n",
              "div.sk-estimator:hover .sk-estimator-doc-link:hover,\n",
              ".sk-estimator-doc-link:hover,\n",
              "div.sk-label-container:hover .sk-estimator-doc-link:hover,\n",
              ".sk-estimator-doc-link:hover {\n",
              "  /* unfitted */\n",
              "  background-color: var(--sklearn-color-unfitted-level-3);\n",
              "  color: var(--sklearn-color-background);\n",
              "  text-decoration: none;\n",
              "}\n",
              "\n",
              "div.sk-estimator.fitted:hover .sk-estimator-doc-link.fitted:hover,\n",
              ".sk-estimator-doc-link.fitted:hover,\n",
              "div.sk-label-container:hover .sk-estimator-doc-link.fitted:hover,\n",
              ".sk-estimator-doc-link.fitted:hover {\n",
              "  /* fitted */\n",
              "  background-color: var(--sklearn-color-fitted-level-3);\n",
              "  color: var(--sklearn-color-background);\n",
              "  text-decoration: none;\n",
              "}\n",
              "\n",
              "/* Span, style for the box shown on hovering the info icon */\n",
              ".sk-estimator-doc-link span {\n",
              "  display: none;\n",
              "  z-index: 9999;\n",
              "  position: relative;\n",
              "  font-weight: normal;\n",
              "  right: .2ex;\n",
              "  padding: .5ex;\n",
              "  margin: .5ex;\n",
              "  width: min-content;\n",
              "  min-width: 20ex;\n",
              "  max-width: 50ex;\n",
              "  color: var(--sklearn-color-text);\n",
              "  box-shadow: 2pt 2pt 4pt #999;\n",
              "  /* unfitted */\n",
              "  background: var(--sklearn-color-unfitted-level-0);\n",
              "  border: .5pt solid var(--sklearn-color-unfitted-level-3);\n",
              "}\n",
              "\n",
              ".sk-estimator-doc-link.fitted span {\n",
              "  /* fitted */\n",
              "  background: var(--sklearn-color-fitted-level-0);\n",
              "  border: var(--sklearn-color-fitted-level-3);\n",
              "}\n",
              "\n",
              ".sk-estimator-doc-link:hover span {\n",
              "  display: block;\n",
              "}\n",
              "\n",
              "/* \"?\"-specific style due to the `<a>` HTML tag */\n",
              "\n",
              "#sk-container-id-2 a.estimator_doc_link {\n",
              "  float: right;\n",
              "  font-size: 1rem;\n",
              "  line-height: 1em;\n",
              "  font-family: monospace;\n",
              "  background-color: var(--sklearn-color-background);\n",
              "  border-radius: 1rem;\n",
              "  height: 1rem;\n",
              "  width: 1rem;\n",
              "  text-decoration: none;\n",
              "  /* unfitted */\n",
              "  color: var(--sklearn-color-unfitted-level-1);\n",
              "  border: var(--sklearn-color-unfitted-level-1) 1pt solid;\n",
              "}\n",
              "\n",
              "#sk-container-id-2 a.estimator_doc_link.fitted {\n",
              "  /* fitted */\n",
              "  border: var(--sklearn-color-fitted-level-1) 1pt solid;\n",
              "  color: var(--sklearn-color-fitted-level-1);\n",
              "}\n",
              "\n",
              "/* On hover */\n",
              "#sk-container-id-2 a.estimator_doc_link:hover {\n",
              "  /* unfitted */\n",
              "  background-color: var(--sklearn-color-unfitted-level-3);\n",
              "  color: var(--sklearn-color-background);\n",
              "  text-decoration: none;\n",
              "}\n",
              "\n",
              "#sk-container-id-2 a.estimator_doc_link.fitted:hover {\n",
              "  /* fitted */\n",
              "  background-color: var(--sklearn-color-fitted-level-3);\n",
              "}\n",
              "</style><div id=\"sk-container-id-2\" class=\"sk-top-container\"><div class=\"sk-text-repr-fallback\"><pre>GridSearchCV(cv=5, estimator=RandomForestClassifier(random_state=42), n_jobs=-1,\n",
              "             param_grid={&#x27;class_weight&#x27;: [None, &#x27;balanced&#x27;],\n",
              "                         &#x27;max_depth&#x27;: [None, 10, 20],\n",
              "                         &#x27;min_samples_leaf&#x27;: [1, 2],\n",
              "                         &#x27;min_samples_split&#x27;: [2, 5],\n",
              "                         &#x27;n_estimators&#x27;: [100, 200]},\n",
              "             scoring=&#x27;recall&#x27;, verbose=2)</pre><b>In a Jupyter environment, please rerun this cell to show the HTML representation or trust the notebook. <br />On GitHub, the HTML representation is unable to render, please try loading this page with nbviewer.org.</b></div><div class=\"sk-container\" hidden><div class=\"sk-item sk-dashed-wrapped\"><div class=\"sk-label-container\"><div class=\"sk-label fitted sk-toggleable\"><input class=\"sk-toggleable__control sk-hidden--visually\" id=\"sk-estimator-id-2\" type=\"checkbox\" ><label for=\"sk-estimator-id-2\" class=\"sk-toggleable__label fitted sk-toggleable__label-arrow\"><div><div>GridSearchCV</div></div><div><a class=\"sk-estimator-doc-link fitted\" rel=\"noreferrer\" target=\"_blank\" href=\"https://scikit-learn.org/1.6/modules/generated/sklearn.model_selection.GridSearchCV.html\">?<span>Documentation for GridSearchCV</span></a><span class=\"sk-estimator-doc-link fitted\">i<span>Fitted</span></span></div></label><div class=\"sk-toggleable__content fitted\"><pre>GridSearchCV(cv=5, estimator=RandomForestClassifier(random_state=42), n_jobs=-1,\n",
              "             param_grid={&#x27;class_weight&#x27;: [None, &#x27;balanced&#x27;],\n",
              "                         &#x27;max_depth&#x27;: [None, 10, 20],\n",
              "                         &#x27;min_samples_leaf&#x27;: [1, 2],\n",
              "                         &#x27;min_samples_split&#x27;: [2, 5],\n",
              "                         &#x27;n_estimators&#x27;: [100, 200]},\n",
              "             scoring=&#x27;recall&#x27;, verbose=2)</pre></div> </div></div><div class=\"sk-parallel\"><div class=\"sk-parallel-item\"><div class=\"sk-item\"><div class=\"sk-label-container\"><div class=\"sk-label fitted sk-toggleable\"><input class=\"sk-toggleable__control sk-hidden--visually\" id=\"sk-estimator-id-3\" type=\"checkbox\" ><label for=\"sk-estimator-id-3\" class=\"sk-toggleable__label fitted sk-toggleable__label-arrow\"><div><div>best_estimator_: RandomForestClassifier</div></div></label><div class=\"sk-toggleable__content fitted\"><pre>RandomForestClassifier(n_estimators=200, random_state=42)</pre></div> </div></div><div class=\"sk-serial\"><div class=\"sk-item\"><div class=\"sk-estimator fitted sk-toggleable\"><input class=\"sk-toggleable__control sk-hidden--visually\" id=\"sk-estimator-id-4\" type=\"checkbox\" ><label for=\"sk-estimator-id-4\" class=\"sk-toggleable__label fitted sk-toggleable__label-arrow\"><div><div>RandomForestClassifier</div></div><div><a class=\"sk-estimator-doc-link fitted\" rel=\"noreferrer\" target=\"_blank\" href=\"https://scikit-learn.org/1.6/modules/generated/sklearn.ensemble.RandomForestClassifier.html\">?<span>Documentation for RandomForestClassifier</span></a></div></label><div class=\"sk-toggleable__content fitted\"><pre>RandomForestClassifier(n_estimators=200, random_state=42)</pre></div> </div></div></div></div></div></div></div></div></div>"
            ]
          },
          "metadata": {},
          "execution_count": 32
        }
      ]
    },
    {
      "cell_type": "code",
      "source": [
        "print(\"Melhores hiperparâmetros:\", grid_search.best_params_)\n",
        "\n",
        "best_model = grid_search.best_estimator_\n"
      ],
      "metadata": {
        "colab": {
          "base_uri": "https://localhost:8080/"
        },
        "id": "HN12gL7k-b9Q",
        "outputId": "19525e68-3eb2-41a4-cac7-7ef3314a398e"
      },
      "execution_count": 33,
      "outputs": [
        {
          "output_type": "stream",
          "name": "stdout",
          "text": [
            "Melhores hiperparâmetros: {'class_weight': None, 'max_depth': None, 'min_samples_leaf': 1, 'min_samples_split': 2, 'n_estimators': 200}\n"
          ]
        }
      ]
    },
    {
      "cell_type": "code",
      "source": [
        "y_pred_best = best_model.predict(X_test)\n",
        "\n",
        "from sklearn.metrics import classification_report, confusion_matrix\n",
        "print(confusion_matrix(y_test, y_pred_best))\n",
        "print(classification_report(y_test, y_pred_best))\n"
      ],
      "metadata": {
        "colab": {
          "base_uri": "https://localhost:8080/"
        },
        "id": "bCseFgqVGDfn",
        "outputId": "fae65932-5291-4df7-b50e-beb9ea9a8361"
      },
      "execution_count": 34,
      "outputs": [
        {
          "output_type": "stream",
          "name": "stdout",
          "text": [
            "[[4332  131]\n",
            " [ 328  910]]\n",
            "              precision    recall  f1-score   support\n",
            "\n",
            "           0       0.93      0.97      0.95      4463\n",
            "           1       0.87      0.74      0.80      1238\n",
            "\n",
            "    accuracy                           0.92      5701\n",
            "   macro avg       0.90      0.85      0.87      5701\n",
            "weighted avg       0.92      0.92      0.92      5701\n",
            "\n"
          ]
        }
      ]
    },
    {
      "cell_type": "markdown",
      "source": [
        "\"Utilizei validação cruzada com GridSearchCV para encontrar os melhores hiperparâmetros do modelo Random Forest, focando em maximizar o recall da classe de inadimplentes (classe 1). Com isso, obtivemos uma melhora no desempenho em relação à versão inicial do modelo, especialmente na sensibilidade para detectar inadimplência.\""
      ],
      "metadata": {
        "id": "odYcN8URGM8-"
      }
    },
    {
      "cell_type": "markdown",
      "source": [
        "Precisão para inadimplentes: 89% → poucas falsas previsões positivas.\n",
        "\n",
        "Recall para inadimplentes: 74% → o modelo consegue encontrar a maioria dos casos de inadimplência.\n",
        "\n",
        "F1-score: 0.80 → equilíbrio entre precisão e recall.\n",
        "\n",
        "Acurácia geral: 92%\n",
        "\n",
        "💡 A melhoria no modelo permitiu identificar inadimplentes com mais segurança, mesmo com o desbalanceamento original dos dados.\n",
        "\n"
      ],
      "metadata": {
        "id": "BAfsg9PMJdLk"
      }
    },
    {
      "cell_type": "markdown",
      "source": [
        "# Interpretação do Modelo: Feature Importance"
      ],
      "metadata": {
        "id": "OQz_6wbpGxAL"
      }
    },
    {
      "cell_type": "code",
      "source": [
        "import matplotlib.pyplot as plt\n",
        "import seaborn as sns\n",
        "import pandas as pd\n",
        "\n",
        "# Obter a importância das features\n",
        "importances = best_model.feature_importances_\n",
        "feature_names = X_train.columns\n",
        "feature_importance_df = pd.DataFrame({\n",
        "    'feature': feature_names,\n",
        "    'importance': importances\n",
        "}).sort_values(by='importance', ascending=False)\n",
        "\n",
        "# Visualizar\n",
        "plt.figure(figsize=(10, 6))\n",
        "sns.barplot(x='importance', y='feature', data=feature_importance_df)\n",
        "plt.title('Importância das Variáveis')\n",
        "plt.tight_layout()\n",
        "plt.show()\n"
      ],
      "metadata": {
        "colab": {
          "base_uri": "https://localhost:8080/",
          "height": 440
        },
        "id": "3ScWcp6PGwRE",
        "outputId": "b7a4f17d-90f7-4771-b2a8-7912ea4fdef8"
      },
      "execution_count": 35,
      "outputs": [
        {
          "output_type": "display_data",
          "data": {
            "text/plain": [
              "<Figure size 1000x600 with 1 Axes>"
            ],
            "image/png": "[encoded data removed]"
          },
          "metadata": {}
        }
      ]
    },
    {
      "cell_type": "markdown",
      "source": [
        "Taxas de juros e renda comprometida estão altamente ligadas ao risco de inadimplência.\n",
        "\n",
        "Quanto menor o tempo de emprego e histórico de crédito, maior o risco.\n",
        "\n",
        "Fatores como loan_intent e home_ownership tiveram menor impacto."
      ],
      "metadata": {
        "id": "cF_moU98JqG1"
      }
    },
    {
      "cell_type": "markdown",
      "source": [
        "Conclusão\n",
        "O modelo final apresentou excelente desempenho preditivo, com capacidade de prever inadimplência com alta precisão e recall. A análise de importância das variáveis reforçou o valor das informações financeiras para prever o risco de crédito.\n",
        "\n"
      ],
      "metadata": {
        "id": "ueOF7OjUJtrD"
      }
    },
    {
      "cell_type": "code",
      "source": [],
      "metadata": {
        "id": "NTAhfmlbHKyD"
      },
      "execution_count": 35,
      "outputs": []
    },
    {
      "cell_type": "code",
      "execution_count": 36,
      "metadata": {
        "id": "Pjl44GB12GHd"
      },
      "outputs": [],
      "source": [
        "\n",
        "import pandas as pd\n",
        "import numpy as np\n"
      ]
    },
    {
      "cell_type": "code",
      "source": [
        "import kagglehub\n",
        "\n",
        "# Download latest version\n",
        "path = kagglehub.dataset_download(\"laotse/credit-risk-dataset\")\n",
        "\n",
        "print(\"Path to dataset files:\", path)"
      ],
      "metadata": {
        "colab": {
          "base_uri": "https://localhost:8080/"
        },
        "outputId": "dc494a4b-3b4b-4568-c4cf-93eb81eacd0a",
        "id": "zfs2Doyu2GHe"
      },
      "execution_count": 37,
      "outputs": [
        {
          "output_type": "stream",
          "name": "stdout",
          "text": [
            "Path to dataset files: /kaggle/input/credit-risk-dataset\n"
          ]
        }
      ]
    },
    {
      "cell_type": "code",
      "source": [
        "# Criar a pasta .kaggle\n",
        "!mkdir -p ~/.kaggle\n",
        "\n",
        "# Mover o arquivo para a pasta certa\n",
        "!cp kaggle.json ~/.kaggle/\n",
        "\n",
        "# Dar permissão de leitura\n",
        "!chmod 600 ~/.kaggle/kaggle.json\n"
      ],
      "metadata": {
        "id": "GxXoQs_l2GHf"
      },
      "execution_count": 39,
      "outputs": []
    },
    {
      "cell_type": "code",
      "source": [
        "!kaggle datasets download -d laotse/credit-risk-dataset\n"
      ],
      "metadata": {
        "colab": {
          "base_uri": "https://localhost:8080/"
        },
        "outputId": "119546d9-c945-48c6-831d-0299b7f5d649",
        "id": "Mc40UEn52GHf"
      },
      "execution_count": 40,
      "outputs": [
        {
          "output_type": "stream",
          "name": "stdout",
          "text": [
            "Dataset URL: https://www.kaggle.com/datasets/laotse/credit-risk-dataset\n",
            "License(s): CC0-1.0\n",
            "credit-risk-dataset.zip: Skipping, found more recently modified local copy (use --force to force download)\n"
          ]
        }
      ]
    },
    {
      "cell_type": "code",
      "source": [
        "import zipfile\n",
        "\n",
        "with zipfile.ZipFile('credit-risk-dataset.zip', 'r') as zip_ref:\n",
        "    zip_ref.extractall()\n"
      ],
      "metadata": {
        "id": "xmy8ua3s2GHf"
      },
      "execution_count": 41,
      "outputs": []
    },
    {
      "cell_type": "code",
      "source": [
        "import os\n",
        "print(os.listdir())\n"
      ],
      "metadata": {
        "colab": {
          "base_uri": "https://localhost:8080/"
        },
        "outputId": "c700960d-8cec-49ce-f8e1-cace32647ec5",
        "id": "TtGN_iqO2GHf"
      },
      "execution_count": 42,
      "outputs": [
        {
          "output_type": "stream",
          "name": "stdout",
          "text": [
            "['.config', 'kaggle (3).json', 'kaggle (4).json', 'credit_risk_dataset.csv', 'credit-risk-dataset.zip', 'kaggle (2).json', 'kaggle (5).json', 'kaggle (1).json', 'kaggle.json', 'sample_data']\n"
          ]
        }
      ]
    },
    {
      "cell_type": "code",
      "source": [
        "import pandas as pd\n",
        "\n",
        "df = pd.read_csv('credit_risk_dataset.csv')\n",
        "print(df.head())\n"
      ],
      "metadata": {
        "colab": {
          "base_uri": "https://localhost:8080/"
        },
        "outputId": "b0ba440a-db60-4b23-d943-8958574c7b94",
        "id": "fTdY81v02GHg"
      },
      "execution_count": 43,
      "outputs": [
        {
          "output_type": "stream",
          "name": "stdout",
          "text": [
            "   person_age  person_income person_home_ownership  person_emp_length  \\\n",
            "0          22          59000                  RENT              123.0   \n",
            "1          21           9600                   OWN                5.0   \n",
            "2          25           9600              MORTGAGE                1.0   \n",
            "3          23          65500                  RENT                4.0   \n",
            "4          24          54400                  RENT                8.0   \n",
            "\n",
            "  loan_intent loan_grade  loan_amnt  loan_int_rate  loan_status  \\\n",
            "0    PERSONAL          D      35000          16.02            1   \n",
            "1   EDUCATION          B       1000          11.14            0   \n",
            "2     MEDICAL          C       5500          12.87            1   \n",
            "3     MEDICAL          C      35000          15.23            1   \n",
            "4     MEDICAL          C      35000          14.27            1   \n",
            "\n",
            "   loan_percent_income cb_person_default_on_file  cb_person_cred_hist_length  \n",
            "0                 0.59                         Y                           3  \n",
            "1                 0.10                         N                           2  \n",
            "2                 0.57                         N                           3  \n",
            "3                 0.53                         N                           2  \n",
            "4                 0.55                         Y                           4  \n"
          ]
        }
      ]
    },
    {
      "cell_type": "code",
      "source": [
        "# Ver primeiras linhas\n",
        "df.head()\n",
        "\n",
        "# Ver estrutura do DataFrame\n",
        "df.info()\n",
        "\n",
        "# Ver estatísticas gerais\n",
        "df.describe()\n",
        "\n",
        "# Verificar valores nulos\n",
        "df.isnull().sum()\n",
        "\n",
        "# Ver os tipos das variáveis\n",
        "df.dtypes\n"
      ],
      "metadata": {
        "colab": {
          "base_uri": "https://localhost:8080/",
          "height": 790
        },
        "outputId": "15ca0d2c-92b2-4fca-c4b3-91d953e39b49",
        "id": "8KBcQFqT2GHg"
      },
      "execution_count": 44,
      "outputs": [
        {
          "output_type": "stream",
          "name": "stdout",
          "text": [
            "<class 'pandas.core.frame.DataFrame'>\n",
            "RangeIndex: 32581 entries, 0 to 32580\n",
            "Data columns (total 12 columns):\n",
            " #   Column                      Non-Null Count  Dtype  \n",
            "---  ------                      --------------  -----  \n",
            " 0   person_age                  32581 non-null  int64  \n",
            " 1   person_income               32581 non-null  int64  \n",
            " 2   person_home_ownership       32581 non-null  object \n",
            " 3   person_emp_length           31686 non-null  float64\n",
            " 4   loan_intent                 32581 non-null  object \n",
            " 5   loan_grade                  32581 non-null  object \n",
            " 6   loan_amnt                   32581 non-null  int64  \n",
            " 7   loan_int_rate               29465 non-null  float64\n",
            " 8   loan_status                 32581 non-null  int64  \n",
            " 9   loan_percent_income         32581 non-null  float64\n",
            " 10  cb_person_default_on_file   32581 non-null  object \n",
            " 11  cb_person_cred_hist_length  32581 non-null  int64  \n",
            "dtypes: float64(3), int64(5), object(4)\n",
            "memory usage: 3.0+ MB\n"
          ]
        },
        {
          "output_type": "execute_result",
          "data": {
            "text/plain": [
              "person_age                      int64\n",
              "person_income                   int64\n",
              "person_home_ownership          object\n",
              "person_emp_length             float64\n",
              "loan_intent                    object\n",
              "loan_grade                     object\n",
              "loan_amnt                       int64\n",
              "loan_int_rate                 float64\n",
              "loan_status                     int64\n",
              "loan_percent_income           float64\n",
              "cb_person_default_on_file      object\n",
              "cb_person_cred_hist_length      int64\n",
              "dtype: object"
            ],
            "text/html": [
              "<div>\n",
              "<style scoped>\n",
              "    .dataframe tbody tr th:only-of-type {\n",
              "        vertical-align: middle;\n",
              "    }\n",
              "\n",
              "    .dataframe tbody tr th {\n",
              "        vertical-align: top;\n",
              "    }\n",
              "\n",
              "    .dataframe thead th {\n",
              "        text-align: right;\n",
              "    }\n",
              "</style>\n",
              "<table border=\"1\" class=\"dataframe\">\n",
              "  <thead>\n",
              "    <tr style=\"text-align: right;\">\n",
              "      <th></th>\n",
              "      <th>0</th>\n",
              "    </tr>\n",
              "  </thead>\n",
              "  <tbody>\n",
              "    <tr>\n",
              "      <th>person_age</th>\n",
              "      <td>int64</td>\n",
              "    </tr>\n",
              "    <tr>\n",
              "      <th>person_income</th>\n",
              "      <td>int64</td>\n",
              "    </tr>\n",
              "    <tr>\n",
              "      <th>person_home_ownership</th>\n",
              "      <td>object</td>\n",
              "    </tr>\n",
              "    <tr>\n",
              "      <th>person_emp_length</th>\n",
              "      <td>float64</td>\n",
              "    </tr>\n",
              "    <tr>\n",
              "      <th>loan_intent</th>\n",
              "      <td>object</td>\n",
              "    </tr>\n",
              "    <tr>\n",
              "      <th>loan_grade</th>\n",
              "      <td>object</td>\n",
              "    </tr>\n",
              "    <tr>\n",
              "      <th>loan_amnt</th>\n",
              "      <td>int64</td>\n",
              "    </tr>\n",
              "    <tr>\n",
              "      <th>loan_int_rate</th>\n",
              "      <td>float64</td>\n",
              "    </tr>\n",
              "    <tr>\n",
              "      <th>loan_status</th>\n",
              "      <td>int64</td>\n",
              "    </tr>\n",
              "    <tr>\n",
              "      <th>loan_percent_income</th>\n",
              "      <td>float64</td>\n",
              "    </tr>\n",
              "    <tr>\n",
              "      <th>cb_person_default_on_file</th>\n",
              "      <td>object</td>\n",
              "    </tr>\n",
              "    <tr>\n",
              "      <th>cb_person_cred_hist_length</th>\n",
              "      <td>int64</td>\n",
              "    </tr>\n",
              "  </tbody>\n",
              "</table>\n",
              "</div><br><label><b>dtype:</b> object</label>"
            ]
          },
          "metadata": {},
          "execution_count": 44
        }
      ]
    },
    {
      "cell_type": "code",
      "source": [
        "df.isnull().sum()  # Verifica nulos\n",
        "df.dropna(inplace=True)  # Remove linhas com nulos\n",
        "\n",
        "df.duplicated().sum()  # Verifica duplicatas\n",
        "df.drop_duplicates(inplace=True)"
      ],
      "metadata": {
        "id": "VSqAEVbD2GHg"
      },
      "execution_count": 45,
      "outputs": []
    },
    {
      "cell_type": "code",
      "source": [
        "import seaborn as sns\n",
        "import matplotlib.pyplot as plt\n",
        "\n",
        "sns.countplot(x='loan_status', data=df)\n",
        "plt.title('Distribuição da variável alvo (Status do Empréstimo)')\n",
        "plt.xlabel('Status do Empréstimo')\n",
        "plt.ylabel('Quantidade')\n",
        "plt.show()\n"
      ],
      "metadata": {
        "colab": {
          "base_uri": "https://localhost:8080/",
          "height": 473
        },
        "outputId": "a51355fa-a79e-4c14-fcc2-7b63e0d43f0c",
        "id": "lMeEBcHC2GHg"
      },
      "execution_count": 46,
      "outputs": [
        {
          "output_type": "display_data",
          "data": {
            "text/plain": [
              "<Figure size 640x480 with 1 Axes>"
            ],
            "image/png": "[encoded data removed]"
          },
          "metadata": {}
        }
      ]
    },
    {
      "cell_type": "code",
      "source": [
        "# Importar bibliotecas\n",
        "import pandas as pd\n",
        "import seaborn as sns\n",
        "import matplotlib.pyplot as plt\n",
        "\n",
        "df = pd.read_csv(path + '/credit_risk_dataset.csv')\n",
        "print(df.head())\n",
        "\n",
        "# Ver primeiras linhas\n",
        "print(\"Primeiras linhas do dataset:\")\n",
        "display(df.head())\n",
        "\n",
        "# Ver informações gerais do DataFrame\n",
        "print(\"Informações do DataFrame:\")\n",
        "df.info()\n",
        "\n",
        "# Estatísticas descritivas\n",
        "print(\"Estatísticas descritivas:\")\n",
        "display(df.describe())\n",
        "\n",
        "# Contar valores únicos da variável-alvo\n",
        "print(\"Distribuição da variável loan_status:\")\n",
        "print(df['loan_status'].value_counts())\n",
        "\n",
        "# Criar coluna com rótulos mais legíveis\n",
        "df['loan_status_label'] = df['loan_status'].map({0: 'Pagou', 1: 'Inadimplente'})\n",
        "\n",
        "# Visualização: Distribuição da variável-alvo\n",
        "plt.figure(figsize=(6,4))\n",
        "sns.countplot(x='loan_status_label', data=df, palette='Set2')\n",
        "plt.title('Distribuição dos Clientes: Pagaram vs Inadimplentes')\n",
        "plt.xlabel('Status do Empréstimo')\n",
        "plt.ylabel('Quantidade')\n",
        "plt.show()\n",
        "\n",
        "# Visualização: Distribuição de idade\n",
        "plt.figure(figsize=(6,4))\n",
        "sns.histplot(df['person_age'], bins=20, kde=True)\n",
        "plt.title('Distribuição da Idade dos Clientes')\n",
        "plt.xlabel('Idade')\n",
        "plt.ylabel('Frequência')\n",
        "plt.show()\n",
        "\n",
        "# Boxplot de renda por status do empréstimo\n",
        "plt.figure(figsize=(8,5))\n",
        "sns.boxplot(x='loan_status_label', y='person_income', data=df, palette='Set3')\n",
        "plt.title('Renda por Status do Empréstimo')\n",
        "plt.xlabel('Status do Cliente')\n",
        "plt.ylabel('Renda')\n",
        "plt.show()\n",
        "\n",
        "# Mapa de calor de correlação entre variáveis numéricas\n",
        "plt.figure(figsize=(10,8))\n",
        "sns.heatmap(df.corr(numeric_only=True), annot=True, cmap='coolwarm', fmt=\".2f\")\n",
        "plt.title('Correlação entre variáveis numéricas')\n",
        "plt.show()\n"
      ],
      "metadata": {
        "colab": {
          "base_uri": "https://localhost:8080/",
          "height": 1000
        },
        "outputId": "57c5d810-e937-41ab-909e-ce64ef02bcdf",
        "id": "7K68FWmh2GHh"
      },
      "execution_count": 47,
      "outputs": [
        {
          "output_type": "stream",
          "name": "stdout",
          "text": [
            "   person_age  person_income person_home_ownership  person_emp_length  \\\n",
            "0          22          59000                  RENT              123.0   \n",
            "1          21           9600                   OWN                5.0   \n",
            "2          25           9600              MORTGAGE                1.0   \n",
            "3          23          65500                  RENT                4.0   \n",
            "4          24          54400                  RENT                8.0   \n",
            "\n",
            "  loan_intent loan_grade  loan_amnt  loan_int_rate  loan_status  \\\n",
            "0    PERSONAL          D      35000          16.02            1   \n",
            "1   EDUCATION          B       1000          11.14            0   \n",
            "2     MEDICAL          C       5500          12.87            1   \n",
            "3     MEDICAL          C      35000          15.23            1   \n",
            "4     MEDICAL          C      35000          14.27            1   \n",
            "\n",
            "   loan_percent_income cb_person_default_on_file  cb_person_cred_hist_length  \n",
            "0                 0.59                         Y                           3  \n",
            "1                 0.10                         N                           2  \n",
            "2                 0.57                         N                           3  \n",
            "3                 0.53                         N                           2  \n",
            "4                 0.55                         Y                           4  \n",
            "Primeiras linhas do dataset:\n"
          ]
        },
        {
          "output_type": "display_data",
          "data": {
            "text/plain": [
              "   person_age  person_income person_home_ownership  person_emp_length  \\\n",
              "0          22          59000                  RENT              123.0   \n",
              "1          21           9600                   OWN                5.0   \n",
              "2          25           9600              MORTGAGE                1.0   \n",
              "3          23          65500                  RENT                4.0   \n",
              "4          24          54400                  RENT                8.0   \n",
              "\n",
              "  loan_intent loan_grade  loan_amnt  loan_int_rate  loan_status  \\\n",
              "0    PERSONAL          D      35000          16.02            1   \n",
              "1   EDUCATION          B       1000          11.14            0   \n",
              "2     MEDICAL          C       5500          12.87            1   \n",
              "3     MEDICAL          C      35000          15.23            1   \n",
              "4     MEDICAL          C      35000          14.27            1   \n",
              "\n",
              "   loan_percent_income cb_person_default_on_file  cb_person_cred_hist_length  \n",
              "0                 0.59                         Y                           3  \n",
              "1                 0.10                         N                           2  \n",
              "2                 0.57                         N                           3  \n",
              "3                 0.53                         N                           2  \n",
              "4                 0.55                         Y                           4  "
            ],
            "text/html": [
              "\n",
              "  <div id=\"df-a4b9af5c-589e-4c39-acc5-0e4e8d70f5a1\" class=\"colab-df-container\">\n",
              "    <div>\n",
              "<style scoped>\n",
              "    .dataframe tbody tr th:only-of-type {\n",
              "        vertical-align: middle;\n",
              "    }\n",
              "\n",
              "    .dataframe tbody tr th {\n",
              "        vertical-align: top;\n",
              "    }\n",
              "\n",
              "    .dataframe thead th {\n",
              "        text-align: right;\n",
              "    }\n",
              "</style>\n",
              "<table border=\"1\" class=\"dataframe\">\n",
              "  <thead>\n",
              "    <tr style=\"text-align: right;\">\n",
              "      <th></th>\n",
              "      <th>person_age</th>\n",
              "      <th>person_income</th>\n",
              "      <th>person_home_ownership</th>\n",
              "      <th>person_emp_length</th>\n",
              "      <th>loan_intent</th>\n",
              "      <th>loan_grade</th>\n",
              "      <th>loan_amnt</th>\n",
              "      <th>loan_int_rate</th>\n",
              "      <th>loan_status</th>\n",
              "      <th>loan_percent_income</th>\n",
              "      <th>cb_person_default_on_file</th>\n",
              "      <th>cb_person_cred_hist_length</th>\n",
              "    </tr>\n",
              "  </thead>\n",
              "  <tbody>\n",
              "    <tr>\n",
              "      <th>0</th>\n",
              "      <td>22</td>\n",
              "      <td>59000</td>\n",
              "      <td>RENT</td>\n",
              "      <td>123.0</td>\n",
              "      <td>PERSONAL</td>\n",
              "      <td>D</td>\n",
              "      <td>35000</td>\n",
              "      <td>16.02</td>\n",
              "      <td>1</td>\n",
              "      <td>0.59</td>\n",
              "      <td>Y</td>\n",
              "      <td>3</td>\n",
              "    </tr>\n",
              "    <tr>\n",
              "      <th>1</th>\n",
              "      <td>21</td>\n",
              "      <td>9600</td>\n",
              "      <td>OWN</td>\n",
              "      <td>5.0</td>\n",
              "      <td>EDUCATION</td>\n",
              "      <td>B</td>\n",
              "      <td>1000</td>\n",
              "      <td>11.14</td>\n",
              "      <td>0</td>\n",
              "      <td>0.10</td>\n",
              "      <td>N</td>\n",
              "      <td>2</td>\n",
              "    </tr>\n",
              "    <tr>\n",
              "      <th>2</th>\n",
              "      <td>25</td>\n",
              "      <td>9600</td>\n",
              "      <td>MORTGAGE</td>\n",
              "      <td>1.0</td>\n",
              "      <td>MEDICAL</td>\n",
              "      <td>C</td>\n",
              "      <td>5500</td>\n",
              "      <td>12.87</td>\n",
              "      <td>1</td>\n",
              "      <td>0.57</td>\n",
              "      <td>N</td>\n",
              "      <td>3</td>\n",
              "    </tr>\n",
              "    <tr>\n",
              "      <th>3</th>\n",
              "      <td>23</td>\n",
              "      <td>65500</td>\n",
              "      <td>RENT</td>\n",
              "      <td>4.0</td>\n",
              "      <td>MEDICAL</td>\n",
              "      <td>C</td>\n",
              "      <td>35000</td>\n",
              "      <td>15.23</td>\n",
              "      <td>1</td>\n",
              "      <td>0.53</td>\n",
              "      <td>N</td>\n",
              "      <td>2</td>\n",
              "    </tr>\n",
              "    <tr>\n",
              "      <th>4</th>\n",
              "      <td>24</td>\n",
              "      <td>54400</td>\n",
              "      <td>RENT</td>\n",
              "      <td>8.0</td>\n",
              "      <td>MEDICAL</td>\n",
              "      <td>C</td>\n",
              "      <td>35000</td>\n",
              "      <td>14.27</td>\n",
              "      <td>1</td>\n",
              "      <td>0.55</td>\n",
              "      <td>Y</td>\n",
              "      <td>4</td>\n",
              "    </tr>\n",
              "  </tbody>\n",
              "</table>\n",
              "</div>\n",
              "    <div class=\"colab-df-buttons\">\n",
              "\n",
              "  <div class=\"colab-df-container\">\n",
              "    <button class=\"colab-df-convert\" onclick=\"convertToInteractive('df-a4b9af5c-589e-4c39-acc5-0e4e8d70f5a1')\"\n",
              "            title=\"Convert this dataframe to an interactive table.\"\n",
              "            style=\"display:none;\">\n",
              "\n",
              "  <svg xmlns=\"http://www.w3.org/2000/svg\" height=\"24px\" viewBox=\"0 -960 960 960\">\n",
              "    <path d=\"M120-120v-720h720v720H120Zm60-500h600v-160H180v160Zm220 220h160v-160H400v160Zm0 220h160v-160H400v160ZM180-400h160v-160H180v160Zm440 0h160v-160H620v160ZM180-180h160v-160H180v160Zm440 0h160v-160H620v160Z\"/>\n",
              "  </svg>\n",
              "    </button>\n",
              "\n",
              "  <style>\n",
              "    .colab-df-container {\n",
              "      display:flex;\n",
              "      gap: 12px;\n",
              "    }\n",
              "\n",
              "    .colab-df-convert {\n",
              "      background-color: #E8F0FE;\n",
              "      border: none;\n",
              "      border-radius: 50%;\n",
              "      cursor: pointer;\n",
              "      display: none;\n",
              "      fill: #1967D2;\n",
              "      height: 32px;\n",
              "      padding: 0 0 0 0;\n",
              "      width: 32px;\n",
              "    }\n",
              "\n",
              "    .colab-df-convert:hover {\n",
              "      background-color: #E2EBFA;\n",
              "      box-shadow: 0px 1px 2px rgba(60, 64, 67, 0.3), 0px 1px 3px 1px rgba(60, 64, 67, 0.15);\n",
              "      fill: #174EA6;\n",
              "    }\n",
              "\n",
              "    .colab-df-buttons div {\n",
              "      margin-bottom: 4px;\n",
              "    }\n",
              "\n",
              "    [theme=dark] .colab-df-convert {\n",
              "      background-color: #3B4455;\n",
              "      fill: #D2E3FC;\n",
              "    }\n",
              "\n",
              "    [theme=dark] .colab-df-convert:hover {\n",
              "      background-color: #434B5C;\n",
              "      box-shadow: 0px 1px 3px 1px rgba(0, 0, 0, 0.15);\n",
              "      filter: drop-shadow(0px 1px 2px rgba(0, 0, 0, 0.3));\n",
              "      fill: #FFFFFF;\n",
              "    }\n",
              "  </style>\n",
              "\n",
              "    <script>\n",
              "      const buttonEl =\n",
              "        document.querySelector('#df-a4b9af5c-589e-4c39-acc5-0e4e8d70f5a1 button.colab-df-convert');\n",
              "      buttonEl.style.display =\n",
              "        google.colab.kernel.accessAllowed ? 'block' : 'none';\n",
              "\n",
              "      async function convertToInteractive(key) {\n",
              "        const element = document.querySelector('#df-a4b9af5c-589e-4c39-acc5-0e4e8d70f5a1');\n",
              "        const dataTable =\n",
              "          await google.colab.kernel.invokeFunction('convertToInteractive',\n",
              "                                                    [key], {});\n",
              "        if (!dataTable) return;\n",
              "\n",
              "        const docLinkHtml = 'Like what you see? Visit the ' +\n",
              "          '<a target=\"_blank\" href=https://colab.research.google.com/notebooks/data_table.ipynb>data table notebook</a>'\n",
              "          + ' to learn more about interactive tables.';\n",
              "        element.innerHTML = '';\n",
              "        dataTable['output_type'] = 'display_data';\n",
              "        await google.colab.output.renderOutput(dataTable, element);\n",
              "        const docLink = document.createElement('div');\n",
              "        docLink.innerHTML = docLinkHtml;\n",
              "        element.appendChild(docLink);\n",
              "      }\n",
              "    </script>\n",
              "  </div>\n",
              "\n",
              "\n",
              "    <div id=\"df-db33db89-f067-4fc4-99c5-c5dc852a2b37\">\n",
              "      <button class=\"colab-df-quickchart\" onclick=\"quickchart('df-db33db89-f067-4fc4-99c5-c5dc852a2b37')\"\n",
              "                title=\"Suggest charts\"\n",
              "                style=\"display:none;\">\n",
              "\n",
              "<svg xmlns=\"http://www.w3.org/2000/svg\" height=\"24px\"viewBox=\"0 0 24 24\"\n",
              "     width=\"24px\">\n",
              "    <g>\n",
              "        <path d=\"M19 3H5c-1.1 0-2 .9-2 2v14c0 1.1.9 2 2 2h14c1.1 0 2-.9 2-2V5c0-1.1-.9-2-2-2zM9 17H7v-7h2v7zm4 0h-2V7h2v10zm4 0h-2v-4h2v4z\"/>\n",
              "    </g>\n",
              "</svg>\n",
              "      </button>\n",
              "\n",
              "<style>\n",
              "  .colab-df-quickchart {\n",
              "      --bg-color: #E8F0FE;\n",
              "      --fill-color: #1967D2;\n",
              "      --hover-bg-color: #E2EBFA;\n",
              "      --hover-fill-color: #174EA6;\n",
              "      --disabled-fill-color: #AAA;\n",
              "      --disabled-bg-color: #DDD;\n",
              "  }\n",
              "\n",
              "  [theme=dark] .colab-df-quickchart {\n",
              "      --bg-color: #3B4455;\n",
              "      --fill-color: #D2E3FC;\n",
              "      --hover-bg-color: #434B5C;\n",
              "      --hover-fill-color: #FFFFFF;\n",
              "      --disabled-bg-color: #3B4455;\n",
              "      --disabled-fill-color: #666;\n",
              "  }\n",
              "\n",
              "  .colab-df-quickchart {\n",
              "    background-color: var(--bg-color);\n",
              "    border: none;\n",
              "    border-radius: 50%;\n",
              "    cursor: pointer;\n",
              "    display: none;\n",
              "    fill: var(--fill-color);\n",
              "    height: 32px;\n",
              "    padding: 0;\n",
              "    width: 32px;\n",
              "  }\n",
              "\n",
              "  .colab-df-quickchart:hover {\n",
              "    background-color: var(--hover-bg-color);\n",
              "    box-shadow: 0 1px 2px rgba(60, 64, 67, 0.3), 0 1px 3px 1px rgba(60, 64, 67, 0.15);\n",
              "    fill: var(--button-hover-fill-color);\n",
              "  }\n",
              "\n",
              "  .colab-df-quickchart-complete:disabled,\n",
              "  .colab-df-quickchart-complete:disabled:hover {\n",
              "    background-color: var(--disabled-bg-color);\n",
              "    fill: var(--disabled-fill-color);\n",
              "    box-shadow: none;\n",
              "  }\n",
              "\n",
              "  .colab-df-spinner {\n",
              "    border: 2px solid var(--fill-color);\n",
              "    border-color: transparent;\n",
              "    border-bottom-color: var(--fill-color);\n",
              "    animation:\n",
              "      spin 1s steps(1) infinite;\n",
              "  }\n",
              "\n",
              "  @keyframes spin {\n",
              "    0% {\n",
              "      border-color: transparent;\n",
              "      border-bottom-color: var(--fill-color);\n",
              "      border-left-color: var(--fill-color);\n",
              "    }\n",
              "    20% {\n",
              "      border-color: transparent;\n",
              "      border-left-color: var(--fill-color);\n",
              "      border-top-color: var(--fill-color);\n",
              "    }\n",
              "    30% {\n",
              "      border-color: transparent;\n",
              "      border-left-color: var(--fill-color);\n",
              "      border-top-color: var(--fill-color);\n",
              "      border-right-color: var(--fill-color);\n",
              "    }\n",
              "    40% {\n",
              "      border-color: transparent;\n",
              "      border-right-color: var(--fill-color);\n",
              "      border-top-color: var(--fill-color);\n",
              "    }\n",
              "    60% {\n",
              "      border-color: transparent;\n",
              "      border-right-color: var(--fill-color);\n",
              "    }\n",
              "    80% {\n",
              "      border-color: transparent;\n",
              "      border-right-color: var(--fill-color);\n",
              "      border-bottom-color: var(--fill-color);\n",
              "    }\n",
              "    90% {\n",
              "      border-color: transparent;\n",
              "      border-bottom-color: var(--fill-color);\n",
              "    }\n",
              "  }\n",
              "</style>\n",
              "\n",
              "      <script>\n",
              "        async function quickchart(key) {\n",
              "          const quickchartButtonEl =\n",
              "            document.querySelector('#' + key + ' button');\n",
              "          quickchartButtonEl.disabled = true;  // To prevent multiple clicks.\n",
              "          quickchartButtonEl.classList.add('colab-df-spinner');\n",
              "          try {\n",
              "            const charts = await google.colab.kernel.invokeFunction(\n",
              "                'suggestCharts', [key], {});\n",
              "          } catch (error) {\n",
              "            console.error('Error during call to suggestCharts:', error);\n",
              "          }\n",
              "          quickchartButtonEl.classList.remove('colab-df-spinner');\n",
              "          quickchartButtonEl.classList.add('colab-df-quickchart-complete');\n",
              "        }\n",
              "        (() => {\n",
              "          let quickchartButtonEl =\n",
              "            document.querySelector('#df-db33db89-f067-4fc4-99c5-c5dc852a2b37 button');\n",
              "          quickchartButtonEl.style.display =\n",
              "            google.colab.kernel.accessAllowed ? 'block' : 'none';\n",
              "        })();\n",
              "      </script>\n",
              "    </div>\n",
              "\n",
              "    </div>\n",
              "  </div>\n"
            ],
            "application/vnd.google.colaboratory.intrinsic+json": {
              "type": "dataframe",
              "summary": "{\n  \"name\": \"plt\",\n  \"rows\": 5,\n  \"fields\": [\n    {\n      \"column\": \"person_age\",\n      \"properties\": {\n        \"dtype\": \"number\",\n        \"std\": 1,\n        \"min\": 21,\n        \"max\": 25,\n        \"num_unique_values\": 5,\n        \"samples\": [\n          21,\n          24,\n          25\n        ],\n        \"semantic_type\": \"\",\n        \"description\": \"\"\n      }\n    },\n    {\n      \"column\": \"person_income\",\n      \"properties\": {\n        \"dtype\": \"number\",\n        \"std\": 27686,\n        \"min\": 9600,\n        \"max\": 65500,\n        \"num_unique_values\": 4,\n        \"samples\": [\n          9600,\n          54400,\n          59000\n        ],\n        \"semantic_type\": \"\",\n        \"description\": \"\"\n      }\n    },\n    {\n      \"column\": \"person_home_ownership\",\n      \"properties\": {\n        \"dtype\": \"string\",\n        \"num_unique_values\": 3,\n        \"samples\": [\n          \"RENT\",\n          \"OWN\",\n          \"MORTGAGE\"\n        ],\n        \"semantic_type\": \"\",\n        \"description\": \"\"\n      }\n    },\n    {\n      \"column\": \"person_emp_length\",\n      \"properties\": {\n        \"dtype\": \"number\",\n        \"std\": 53.0537463333175,\n        \"min\": 1.0,\n        \"max\": 123.0,\n        \"num_unique_values\": 5,\n        \"samples\": [\n          5.0,\n          8.0,\n          1.0\n        ],\n        \"semantic_type\": \"\",\n        \"description\": \"\"\n      }\n    },\n    {\n      \"column\": \"loan_intent\",\n      \"properties\": {\n        \"dtype\": \"string\",\n        \"num_unique_values\": 3,\n        \"samples\": [\n          \"PERSONAL\",\n          \"EDUCATION\",\n          \"MEDICAL\"\n        ],\n        \"semantic_type\": \"\",\n        \"description\": \"\"\n      }\n    },\n    {\n      \"column\": \"loan_grade\",\n      \"properties\": {\n        \"dtype\": \"string\",\n        \"num_unique_values\": 3,\n        \"samples\": [\n          \"D\",\n          \"B\",\n          \"C\"\n        ],\n        \"semantic_type\": \"\",\n        \"description\": \"\"\n      }\n    },\n    {\n      \"column\": \"loan_amnt\",\n      \"properties\": {\n        \"dtype\": \"number\",\n        \"std\": 17462,\n        \"min\": 1000,\n        \"max\": 35000,\n        \"num_unique_values\": 3,\n        \"samples\": [\n          35000,\n          1000,\n          5500\n        ],\n        \"semantic_type\": \"\",\n        \"description\": \"\"\n      }\n    },\n    {\n      \"column\": \"loan_int_rate\",\n      \"properties\": {\n        \"dtype\": \"number\",\n        \"std\": 1.9415535017093912,\n        \"min\": 11.14,\n        \"max\": 16.02,\n        \"num_unique_values\": 5,\n        \"samples\": [\n          11.14,\n          14.27,\n          12.87\n        ],\n        \"semantic_type\": \"\",\n        \"description\": \"\"\n      }\n    },\n    {\n      \"column\": \"loan_status\",\n      \"properties\": {\n        \"dtype\": \"number\",\n        \"std\": 0,\n        \"min\": 0,\n        \"max\": 1,\n        \"num_unique_values\": 2,\n        \"samples\": [\n          0,\n          1\n        ],\n        \"semantic_type\": \"\",\n        \"description\": \"\"\n      }\n    },\n    {\n      \"column\": \"loan_percent_income\",\n      \"properties\": {\n        \"dtype\": \"number\",\n        \"std\": 0.20692993983471797,\n        \"min\": 0.1,\n        \"max\": 0.59,\n        \"num_unique_values\": 5,\n        \"samples\": [\n          0.1,\n          0.55\n        ],\n        \"semantic_type\": \"\",\n        \"description\": \"\"\n      }\n    },\n    {\n      \"column\": \"cb_person_default_on_file\",\n      \"properties\": {\n        \"dtype\": \"category\",\n        \"num_unique_values\": 2,\n        \"samples\": [\n          \"N\",\n          \"Y\"\n        ],\n        \"semantic_type\": \"\",\n        \"description\": \"\"\n      }\n    },\n    {\n      \"column\": \"cb_person_cred_hist_length\",\n      \"properties\": {\n        \"dtype\": \"number\",\n        \"std\": 0,\n        \"min\": 2,\n        \"max\": 4,\n        \"num_unique_values\": 3,\n        \"samples\": [\n          3,\n          2\n        ],\n        \"semantic_type\": \"\",\n        \"description\": \"\"\n      }\n    }\n  ]\n}"
            }
          },
          "metadata": {}
        },
        {
          "output_type": "stream",
          "name": "stdout",
          "text": [
            "Informações do DataFrame:\n",
            "<class 'pandas.core.frame.DataFrame'>\n",
            "RangeIndex: 32581 entries, 0 to 32580\n",
            "Data columns (total 12 columns):\n",
            " #   Column                      Non-Null Count  Dtype  \n",
            "---  ------                      --------------  -----  \n",
            " 0   person_age                  32581 non-null  int64  \n",
            " 1   person_income               32581 non-null  int64  \n",
            " 2   person_home_ownership       32581 non-null  object \n",
            " 3   person_emp_length           31686 non-null  float64\n",
            " 4   loan_intent                 32581 non-null  object \n",
            " 5   loan_grade                  32581 non-null  object \n",
            " 6   loan_amnt                   32581 non-null  int64  \n",
            " 7   loan_int_rate               29465 non-null  float64\n",
            " 8   loan_status                 32581 non-null  int64  \n",
            " 9   loan_percent_income         32581 non-null  float64\n",
            " 10  cb_person_default_on_file   32581 non-null  object \n",
            " 11  cb_person_cred_hist_length  32581 non-null  int64  \n",
            "dtypes: float64(3), int64(5), object(4)\n",
            "memory usage: 3.0+ MB\n",
            "Estatísticas descritivas:\n"
          ]
        },
        {
          "output_type": "display_data",
          "data": {
            "text/plain": [
              "         person_age  person_income  person_emp_length     loan_amnt  \\\n",
              "count  32581.000000   3.258100e+04       31686.000000  32581.000000   \n",
              "mean      27.734600   6.607485e+04           4.789686   9589.371106   \n",
              "std        6.348078   6.198312e+04           4.142630   6322.086646   \n",
              "min       20.000000   4.000000e+03           0.000000    500.000000   \n",
              "25%       23.000000   3.850000e+04           2.000000   5000.000000   \n",
              "50%       26.000000   5.500000e+04           4.000000   8000.000000   \n",
              "75%       30.000000   7.920000e+04           7.000000  12200.000000   \n",
              "max      144.000000   6.000000e+06         123.000000  35000.000000   \n",
              "\n",
              "       loan_int_rate   loan_status  loan_percent_income  \\\n",
              "count   29465.000000  32581.000000         32581.000000   \n",
              "mean       11.011695      0.218164             0.170203   \n",
              "std         3.240459      0.413006             0.106782   \n",
              "min         5.420000      0.000000             0.000000   \n",
              "25%         7.900000      0.000000             0.090000   \n",
              "50%        10.990000      0.000000             0.150000   \n",
              "75%        13.470000      0.000000             0.230000   \n",
              "max        23.220000      1.000000             0.830000   \n",
              "\n",
              "       cb_person_cred_hist_length  \n",
              "count                32581.000000  \n",
              "mean                     5.804211  \n",
              "std                      4.055001  \n",
              "min                      2.000000  \n",
              "25%                      3.000000  \n",
              "50%                      4.000000  \n",
              "75%                      8.000000  \n",
              "max                     30.000000  "
            ],
            "text/html": [
              "\n",
              "  <div id=\"df-a0fe68c3-f13a-4830-ad71-44674e269031\" class=\"colab-df-container\">\n",
              "    <div>\n",
              "<style scoped>\n",
              "    .dataframe tbody tr th:only-of-type {\n",
              "        vertical-align: middle;\n",
              "    }\n",
              "\n",
              "    .dataframe tbody tr th {\n",
              "        vertical-align: top;\n",
              "    }\n",
              "\n",
              "    .dataframe thead th {\n",
              "        text-align: right;\n",
              "    }\n",
              "</style>\n",
              "<table border=\"1\" class=\"dataframe\">\n",
              "  <thead>\n",
              "    <tr style=\"text-align: right;\">\n",
              "      <th></th>\n",
              "      <th>person_age</th>\n",
              "      <th>person_income</th>\n",
              "      <th>person_emp_length</th>\n",
              "      <th>loan_amnt</th>\n",
              "      <th>loan_int_rate</th>\n",
              "      <th>loan_status</th>\n",
              "      <th>loan_percent_income</th>\n",
              "      <th>cb_person_cred_hist_length</th>\n",
              "    </tr>\n",
              "  </thead>\n",
              "  <tbody>\n",
              "    <tr>\n",
              "      <th>count</th>\n",
              "      <td>32581.000000</td>\n",
              "      <td>3.258100e+04</td>\n",
              "      <td>31686.000000</td>\n",
              "      <td>32581.000000</td>\n",
              "      <td>29465.000000</td>\n",
              "      <td>32581.000000</td>\n",
              "      <td>32581.000000</td>\n",
              "      <td>32581.000000</td>\n",
              "    </tr>\n",
              "    <tr>\n",
              "      <th>mean</th>\n",
              "      <td>27.734600</td>\n",
              "      <td>6.607485e+04</td>\n",
              "      <td>4.789686</td>\n",
              "      <td>9589.371106</td>\n",
              "      <td>11.011695</td>\n",
              "      <td>0.218164</td>\n",
              "      <td>0.170203</td>\n",
              "      <td>5.804211</td>\n",
              "    </tr>\n",
              "    <tr>\n",
              "      <th>std</th>\n",
              "      <td>6.348078</td>\n",
              "      <td>6.198312e+04</td>\n",
              "      <td>4.142630</td>\n",
              "      <td>6322.086646</td>\n",
              "      <td>3.240459</td>\n",
              "      <td>0.413006</td>\n",
              "      <td>0.106782</td>\n",
              "      <td>4.055001</td>\n",
              "    </tr>\n",
              "    <tr>\n",
              "      <th>min</th>\n",
              "      <td>20.000000</td>\n",
              "      <td>4.000000e+03</td>\n",
              "      <td>0.000000</td>\n",
              "      <td>500.000000</td>\n",
              "      <td>5.420000</td>\n",
              "      <td>0.000000</td>\n",
              "      <td>0.000000</td>\n",
              "      <td>2.000000</td>\n",
              "    </tr>\n",
              "    <tr>\n",
              "      <th>25%</th>\n",
              "      <td>23.000000</td>\n",
              "      <td>3.850000e+04</td>\n",
              "      <td>2.000000</td>\n",
              "      <td>5000.000000</td>\n",
              "      <td>7.900000</td>\n",
              "      <td>0.000000</td>\n",
              "      <td>0.090000</td>\n",
              "      <td>3.000000</td>\n",
              "    </tr>\n",
              "    <tr>\n",
              "      <th>50%</th>\n",
              "      <td>26.000000</td>\n",
              "      <td>5.500000e+04</td>\n",
              "      <td>4.000000</td>\n",
              "      <td>8000.000000</td>\n",
              "      <td>10.990000</td>\n",
              "      <td>0.000000</td>\n",
              "      <td>0.150000</td>\n",
              "      <td>4.000000</td>\n",
              "    </tr>\n",
              "    <tr>\n",
              "      <th>75%</th>\n",
              "      <td>30.000000</td>\n",
              "      <td>7.920000e+04</td>\n",
              "      <td>7.000000</td>\n",
              "      <td>12200.000000</td>\n",
              "      <td>13.470000</td>\n",
              "      <td>0.000000</td>\n",
              "      <td>0.230000</td>\n",
              "      <td>8.000000</td>\n",
              "    </tr>\n",
              "    <tr>\n",
              "      <th>max</th>\n",
              "      <td>144.000000</td>\n",
              "      <td>6.000000e+06</td>\n",
              "      <td>123.000000</td>\n",
              "      <td>35000.000000</td>\n",
              "      <td>23.220000</td>\n",
              "      <td>1.000000</td>\n",
              "      <td>0.830000</td>\n",
              "      <td>30.000000</td>\n",
              "    </tr>\n",
              "  </tbody>\n",
              "</table>\n",
              "</div>\n",
              "    <div class=\"colab-df-buttons\">\n",
              "\n",
              "  <div class=\"colab-df-container\">\n",
              "    <button class=\"colab-df-convert\" onclick=\"convertToInteractive('df-a0fe68c3-f13a-4830-ad71-44674e269031')\"\n",
              "            title=\"Convert this dataframe to an interactive table.\"\n",
              "            style=\"display:none;\">\n",
              "\n",
              "  <svg xmlns=\"http://www.w3.org/2000/svg\" height=\"24px\" viewBox=\"0 -960 960 960\">\n",
              "    <path d=\"M120-120v-720h720v720H120Zm60-500h600v-160H180v160Zm220 220h160v-160H400v160Zm0 220h160v-160H400v160ZM180-400h160v-160H180v160Zm440 0h160v-160H620v160ZM180-180h160v-160H180v160Zm440 0h160v-160H620v160Z\"/>\n",
              "  </svg>\n",
              "    </button>\n",
              "\n",
              "  <style>\n",
              "    .colab-df-container {\n",
              "      display:flex;\n",
              "      gap: 12px;\n",
              "    }\n",
              "\n",
              "    .colab-df-convert {\n",
              "      background-color: #E8F0FE;\n",
              "      border: none;\n",
              "      border-radius: 50%;\n",
              "      cursor: pointer;\n",
              "      display: none;\n",
              "      fill: #1967D2;\n",
              "      height: 32px;\n",
              "      padding: 0 0 0 0;\n",
              "      width: 32px;\n",
              "    }\n",
              "\n",
              "    .colab-df-convert:hover {\n",
              "      background-color: #E2EBFA;\n",
              "      box-shadow: 0px 1px 2px rgba(60, 64, 67, 0.3), 0px 1px 3px 1px rgba(60, 64, 67, 0.15);\n",
              "      fill: #174EA6;\n",
              "    }\n",
              "\n",
              "    .colab-df-buttons div {\n",
              "      margin-bottom: 4px;\n",
              "    }\n",
              "\n",
              "    [theme=dark] .colab-df-convert {\n",
              "      background-color: #3B4455;\n",
              "      fill: #D2E3FC;\n",
              "    }\n",
              "\n",
              "    [theme=dark] .colab-df-convert:hover {\n",
              "      background-color: #434B5C;\n",
              "      box-shadow: 0px 1px 3px 1px rgba(0, 0, 0, 0.15);\n",
              "      filter: drop-shadow(0px 1px 2px rgba(0, 0, 0, 0.3));\n",
              "      fill: #FFFFFF;\n",
              "    }\n",
              "  </style>\n",
              "\n",
              "    <script>\n",
              "      const buttonEl =\n",
              "        document.querySelector('#df-a0fe68c3-f13a-4830-ad71-44674e269031 button.colab-df-convert');\n",
              "      buttonEl.style.display =\n",
              "        google.colab.kernel.accessAllowed ? 'block' : 'none';\n",
              "\n",
              "      async function convertToInteractive(key) {\n",
              "        const element = document.querySelector('#df-a0fe68c3-f13a-4830-ad71-44674e269031');\n",
              "        const dataTable =\n",
              "          await google.colab.kernel.invokeFunction('convertToInteractive',\n",
              "                                                    [key], {});\n",
              "        if (!dataTable) return;\n",
              "\n",
              "        const docLinkHtml = 'Like what you see? Visit the ' +\n",
              "          '<a target=\"_blank\" href=https://colab.research.google.com/notebooks/data_table.ipynb>data table notebook</a>'\n",
              "          + ' to learn more about interactive tables.';\n",
              "        element.innerHTML = '';\n",
              "        dataTable['output_type'] = 'display_data';\n",
              "        await google.colab.output.renderOutput(dataTable, element);\n",
              "        const docLink = document.createElement('div');\n",
              "        docLink.innerHTML = docLinkHtml;\n",
              "        element.appendChild(docLink);\n",
              "      }\n",
              "    </script>\n",
              "  </div>\n",
              "\n",
              "\n",
              "    <div id=\"df-35926b7e-f196-47df-80b2-72d762b8edb4\">\n",
              "      <button class=\"colab-df-quickchart\" onclick=\"quickchart('df-35926b7e-f196-47df-80b2-72d762b8edb4')\"\n",
              "                title=\"Suggest charts\"\n",
              "                style=\"display:none;\">\n",
              "\n",
              "<svg xmlns=\"http://www.w3.org/2000/svg\" height=\"24px\"viewBox=\"0 0 24 24\"\n",
              "     width=\"24px\">\n",
              "    <g>\n",
              "        <path d=\"M19 3H5c-1.1 0-2 .9-2 2v14c0 1.1.9 2 2 2h14c1.1 0 2-.9 2-2V5c0-1.1-.9-2-2-2zM9 17H7v-7h2v7zm4 0h-2V7h2v10zm4 0h-2v-4h2v4z\"/>\n",
              "    </g>\n",
              "</svg>\n",
              "      </button>\n",
              "\n",
              "<style>\n",
              "  .colab-df-quickchart {\n",
              "      --bg-color: #E8F0FE;\n",
              "      --fill-color: #1967D2;\n",
              "      --hover-bg-color: #E2EBFA;\n",
              "      --hover-fill-color: #174EA6;\n",
              "      --disabled-fill-color: #AAA;\n",
              "      --disabled-bg-color: #DDD;\n",
              "  }\n",
              "\n",
              "  [theme=dark] .colab-df-quickchart {\n",
              "      --bg-color: #3B4455;\n",
              "      --fill-color: #D2E3FC;\n",
              "      --hover-bg-color: #434B5C;\n",
              "      --hover-fill-color: #FFFFFF;\n",
              "      --disabled-bg-color: #3B4455;\n",
              "      --disabled-fill-color: #666;\n",
              "  }\n",
              "\n",
              "  .colab-df-quickchart {\n",
              "    background-color: var(--bg-color);\n",
              "    border: none;\n",
              "    border-radius: 50%;\n",
              "    cursor: pointer;\n",
              "    display: none;\n",
              "    fill: var(--fill-color);\n",
              "    height: 32px;\n",
              "    padding: 0;\n",
              "    width: 32px;\n",
              "  }\n",
              "\n",
              "  .colab-df-quickchart:hover {\n",
              "    background-color: var(--hover-bg-color);\n",
              "    box-shadow: 0 1px 2px rgba(60, 64, 67, 0.3), 0 1px 3px 1px rgba(60, 64, 67, 0.15);\n",
              "    fill: var(--button-hover-fill-color);\n",
              "  }\n",
              "\n",
              "  .colab-df-quickchart-complete:disabled,\n",
              "  .colab-df-quickchart-complete:disabled:hover {\n",
              "    background-color: var(--disabled-bg-color);\n",
              "    fill: var(--disabled-fill-color);\n",
              "    box-shadow: none;\n",
              "  }\n",
              "\n",
              "  .colab-df-spinner {\n",
              "    border: 2px solid var(--fill-color);\n",
              "    border-color: transparent;\n",
              "    border-bottom-color: var(--fill-color);\n",
              "    animation:\n",
              "      spin 1s steps(1) infinite;\n",
              "  }\n",
              "\n",
              "  @keyframes spin {\n",
              "    0% {\n",
              "      border-color: transparent;\n",
              "      border-bottom-color: var(--fill-color);\n",
              "      border-left-color: var(--fill-color);\n",
              "    }\n",
              "    20% {\n",
              "      border-color: transparent;\n",
              "      border-left-color: var(--fill-color);\n",
              "      border-top-color: var(--fill-color);\n",
              "    }\n",
              "    30% {\n",
              "      border-color: transparent;\n",
              "      border-left-color: var(--fill-color);\n",
              "      border-top-color: var(--fill-color);\n",
              "      border-right-color: var(--fill-color);\n",
              "    }\n",
              "    40% {\n",
              "      border-color: transparent;\n",
              "      border-right-color: var(--fill-color);\n",
              "      border-top-color: var(--fill-color);\n",
              "    }\n",
              "    60% {\n",
              "      border-color: transparent;\n",
              "      border-right-color: var(--fill-color);\n",
              "    }\n",
              "    80% {\n",
              "      border-color: transparent;\n",
              "      border-right-color: var(--fill-color);\n",
              "      border-bottom-color: var(--fill-color);\n",
              "    }\n",
              "    90% {\n",
              "      border-color: transparent;\n",
              "      border-bottom-color: var(--fill-color);\n",
              "    }\n",
              "  }\n",
              "</style>\n",
              "\n",
              "      <script>\n",
              "        async function quickchart(key) {\n",
              "          const quickchartButtonEl =\n",
              "            document.querySelector('#' + key + ' button');\n",
              "          quickchartButtonEl.disabled = true;  // To prevent multiple clicks.\n",
              "          quickchartButtonEl.classList.add('colab-df-spinner');\n",
              "          try {\n",
              "            const charts = await google.colab.kernel.invokeFunction(\n",
              "                'suggestCharts', [key], {});\n",
              "          } catch (error) {\n",
              "            console.error('Error during call to suggestCharts:', error);\n",
              "          }\n",
              "          quickchartButtonEl.classList.remove('colab-df-spinner');\n",
              "          quickchartButtonEl.classList.add('colab-df-quickchart-complete');\n",
              "        }\n",
              "        (() => {\n",
              "          let quickchartButtonEl =\n",
              "            document.querySelector('#df-35926b7e-f196-47df-80b2-72d762b8edb4 button');\n",
              "          quickchartButtonEl.style.display =\n",
              "            google.colab.kernel.accessAllowed ? 'block' : 'none';\n",
              "        })();\n",
              "      </script>\n",
              "    </div>\n",
              "\n",
              "    </div>\n",
              "  </div>\n"
            ],
            "application/vnd.google.colaboratory.intrinsic+json": {
              "type": "dataframe",
              "summary": "{\n  \"name\": \"plt\",\n  \"rows\": 8,\n  \"fields\": [\n    {\n      \"column\": \"person_age\",\n      \"properties\": {\n        \"dtype\": \"number\",\n        \"std\": 11505.209452641495,\n        \"min\": 6.3480784192252475,\n        \"max\": 32581.0,\n        \"num_unique_values\": 8,\n        \"samples\": [\n          27.73459992019889,\n          26.0,\n          32581.0\n        ],\n        \"semantic_type\": \"\",\n        \"description\": \"\"\n      }\n    },\n    {\n      \"column\": \"person_income\",\n      \"properties\": {\n        \"dtype\": \"number\",\n        \"std\": 2104411.4228170463,\n        \"min\": 4000.0,\n        \"max\": 6000000.0,\n        \"num_unique_values\": 8,\n        \"samples\": [\n          66074.84846996715,\n          55000.0,\n          32581.0\n        ],\n        \"semantic_type\": \"\",\n        \"description\": \"\"\n      }\n    },\n    {\n      \"column\": \"person_emp_length\",\n      \"properties\": {\n        \"dtype\": \"number\",\n        \"std\": 11195.450623137132,\n        \"min\": 0.0,\n        \"max\": 31686.0,\n        \"num_unique_values\": 8,\n        \"samples\": [\n          4.789686296787225,\n          4.0,\n          31686.0\n        ],\n        \"semantic_type\": \"\",\n        \"description\": \"\"\n      }\n    },\n    {\n      \"column\": \"loan_amnt\",\n      \"properties\": {\n        \"dtype\": \"number\",\n        \"std\": 12907.153470802921,\n        \"min\": 500.0,\n        \"max\": 35000.0,\n        \"num_unique_values\": 8,\n        \"samples\": [\n          9589.371105859243,\n          8000.0,\n          32581.0\n        ],\n        \"semantic_type\": \"\",\n        \"description\": \"\"\n      }\n    },\n    {\n      \"column\": \"loan_int_rate\",\n      \"properties\": {\n        \"dtype\": \"number\",\n        \"std\": 10413.651601664355,\n        \"min\": 3.2404594649559195,\n        \"max\": 29465.0,\n        \"num_unique_values\": 8,\n        \"samples\": [\n          11.011694892245036,\n          10.99,\n          29465.0\n        ],\n        \"semantic_type\": \"\",\n        \"description\": \"\"\n      }\n    },\n    {\n      \"column\": \"loan_status\",\n      \"properties\": {\n        \"dtype\": \"number\",\n        \"std\": 11519.04063760866,\n        \"min\": 0.0,\n        \"max\": 32581.0,\n        \"num_unique_values\": 5,\n        \"samples\": [\n          0.21816396059052823,\n          1.0,\n          0.4130056685601785\n        ],\n        \"semantic_type\": \"\",\n        \"description\": \"\"\n      }\n    },\n    {\n      \"column\": \"loan_percent_income\",\n      \"properties\": {\n        \"dtype\": \"number\",\n        \"std\": 11519.043371973277,\n        \"min\": 0.0,\n        \"max\": 32581.0,\n        \"num_unique_values\": 8,\n        \"samples\": [\n          0.1702034928332464,\n          0.15,\n          32581.0\n        ],\n        \"semantic_type\": \"\",\n        \"description\": \"\"\n      }\n    },\n    {\n      \"column\": \"cb_person_cred_hist_length\",\n      \"properties\": {\n        \"dtype\": \"number\",\n        \"std\": 11516.254800358192,\n        \"min\": 2.0,\n        \"max\": 32581.0,\n        \"num_unique_values\": 8,\n        \"samples\": [\n          5.804211043246064,\n          4.0,\n          32581.0\n        ],\n        \"semantic_type\": \"\",\n        \"description\": \"\"\n      }\n    }\n  ]\n}"
            }
          },
          "metadata": {}
        },
        {
          "output_type": "stream",
          "name": "stdout",
          "text": [
            "Distribuição da variável loan_status:\n",
            "loan_status\n",
            "0    25473\n",
            "1     7108\n",
            "Name: count, dtype: int64\n"
          ]
        },
        {
          "output_type": "stream",
          "name": "stderr",
          "text": [
            "<ipython-input-47-a5b2d78fde9b>:30: FutureWarning: \n",
            "\n",
            "Passing `palette` without assigning `hue` is deprecated and will be removed in v0.14.0. Assign the `x` variable to `hue` and set `legend=False` for the same effect.\n",
            "\n",
            "  sns.countplot(x='loan_status_label', data=df, palette='Set2')\n"
          ]
        },
        {
          "output_type": "display_data",
          "data": {
            "text/plain": [
              "<Figure size 600x400 with 1 Axes>"
            ],
            "image/png": "[encoded data removed]"
          },
          "metadata": {}
        },
        {
          "output_type": "display_data",
          "data": {
            "text/plain": [
              "<Figure size 600x400 with 1 Axes>"
            ],
            "image/png": "[encoded data removed]"
          },
          "metadata": {}
        },
        {
          "output_type": "stream",
          "name": "stderr",
          "text": [
            "<ipython-input-47-a5b2d78fde9b>:46: FutureWarning: \n",
            "\n",
            "Passing `palette` without assigning `hue` is deprecated and will be removed in v0.14.0. Assign the `x` variable to `hue` and set `legend=False` for the same effect.\n",
            "\n",
            "  sns.boxplot(x='loan_status_label', y='person_income', data=df, palette='Set3')\n"
          ]
        },
        {
          "output_type": "display_data",
          "data": {
            "text/plain": [
              "<Figure size 800x500 with 1 Axes>"
            ],
            "image/png": "[encoded data removed]"
          },
          "metadata": {}
        },
        {
          "output_type": "display_data",
          "data": {
            "text/plain": [
              "<Figure size 1000x800 with 2 Axes>"
            ],
            "image/png": "[encoded data removed]"
          },
          "metadata": {}
        }
      ]
    },
    {
      "cell_type": "code",
      "source": [],
      "metadata": {
        "id": "4G35mHCp2GHh"
      },
      "execution_count": 47,
      "outputs": []
    },
    {
      "cell_type": "markdown",
      "source": [
        "# Análise dos Graficos:\n",
        "\n",
        "1) A quantidade de clientes que pagaram os empréstimos é consideravelmente maior do que a de inadimplentes, indicando um forte desbalanceamento. Isso mostra que a inadimplência não é comum neste conjunto de dados, o que pode influenciar negativamente o desempenho de modelos preditivos se não for tratado.\n",
        "\n",
        "2) Empréstimos são consideravelmente maiores entre pessoas de 20 a 30 anos, seguidos de uma queda gradual dos 30 aos 50 anos. Isso mostra que jovens adultos são o público mais frequente na concessão de crédito neste dataset.\n",
        "\n",
        "3) A mediana de renda é semelhante entre os clientes adimplentes e inadimplentes. No entanto, o grupo dos adimplentes apresenta mais outliers de alta renda, o que pode indicar que a renda, isoladamente, não é um preditor forte de inadimplência neste caso.\n",
        "\n",
        "4) A variável loan_status apresenta correlações positivas com loan_percent_income e loan_int_rate, o que indica que quanto maior a taxa de juros e a porcentagem da renda comprometida, maior a chance de inadimplência.\n",
        "Já a correlação com person_income é negativa (embora fraca), o que sugere que quanto maior a renda do cliente, menor a chance de inadimplência. Apesar de não serem correlações fortes, os sinais estão alinhados com o que se espera do comportamento financeiro."
      ],
      "metadata": {
        "id": "ErwBe37B2GHi"
      }
    },
    {
      "cell_type": "markdown",
      "source": [
        "# Pré-processamento dos dados para machine learning"
      ],
      "metadata": {
        "id": "jo1WNJyy2GHi"
      }
    },
    {
      "cell_type": "markdown",
      "source": [
        "1. **Lidar com valores nulos**"
      ],
      "metadata": {
        "id": "vR3WnKc22GHj"
      }
    },
    {
      "cell_type": "code",
      "source": [
        "print(df.isnull().sum())\n"
      ],
      "metadata": {
        "colab": {
          "base_uri": "https://localhost:8080/"
        },
        "outputId": "3bdb66ea-1702-4e24-deab-5de100dbed28",
        "id": "Z2w8Czb-2GHj"
      },
      "execution_count": 48,
      "outputs": [
        {
          "output_type": "stream",
          "name": "stdout",
          "text": [
            "person_age                       0\n",
            "person_income                    0\n",
            "person_home_ownership            0\n",
            "person_emp_length              895\n",
            "loan_intent                      0\n",
            "loan_grade                       0\n",
            "loan_amnt                        0\n",
            "loan_int_rate                 3116\n",
            "loan_status                      0\n",
            "loan_percent_income              0\n",
            "cb_person_default_on_file        0\n",
            "cb_person_cred_hist_length       0\n",
            "loan_status_label                0\n",
            "dtype: int64\n"
          ]
        }
      ]
    },
    {
      "cell_type": "code",
      "source": [
        "# Exemplo: preencher valores nulos da experiência com a mediana\n",
        "df['person_emp_length'].fillna(df['person_emp_length'].median(), inplace=True)\n",
        "\n",
        "\n",
        "\n",
        "# Se tiver outros nulos, repita esse processo ou exclua as linhas\n",
        "df.dropna(inplace=True)  # Só se forem poucos casos\n"
      ],
      "metadata": {
        "colab": {
          "base_uri": "https://localhost:8080/"
        },
        "outputId": "e530ce53-7e4e-410d-e8d3-2149e40ff2d5",
        "id": "IKWUKo1p2GHj"
      },
      "execution_count": 49,
      "outputs": [
        {
          "output_type": "stream",
          "name": "stderr",
          "text": [
            "<ipython-input-49-41aec68e7e30>:2: FutureWarning: A value is trying to be set on a copy of a DataFrame or Series through chained assignment using an inplace method.\n",
            "The behavior will change in pandas 3.0. This inplace method will never work because the intermediate object on which we are setting values always behaves as a copy.\n",
            "\n",
            "For example, when doing 'df[col].method(value, inplace=True)', try using 'df.method({col: value}, inplace=True)' or df[col] = df[col].method(value) instead, to perform the operation inplace on the original object.\n",
            "\n",
            "\n",
            "  df['person_emp_length'].fillna(df['person_emp_length'].median(), inplace=True)\n"
          ]
        }
      ]
    },
    {
      "cell_type": "code",
      "source": [
        "df.dropna(inplace=True)  # Remove linhas com nulos\n",
        "    # ... outras operações ...\n",
        "df_encoded = pd.get_dummies(df, columns=[\n",
        "    'person_home_ownership',\n",
        "    'loan_intent',\n",
        "    'loan_grade',\n",
        "    'cb_person_default_on_file'\n",
        "], drop_first=True)\n",
        "    # ... outras operações ...\n",
        "X=df_encoded.drop(columns=['loan_status'])\n",
        "    # ... train_test_split(X, y, ...)\n",
        "    # ... SMOTE(X_train, y_train)"
      ],
      "metadata": {
        "id": "-Q9Fcbhc2GHk"
      },
      "execution_count": 50,
      "outputs": []
    },
    {
      "cell_type": "markdown",
      "source": [
        "2. **Codificar variáveis categóricas**"
      ],
      "metadata": {
        "id": "iXylVeZa2GHk"
      }
    },
    {
      "cell_type": "code",
      "source": [
        "# Usando pd.get_dummies (One-hot encoding)\n",
        "df_encoded=pd.get_dummies(df, columns=[\n",
        "    'person_home_ownership',\n",
        "    'loan_intent',\n",
        "    'loan_grade',\n",
        "    'cb_person_default_on_file'\n",
        "], drop_first=True)\n"
      ],
      "metadata": {
        "id": "3VPe3T0M2GHl"
      },
      "execution_count": 51,
      "outputs": []
    },
    {
      "cell_type": "markdown",
      "source": [
        "3. **Selecionar variáveis para o modelo**"
      ],
      "metadata": {
        "id": "MwDnW04y2GHl"
      }
    },
    {
      "cell_type": "code",
      "source": [
        "# Features (todas as colunas, exceto o alvo)\n",
        "X = df_encoded.drop(columns=['loan_status'])\n",
        "\n",
        "\n",
        "# Alvo\n",
        "y = df_encoded['loan_status']\n"
      ],
      "metadata": {
        "id": "7oACBsMv2GHl"
      },
      "execution_count": 52,
      "outputs": []
    },
    {
      "cell_type": "markdown",
      "source": [
        "4. **Separar em treino e teste**\n"
      ],
      "metadata": {
        "id": "3KJHXlb42GHl"
      }
    },
    {
      "cell_type": "code",
      "source": [
        "from sklearn.model_selection import train_test_split\n",
        "\n",
        "X_train, X_test, y_train, y_test = train_test_split(\n",
        "    X, y, test_size=0.2, random_state=42, stratify=y\n",
        ")\n"
      ],
      "metadata": {
        "id": "3YD1bz6s2GHm"
      },
      "execution_count": 53,
      "outputs": []
    },
    {
      "cell_type": "markdown",
      "source": [
        " 5. **Balancear os dados**"
      ],
      "metadata": {
        "id": "eNHf7qia2GHm"
      }
    },
    {
      "cell_type": "code",
      "source": [
        "from imblearn.over_sampling import SMOTE\n",
        "\n",
        "smote = SMOTE(random_state=42)\n",
        "X_train_bal, y_train_bal = smote.fit_resample(X_train, y_train)\n"
      ],
      "metadata": {
        "colab": {
          "base_uri": "https://localhost:8080/",
          "height": 339
        },
        "outputId": "702a6bcd-0613-402f-dfea-4da88b193791",
        "id": "u21N69fT2GHm"
      },
      "execution_count": 54,
      "outputs": [
        {
          "output_type": "error",
          "ename": "ValueError",
          "evalue": "could not convert string to float: 'Pagou'",
          "traceback": [
            "\u001b[0;31m---------------------------------------------------------------------------\u001b[0m",
            "\u001b[0;31mValueError\u001b[0m                                Traceback (most recent call last)",
            "\u001b[0;32m<ipython-input-54-1e56ce0f20ae>\u001b[0m in \u001b[0;36m<cell line: 0>\u001b[0;34m()\u001b[0m\n\u001b[1;32m      2\u001b[0m \u001b[0;34m\u001b[0m\u001b[0m\n\u001b[1;32m      3\u001b[0m \u001b[0msmote\u001b[0m \u001b[0;34m=\u001b[0m \u001b[0mSMOTE\u001b[0m\u001b[0;34m(\u001b[0m\u001b[0mrandom_state\u001b[0m\u001b[0;34m=\u001b[0m\u001b[0;36m42\u001b[0m\u001b[0;34m)\u001b[0m\u001b[0;34m\u001b[0m\u001b[0;34m\u001b[0m\u001b[0m\n\u001b[0;32m----> 4\u001b[0;31m \u001b[0mX_train_bal\u001b[0m\u001b[0;34m,\u001b[0m \u001b[0my_train_bal\u001b[0m \u001b[0;34m=\u001b[0m \u001b[0msmote\u001b[0m\u001b[0;34m.\u001b[0m\u001b[0mfit_resample\u001b[0m\u001b[0;34m(\u001b[0m\u001b[0mX_train\u001b[0m\u001b[0;34m,\u001b[0m \u001b[0my_train\u001b[0m\u001b[0;34m)\u001b[0m\u001b[0;34m\u001b[0m\u001b[0;34m\u001b[0m\u001b[0m\n\u001b[0m",
            "\u001b[0;32m/usr/local/lib/python3.11/dist-packages/imblearn/base.py\u001b[0m in \u001b[0;36mfit_resample\u001b[0;34m(self, X, y, **params)\u001b[0m\n\u001b[1;32m    200\u001b[0m             \u001b[0mThe\u001b[0m \u001b[0mcorresponding\u001b[0m \u001b[0mlabel\u001b[0m \u001b[0mof\u001b[0m\u001b[0;31m \u001b[0m\u001b[0;31m`\u001b[0m\u001b[0mX_resampled\u001b[0m\u001b[0;31m`\u001b[0m\u001b[0;34m.\u001b[0m\u001b[0;34m\u001b[0m\u001b[0;34m\u001b[0m\u001b[0m\n\u001b[1;32m    201\u001b[0m         \"\"\"\n\u001b[0;32m--> 202\u001b[0;31m         \u001b[0;32mreturn\u001b[0m \u001b[0msuper\u001b[0m\u001b[0;34m(\u001b[0m\u001b[0;34m)\u001b[0m\u001b[0;34m.\u001b[0m\u001b[0mfit_resample\u001b[0m\u001b[0;34m(\u001b[0m\u001b[0mX\u001b[0m\u001b[0;34m,\u001b[0m \u001b[0my\u001b[0m\u001b[0;34m,\u001b[0m \u001b[0;34m**\u001b[0m\u001b[0mparams\u001b[0m\u001b[0;34m)\u001b[0m\u001b[0;34m\u001b[0m\u001b[0;34m\u001b[0m\u001b[0m\n\u001b[0m\u001b[1;32m    203\u001b[0m \u001b[0;34m\u001b[0m\u001b[0m\n\u001b[1;32m    204\u001b[0m     \u001b[0;32mdef\u001b[0m \u001b[0m_more_tags\u001b[0m\u001b[0;34m(\u001b[0m\u001b[0mself\u001b[0m\u001b[0;34m)\u001b[0m\u001b[0;34m:\u001b[0m\u001b[0;34m\u001b[0m\u001b[0;34m\u001b[0m\u001b[0m\n",
            "\u001b[0;32m/usr/local/lib/python3.11/dist-packages/sklearn/base.py\u001b[0m in \u001b[0;36mwrapper\u001b[0;34m(estimator, *args, **kwargs)\u001b[0m\n\u001b[1;32m   1387\u001b[0m                 )\n\u001b[1;32m   1388\u001b[0m             ):\n\u001b[0;32m-> 1389\u001b[0;31m                 \u001b[0;32mreturn\u001b[0m \u001b[0mfit_method\u001b[0m\u001b[0;34m(\u001b[0m\u001b[0mestimator\u001b[0m\u001b[0;34m,\u001b[0m \u001b[0;34m*\u001b[0m\u001b[0margs\u001b[0m\u001b[0;34m,\u001b[0m \u001b[0;34m**\u001b[0m\u001b[0mkwargs\u001b[0m\u001b[0;34m)\u001b[0m\u001b[0;34m\u001b[0m\u001b[0;34m\u001b[0m\u001b[0m\n\u001b[0m\u001b[1;32m   1390\u001b[0m \u001b[0;34m\u001b[0m\u001b[0m\n\u001b[1;32m   1391\u001b[0m         \u001b[0;32mreturn\u001b[0m \u001b[0mwrapper\u001b[0m\u001b[0;34m\u001b[0m\u001b[0;34m\u001b[0m\u001b[0m\n",
            "\u001b[0;32m/usr/local/lib/python3.11/dist-packages/imblearn/base.py\u001b[0m in \u001b[0;36mfit_resample\u001b[0;34m(self, X, y, **params)\u001b[0m\n\u001b[1;32m     97\u001b[0m         \u001b[0mcheck_classification_targets\u001b[0m\u001b[0;34m(\u001b[0m\u001b[0my\u001b[0m\u001b[0;34m)\u001b[0m\u001b[0;34m\u001b[0m\u001b[0;34m\u001b[0m\u001b[0m\n\u001b[1;32m     98\u001b[0m         \u001b[0marrays_transformer\u001b[0m \u001b[0;34m=\u001b[0m \u001b[0mArraysTransformer\u001b[0m\u001b[0;34m(\u001b[0m\u001b[0mX\u001b[0m\u001b[0;34m,\u001b[0m \u001b[0my\u001b[0m\u001b[0;34m)\u001b[0m\u001b[0;34m\u001b[0m\u001b[0;34m\u001b[0m\u001b[0m\n\u001b[0;32m---> 99\u001b[0;31m         \u001b[0mX\u001b[0m\u001b[0;34m,\u001b[0m \u001b[0my\u001b[0m\u001b[0;34m,\u001b[0m \u001b[0mbinarize_y\u001b[0m \u001b[0;34m=\u001b[0m \u001b[0mself\u001b[0m\u001b[0;34m.\u001b[0m\u001b[0m_check_X_y\u001b[0m\u001b[0;34m(\u001b[0m\u001b[0mX\u001b[0m\u001b[0;34m,\u001b[0m \u001b[0my\u001b[0m\u001b[0;34m)\u001b[0m\u001b[0;34m\u001b[0m\u001b[0;34m\u001b[0m\u001b[0m\n\u001b[0m\u001b[1;32m    100\u001b[0m \u001b[0;34m\u001b[0m\u001b[0m\n\u001b[1;32m    101\u001b[0m         self.sampling_strategy_ = check_sampling_strategy(\n",
            "\u001b[0;32m/usr/local/lib/python3.11/dist-packages/imblearn/base.py\u001b[0m in \u001b[0;36m_check_X_y\u001b[0;34m(self, X, y, accept_sparse)\u001b[0m\n\u001b[1;32m    155\u001b[0m             \u001b[0maccept_sparse\u001b[0m \u001b[0;34m=\u001b[0m \u001b[0;34m[\u001b[0m\u001b[0;34m\"csr\"\u001b[0m\u001b[0;34m,\u001b[0m \u001b[0;34m\"csc\"\u001b[0m\u001b[0;34m]\u001b[0m\u001b[0;34m\u001b[0m\u001b[0;34m\u001b[0m\u001b[0m\n\u001b[1;32m    156\u001b[0m         \u001b[0my\u001b[0m\u001b[0;34m,\u001b[0m \u001b[0mbinarize_y\u001b[0m \u001b[0;34m=\u001b[0m \u001b[0mcheck_target_type\u001b[0m\u001b[0;34m(\u001b[0m\u001b[0my\u001b[0m\u001b[0;34m,\u001b[0m \u001b[0mindicate_one_vs_all\u001b[0m\u001b[0;34m=\u001b[0m\u001b[0;32mTrue\u001b[0m\u001b[0;34m)\u001b[0m\u001b[0;34m\u001b[0m\u001b[0;34m\u001b[0m\u001b[0m\n\u001b[0;32m--> 157\u001b[0;31m         \u001b[0mX\u001b[0m\u001b[0;34m,\u001b[0m \u001b[0my\u001b[0m \u001b[0;34m=\u001b[0m \u001b[0mvalidate_data\u001b[0m\u001b[0;34m(\u001b[0m\u001b[0mself\u001b[0m\u001b[0;34m,\u001b[0m \u001b[0mX\u001b[0m\u001b[0;34m=\u001b[0m\u001b[0mX\u001b[0m\u001b[0;34m,\u001b[0m \u001b[0my\u001b[0m\u001b[0;34m=\u001b[0m\u001b[0my\u001b[0m\u001b[0;34m,\u001b[0m \u001b[0mreset\u001b[0m\u001b[0;34m=\u001b[0m\u001b[0;32mTrue\u001b[0m\u001b[0;34m,\u001b[0m \u001b[0maccept_sparse\u001b[0m\u001b[0;34m=\u001b[0m\u001b[0maccept_sparse\u001b[0m\u001b[0;34m)\u001b[0m\u001b[0;34m\u001b[0m\u001b[0;34m\u001b[0m\u001b[0m\n\u001b[0m\u001b[1;32m    158\u001b[0m         \u001b[0;32mreturn\u001b[0m \u001b[0mX\u001b[0m\u001b[0;34m,\u001b[0m \u001b[0my\u001b[0m\u001b[0;34m,\u001b[0m \u001b[0mbinarize_y\u001b[0m\u001b[0;34m\u001b[0m\u001b[0;34m\u001b[0m\u001b[0m\n\u001b[1;32m    159\u001b[0m \u001b[0;34m\u001b[0m\u001b[0m\n",
            "\u001b[0;32m/usr/local/lib/python3.11/dist-packages/sklearn/utils/validation.py\u001b[0m in \u001b[0;36mvalidate_data\u001b[0;34m(_estimator, X, y, reset, validate_separately, skip_check_array, **check_params)\u001b[0m\n\u001b[1;32m   2959\u001b[0m             \u001b[0my\u001b[0m \u001b[0;34m=\u001b[0m \u001b[0mcheck_array\u001b[0m\u001b[0;34m(\u001b[0m\u001b[0my\u001b[0m\u001b[0;34m,\u001b[0m \u001b[0minput_name\u001b[0m\u001b[0;34m=\u001b[0m\u001b[0;34m\"y\"\u001b[0m\u001b[0;34m,\u001b[0m \u001b[0;34m**\u001b[0m\u001b[0mcheck_y_params\u001b[0m\u001b[0;34m)\u001b[0m\u001b[0;34m\u001b[0m\u001b[0;34m\u001b[0m\u001b[0m\n\u001b[1;32m   2960\u001b[0m         \u001b[0;32melse\u001b[0m\u001b[0;34m:\u001b[0m\u001b[0;34m\u001b[0m\u001b[0;34m\u001b[0m\u001b[0m\n\u001b[0;32m-> 2961\u001b[0;31m             \u001b[0mX\u001b[0m\u001b[0;34m,\u001b[0m \u001b[0my\u001b[0m \u001b[0;34m=\u001b[0m \u001b[0mcheck_X_y\u001b[0m\u001b[0;34m(\u001b[0m\u001b[0mX\u001b[0m\u001b[0;34m,\u001b[0m \u001b[0my\u001b[0m\u001b[0;34m,\u001b[0m \u001b[0;34m**\u001b[0m\u001b[0mcheck_params\u001b[0m\u001b[0;34m)\u001b[0m\u001b[0;34m\u001b[0m\u001b[0;34m\u001b[0m\u001b[0m\n\u001b[0m\u001b[1;32m   2962\u001b[0m         \u001b[0mout\u001b[0m \u001b[0;34m=\u001b[0m \u001b[0mX\u001b[0m\u001b[0;34m,\u001b[0m \u001b[0my\u001b[0m\u001b[0;34m\u001b[0m\u001b[0;34m\u001b[0m\u001b[0m\n\u001b[1;32m   2963\u001b[0m \u001b[0;34m\u001b[0m\u001b[0m\n",
            "\u001b[0;32m/usr/local/lib/python3.11/dist-packages/sklearn/utils/validation.py\u001b[0m in \u001b[0;36mcheck_X_y\u001b[0;34m(X, y, accept_sparse, accept_large_sparse, dtype, order, copy, force_writeable, force_all_finite, ensure_all_finite, ensure_2d, allow_nd, multi_output, ensure_min_samples, ensure_min_features, y_numeric, estimator)\u001b[0m\n\u001b[1;32m   1368\u001b[0m     \u001b[0mensure_all_finite\u001b[0m \u001b[0;34m=\u001b[0m \u001b[0m_deprecate_force_all_finite\u001b[0m\u001b[0;34m(\u001b[0m\u001b[0mforce_all_finite\u001b[0m\u001b[0;34m,\u001b[0m \u001b[0mensure_all_finite\u001b[0m\u001b[0;34m)\u001b[0m\u001b[0;34m\u001b[0m\u001b[0;34m\u001b[0m\u001b[0m\n\u001b[1;32m   1369\u001b[0m \u001b[0;34m\u001b[0m\u001b[0m\n\u001b[0;32m-> 1370\u001b[0;31m     X = check_array(\n\u001b[0m\u001b[1;32m   1371\u001b[0m         \u001b[0mX\u001b[0m\u001b[0;34m,\u001b[0m\u001b[0;34m\u001b[0m\u001b[0;34m\u001b[0m\u001b[0m\n\u001b[1;32m   1372\u001b[0m         \u001b[0maccept_sparse\u001b[0m\u001b[0;34m=\u001b[0m\u001b[0maccept_sparse\u001b[0m\u001b[0;34m,\u001b[0m\u001b[0;34m\u001b[0m\u001b[0;34m\u001b[0m\u001b[0m\n",
            "\u001b[0;32m/usr/local/lib/python3.11/dist-packages/sklearn/utils/validation.py\u001b[0m in \u001b[0;36mcheck_array\u001b[0;34m(array, accept_sparse, accept_large_sparse, dtype, order, copy, force_writeable, force_all_finite, ensure_all_finite, ensure_non_negative, ensure_2d, allow_nd, ensure_min_samples, ensure_min_features, estimator, input_name)\u001b[0m\n\u001b[1;32m    971\u001b[0m         \u001b[0;31m# Use the original dtype for conversion if dtype is None\u001b[0m\u001b[0;34m\u001b[0m\u001b[0;34m\u001b[0m\u001b[0m\n\u001b[1;32m    972\u001b[0m         \u001b[0mnew_dtype\u001b[0m \u001b[0;34m=\u001b[0m \u001b[0mdtype_orig\u001b[0m \u001b[0;32mif\u001b[0m \u001b[0mdtype\u001b[0m \u001b[0;32mis\u001b[0m \u001b[0;32mNone\u001b[0m \u001b[0;32melse\u001b[0m \u001b[0mdtype\u001b[0m\u001b[0;34m\u001b[0m\u001b[0;34m\u001b[0m\u001b[0m\n\u001b[0;32m--> 973\u001b[0;31m         \u001b[0marray\u001b[0m \u001b[0;34m=\u001b[0m \u001b[0marray\u001b[0m\u001b[0;34m.\u001b[0m\u001b[0mastype\u001b[0m\u001b[0;34m(\u001b[0m\u001b[0mnew_dtype\u001b[0m\u001b[0;34m)\u001b[0m\u001b[0;34m\u001b[0m\u001b[0;34m\u001b[0m\u001b[0m\n\u001b[0m\u001b[1;32m    974\u001b[0m         \u001b[0;31m# Since we converted here, we do not need to convert again later\u001b[0m\u001b[0;34m\u001b[0m\u001b[0;34m\u001b[0m\u001b[0m\n\u001b[1;32m    975\u001b[0m         \u001b[0mdtype\u001b[0m \u001b[0;34m=\u001b[0m \u001b[0;32mNone\u001b[0m\u001b[0;34m\u001b[0m\u001b[0;34m\u001b[0m\u001b[0m\n",
            "\u001b[0;32m/usr/local/lib/python3.11/dist-packages/pandas/core/generic.py\u001b[0m in \u001b[0;36mastype\u001b[0;34m(self, dtype, copy, errors)\u001b[0m\n\u001b[1;32m   6641\u001b[0m         \u001b[0;32melse\u001b[0m\u001b[0;34m:\u001b[0m\u001b[0;34m\u001b[0m\u001b[0;34m\u001b[0m\u001b[0m\n\u001b[1;32m   6642\u001b[0m             \u001b[0;31m# else, only a single dtype is given\u001b[0m\u001b[0;34m\u001b[0m\u001b[0;34m\u001b[0m\u001b[0m\n\u001b[0;32m-> 6643\u001b[0;31m             \u001b[0mnew_data\u001b[0m \u001b[0;34m=\u001b[0m \u001b[0mself\u001b[0m\u001b[0;34m.\u001b[0m\u001b[0m_mgr\u001b[0m\u001b[0;34m.\u001b[0m\u001b[0mastype\u001b[0m\u001b[0;34m(\u001b[0m\u001b[0mdtype\u001b[0m\u001b[0;34m=\u001b[0m\u001b[0mdtype\u001b[0m\u001b[0;34m,\u001b[0m \u001b[0mcopy\u001b[0m\u001b[0;34m=\u001b[0m\u001b[0mcopy\u001b[0m\u001b[0;34m,\u001b[0m \u001b[0merrors\u001b[0m\u001b[0;34m=\u001b[0m\u001b[0merrors\u001b[0m\u001b[0;34m)\u001b[0m\u001b[0;34m\u001b[0m\u001b[0;34m\u001b[0m\u001b[0m\n\u001b[0m\u001b[1;32m   6644\u001b[0m             \u001b[0mres\u001b[0m \u001b[0;34m=\u001b[0m \u001b[0mself\u001b[0m\u001b[0;34m.\u001b[0m\u001b[0m_constructor_from_mgr\u001b[0m\u001b[0;34m(\u001b[0m\u001b[0mnew_data\u001b[0m\u001b[0;34m,\u001b[0m \u001b[0maxes\u001b[0m\u001b[0;34m=\u001b[0m\u001b[0mnew_data\u001b[0m\u001b[0;34m.\u001b[0m\u001b[0maxes\u001b[0m\u001b[0;34m)\u001b[0m\u001b[0;34m\u001b[0m\u001b[0;34m\u001b[0m\u001b[0m\n\u001b[1;32m   6645\u001b[0m             \u001b[0;32mreturn\u001b[0m \u001b[0mres\u001b[0m\u001b[0;34m.\u001b[0m\u001b[0m__finalize__\u001b[0m\u001b[0;34m(\u001b[0m\u001b[0mself\u001b[0m\u001b[0;34m,\u001b[0m \u001b[0mmethod\u001b[0m\u001b[0;34m=\u001b[0m\u001b[0;34m\"astype\"\u001b[0m\u001b[0;34m)\u001b[0m\u001b[0;34m\u001b[0m\u001b[0;34m\u001b[0m\u001b[0m\n",
            "\u001b[0;32m/usr/local/lib/python3.11/dist-packages/pandas/core/internals/managers.py\u001b[0m in \u001b[0;36mastype\u001b[0;34m(self, dtype, copy, errors)\u001b[0m\n\u001b[1;32m    428\u001b[0m             \u001b[0mcopy\u001b[0m \u001b[0;34m=\u001b[0m \u001b[0;32mFalse\u001b[0m\u001b[0;34m\u001b[0m\u001b[0;34m\u001b[0m\u001b[0m\n\u001b[1;32m    429\u001b[0m \u001b[0;34m\u001b[0m\u001b[0m\n\u001b[0;32m--> 430\u001b[0;31m         return self.apply(\n\u001b[0m\u001b[1;32m    431\u001b[0m             \u001b[0;34m\"astype\"\u001b[0m\u001b[0;34m,\u001b[0m\u001b[0;34m\u001b[0m\u001b[0;34m\u001b[0m\u001b[0m\n\u001b[1;32m    432\u001b[0m             \u001b[0mdtype\u001b[0m\u001b[0;34m=\u001b[0m\u001b[0mdtype\u001b[0m\u001b[0;34m,\u001b[0m\u001b[0;34m\u001b[0m\u001b[0;34m\u001b[0m\u001b[0m\n",
            "\u001b[0;32m/usr/local/lib/python3.11/dist-packages/pandas/core/internals/managers.py\u001b[0m in \u001b[0;36mapply\u001b[0;34m(self, f, align_keys, **kwargs)\u001b[0m\n\u001b[1;32m    361\u001b[0m                 \u001b[0mapplied\u001b[0m \u001b[0;34m=\u001b[0m \u001b[0mb\u001b[0m\u001b[0;34m.\u001b[0m\u001b[0mapply\u001b[0m\u001b[0;34m(\u001b[0m\u001b[0mf\u001b[0m\u001b[0;34m,\u001b[0m \u001b[0;34m**\u001b[0m\u001b[0mkwargs\u001b[0m\u001b[0;34m)\u001b[0m\u001b[0;34m\u001b[0m\u001b[0;34m\u001b[0m\u001b[0m\n\u001b[1;32m    362\u001b[0m             \u001b[0;32melse\u001b[0m\u001b[0;34m:\u001b[0m\u001b[0;34m\u001b[0m\u001b[0;34m\u001b[0m\u001b[0m\n\u001b[0;32m--> 363\u001b[0;31m                 \u001b[0mapplied\u001b[0m \u001b[0;34m=\u001b[0m \u001b[0mgetattr\u001b[0m\u001b[0;34m(\u001b[0m\u001b[0mb\u001b[0m\u001b[0;34m,\u001b[0m \u001b[0mf\u001b[0m\u001b[0;34m)\u001b[0m\u001b[0;34m(\u001b[0m\u001b[0;34m**\u001b[0m\u001b[0mkwargs\u001b[0m\u001b[0;34m)\u001b[0m\u001b[0;34m\u001b[0m\u001b[0;34m\u001b[0m\u001b[0m\n\u001b[0m\u001b[1;32m    364\u001b[0m             \u001b[0mresult_blocks\u001b[0m \u001b[0;34m=\u001b[0m \u001b[0mextend_blocks\u001b[0m\u001b[0;34m(\u001b[0m\u001b[0mapplied\u001b[0m\u001b[0;34m,\u001b[0m \u001b[0mresult_blocks\u001b[0m\u001b[0;34m)\u001b[0m\u001b[0;34m\u001b[0m\u001b[0;34m\u001b[0m\u001b[0m\n\u001b[1;32m    365\u001b[0m \u001b[0;34m\u001b[0m\u001b[0m\n",
            "\u001b[0;32m/usr/local/lib/python3.11/dist-packages/pandas/core/internals/blocks.py\u001b[0m in \u001b[0;36mastype\u001b[0;34m(self, dtype, copy, errors, using_cow, squeeze)\u001b[0m\n\u001b[1;32m    756\u001b[0m             \u001b[0mvalues\u001b[0m \u001b[0;34m=\u001b[0m \u001b[0mvalues\u001b[0m\u001b[0;34m[\u001b[0m\u001b[0;36m0\u001b[0m\u001b[0;34m,\u001b[0m \u001b[0;34m:\u001b[0m\u001b[0;34m]\u001b[0m  \u001b[0;31m# type: ignore[call-overload]\u001b[0m\u001b[0;34m\u001b[0m\u001b[0;34m\u001b[0m\u001b[0m\n\u001b[1;32m    757\u001b[0m \u001b[0;34m\u001b[0m\u001b[0m\n\u001b[0;32m--> 758\u001b[0;31m         \u001b[0mnew_values\u001b[0m \u001b[0;34m=\u001b[0m \u001b[0mastype_array_safe\u001b[0m\u001b[0;34m(\u001b[0m\u001b[0mvalues\u001b[0m\u001b[0;34m,\u001b[0m \u001b[0mdtype\u001b[0m\u001b[0;34m,\u001b[0m \u001b[0mcopy\u001b[0m\u001b[0;34m=\u001b[0m\u001b[0mcopy\u001b[0m\u001b[0;34m,\u001b[0m \u001b[0merrors\u001b[0m\u001b[0;34m=\u001b[0m\u001b[0merrors\u001b[0m\u001b[0;34m)\u001b[0m\u001b[0;34m\u001b[0m\u001b[0;34m\u001b[0m\u001b[0m\n\u001b[0m\u001b[1;32m    759\u001b[0m \u001b[0;34m\u001b[0m\u001b[0m\n\u001b[1;32m    760\u001b[0m         \u001b[0mnew_values\u001b[0m \u001b[0;34m=\u001b[0m \u001b[0mmaybe_coerce_values\u001b[0m\u001b[0;34m(\u001b[0m\u001b[0mnew_values\u001b[0m\u001b[0;34m)\u001b[0m\u001b[0;34m\u001b[0m\u001b[0;34m\u001b[0m\u001b[0m\n",
            "\u001b[0;32m/usr/local/lib/python3.11/dist-packages/pandas/core/dtypes/astype.py\u001b[0m in \u001b[0;36mastype_array_safe\u001b[0;34m(values, dtype, copy, errors)\u001b[0m\n\u001b[1;32m    235\u001b[0m \u001b[0;34m\u001b[0m\u001b[0m\n\u001b[1;32m    236\u001b[0m     \u001b[0;32mtry\u001b[0m\u001b[0;34m:\u001b[0m\u001b[0;34m\u001b[0m\u001b[0;34m\u001b[0m\u001b[0m\n\u001b[0;32m--> 237\u001b[0;31m         \u001b[0mnew_values\u001b[0m \u001b[0;34m=\u001b[0m \u001b[0mastype_array\u001b[0m\u001b[0;34m(\u001b[0m\u001b[0mvalues\u001b[0m\u001b[0;34m,\u001b[0m \u001b[0mdtype\u001b[0m\u001b[0;34m,\u001b[0m \u001b[0mcopy\u001b[0m\u001b[0;34m=\u001b[0m\u001b[0mcopy\u001b[0m\u001b[0;34m)\u001b[0m\u001b[0;34m\u001b[0m\u001b[0;34m\u001b[0m\u001b[0m\n\u001b[0m\u001b[1;32m    238\u001b[0m     \u001b[0;32mexcept\u001b[0m \u001b[0;34m(\u001b[0m\u001b[0mValueError\u001b[0m\u001b[0;34m,\u001b[0m \u001b[0mTypeError\u001b[0m\u001b[0;34m)\u001b[0m\u001b[0;34m:\u001b[0m\u001b[0;34m\u001b[0m\u001b[0;34m\u001b[0m\u001b[0m\n\u001b[1;32m    239\u001b[0m         \u001b[0;31m# e.g. _astype_nansafe can fail on object-dtype of strings\u001b[0m\u001b[0;34m\u001b[0m\u001b[0;34m\u001b[0m\u001b[0m\n",
            "\u001b[0;32m/usr/local/lib/python3.11/dist-packages/pandas/core/dtypes/astype.py\u001b[0m in \u001b[0;36mastype_array\u001b[0;34m(values, dtype, copy)\u001b[0m\n\u001b[1;32m    180\u001b[0m \u001b[0;34m\u001b[0m\u001b[0m\n\u001b[1;32m    181\u001b[0m     \u001b[0;32melse\u001b[0m\u001b[0;34m:\u001b[0m\u001b[0;34m\u001b[0m\u001b[0;34m\u001b[0m\u001b[0m\n\u001b[0;32m--> 182\u001b[0;31m         \u001b[0mvalues\u001b[0m \u001b[0;34m=\u001b[0m \u001b[0m_astype_nansafe\u001b[0m\u001b[0;34m(\u001b[0m\u001b[0mvalues\u001b[0m\u001b[0;34m,\u001b[0m \u001b[0mdtype\u001b[0m\u001b[0;34m,\u001b[0m \u001b[0mcopy\u001b[0m\u001b[0;34m=\u001b[0m\u001b[0mcopy\u001b[0m\u001b[0;34m)\u001b[0m\u001b[0;34m\u001b[0m\u001b[0;34m\u001b[0m\u001b[0m\n\u001b[0m\u001b[1;32m    183\u001b[0m \u001b[0;34m\u001b[0m\u001b[0m\n\u001b[1;32m    184\u001b[0m     \u001b[0;31m# in pandas we don't store numpy str dtypes, so convert to object\u001b[0m\u001b[0;34m\u001b[0m\u001b[0;34m\u001b[0m\u001b[0m\n",
            "\u001b[0;32m/usr/local/lib/python3.11/dist-packages/pandas/core/dtypes/astype.py\u001b[0m in \u001b[0;36m_astype_nansafe\u001b[0;34m(arr, dtype, copy, skipna)\u001b[0m\n\u001b[1;32m    131\u001b[0m     \u001b[0;32mif\u001b[0m \u001b[0mcopy\u001b[0m \u001b[0;32mor\u001b[0m \u001b[0marr\u001b[0m\u001b[0;34m.\u001b[0m\u001b[0mdtype\u001b[0m \u001b[0;34m==\u001b[0m \u001b[0mobject\u001b[0m \u001b[0;32mor\u001b[0m \u001b[0mdtype\u001b[0m \u001b[0;34m==\u001b[0m \u001b[0mobject\u001b[0m\u001b[0;34m:\u001b[0m\u001b[0;34m\u001b[0m\u001b[0;34m\u001b[0m\u001b[0m\n\u001b[1;32m    132\u001b[0m         \u001b[0;31m# Explicit copy, or required since NumPy can't view from / to object.\u001b[0m\u001b[0;34m\u001b[0m\u001b[0;34m\u001b[0m\u001b[0m\n\u001b[0;32m--> 133\u001b[0;31m         \u001b[0;32mreturn\u001b[0m \u001b[0marr\u001b[0m\u001b[0;34m.\u001b[0m\u001b[0mastype\u001b[0m\u001b[0;34m(\u001b[0m\u001b[0mdtype\u001b[0m\u001b[0;34m,\u001b[0m \u001b[0mcopy\u001b[0m\u001b[0;34m=\u001b[0m\u001b[0;32mTrue\u001b[0m\u001b[0;34m)\u001b[0m\u001b[0;34m\u001b[0m\u001b[0;34m\u001b[0m\u001b[0m\n\u001b[0m\u001b[1;32m    134\u001b[0m \u001b[0;34m\u001b[0m\u001b[0m\n\u001b[1;32m    135\u001b[0m     \u001b[0;32mreturn\u001b[0m \u001b[0marr\u001b[0m\u001b[0;34m.\u001b[0m\u001b[0mastype\u001b[0m\u001b[0;34m(\u001b[0m\u001b[0mdtype\u001b[0m\u001b[0;34m,\u001b[0m \u001b[0mcopy\u001b[0m\u001b[0;34m=\u001b[0m\u001b[0mcopy\u001b[0m\u001b[0;34m)\u001b[0m\u001b[0;34m\u001b[0m\u001b[0;34m\u001b[0m\u001b[0m\n",
            "\u001b[0;31mValueError\u001b[0m: could not convert string to float: 'Pagou'"
          ]
        }
      ]
    },
    {
      "cell_type": "markdown",
      "source": [
        "# Treinar o modelo de Machine Learning"
      ],
      "metadata": {
        "id": "AHcClIup2GHm"
      }
    },
    {
      "cell_type": "markdown",
      "source": [
        "1. **Importar e treinar o modelo**"
      ],
      "metadata": {
        "id": "iUjjedH22GHn"
      }
    },
    {
      "cell_type": "code",
      "source": [
        "from sklearn.ensemble import RandomForestClassifier\n",
        "from sklearn.metrics import classification_report, confusion_matrix\n",
        "\n",
        "# Cria o modelo\n",
        "model = RandomForestClassifier(random_state=42)\n",
        "\n",
        "# Treina o modelo com os dados balanceados\n",
        "model.fit(X_train_bal, y_train_bal)\n"
      ],
      "metadata": {
        "id": "2o2NGAIb2GHn"
      },
      "execution_count": null,
      "outputs": []
    },
    {
      "cell_type": "markdown",
      "source": [
        "2. **Fazer previsões no conjunto de teste**"
      ],
      "metadata": {
        "id": "BIoymUoG2GHn"
      }
    },
    {
      "cell_type": "code",
      "source": [
        "y_pred = model.predict(X_test)\n"
      ],
      "metadata": {
        "id": "qO1s19vG2GHn"
      },
      "execution_count": null,
      "outputs": []
    },
    {
      "cell_type": "markdown",
      "source": [
        "3. **Avaliar o modelo**"
      ],
      "metadata": {
        "id": "Shxe3yrP2GHo"
      }
    },
    {
      "cell_type": "code",
      "source": [
        "# Matriz de confusão\n",
        "print(confusion_matrix(y_test, y_pred))\n",
        "\n",
        "# Relatório de classificação\n",
        "print(classification_report(y_test, y_pred))\n"
      ],
      "metadata": {
        "id": "BQxb4j192GHo"
      },
      "execution_count": null,
      "outputs": []
    },
    {
      "cell_type": "markdown",
      "source": [
        "Análise:\n",
        "\n",
        "O modelo apresentou boa precisão geral e desempenho consistente na identificação de pagadores.\n",
        "\n",
        "No entanto, o recall da classe 1 (inadimplentes) foi de apenas 74%, ou seja, aproximadamente 26% dos inadimplentes não foram detectados.\n",
        "\n",
        "Em cenários de risco de crédito, maximizar o recall da classe 1 é essencial, pois não identificar inadimplentes pode causar prejuízos financeiros.\n",
        "\n",
        "A partir disso, buscamos ajustar o modelo para melhorar a sensibilidade (recall) da classe 1, mesmo que isso reduza levemente a precisão ou acurácia geral."
      ],
      "metadata": {
        "id": "th670VD_2GHo"
      }
    },
    {
      "cell_type": "markdown",
      "source": [
        "# **melhorar a previsão (recall)**"
      ],
      "metadata": {
        "id": "y3h3wY872GHo"
      }
    },
    {
      "cell_type": "markdown",
      "source": [
        "Ajustar o limiar de decisão (threshold)"
      ],
      "metadata": {
        "id": "YhwL4xJs2GHo"
      }
    },
    {
      "cell_type": "code",
      "source": [
        "# Obter probabilidades previstas\n",
        "y_proba = model.predict_proba(X_test)[:, 1]\n",
        "\n",
        "# Novo limiar de corte: 0.3 (mais sensível para inadimplentes)\n",
        "y_pred_thresh = (y_proba >= 0.3).astype(int)\n",
        "\n",
        "# Avaliar novamente\n",
        "from sklearn.metrics import classification_report, confusion_matrix\n",
        "\n",
        "print(confusion_matrix(y_test, y_pred_thresh))\n",
        "print(classification_report(y_test, y_pred_thresh))\n"
      ],
      "metadata": {
        "id": "Z8RPNas82GHp"
      },
      "execution_count": null,
      "outputs": []
    },
    {
      "cell_type": "markdown",
      "source": [
        "Ajustar o modelo com GridSearchCV"
      ],
      "metadata": {
        "id": "59sNC_jj2GHp"
      }
    },
    {
      "cell_type": "code",
      "source": [
        "from sklearn.model_selection import GridSearchCV\n",
        "from sklearn.ensemble import RandomForestClassifier\n"
      ],
      "metadata": {
        "id": "JYkQMVm02GHp"
      },
      "execution_count": null,
      "outputs": []
    },
    {
      "cell_type": "code",
      "source": [
        "param_grid = {\n",
        "    'n_estimators': [100, 200],          # número de árvores\n",
        "    'max_depth': [None, 10, 20],         # profundidade máxima\n",
        "    'min_samples_split': [2, 5],         # min de amostras para dividir nó\n",
        "    'min_samples_leaf': [1, 2],          # min de amostras em uma folha\n",
        "    'class_weight': [None, 'balanced']   # ajustar pesos da classe\n",
        "}\n"
      ],
      "metadata": {
        "id": "ePpk8u6p2GHp"
      },
      "execution_count": null,
      "outputs": []
    },
    {
      "cell_type": "code",
      "source": [
        "rf = RandomForestClassifier(random_state=42)\n",
        "\n",
        "grid_search = GridSearchCV(estimator=rf,\n",
        "                           param_grid=param_grid,\n",
        "                           scoring='recall',   # foco em recall!\n",
        "                           cv=5,\n",
        "                           n_jobs=-1,          # usar todos os núcleos\n",
        "                           verbose=2)\n"
      ],
      "metadata": {
        "id": "tSczRcpt2GHq"
      },
      "execution_count": null,
      "outputs": []
    },
    {
      "cell_type": "code",
      "source": [
        "grid_search.fit(X_train_bal, y_train_bal)\n"
      ],
      "metadata": {
        "id": "GM8l880m2GHq"
      },
      "execution_count": null,
      "outputs": []
    },
    {
      "cell_type": "code",
      "source": [
        "print(\"Melhores hiperparâmetros:\", grid_search.best_params_)\n",
        "\n",
        "best_model = grid_search.best_estimator_\n"
      ],
      "metadata": {
        "id": "gq61Zz8m2GHq"
      },
      "execution_count": null,
      "outputs": []
    },
    {
      "cell_type": "code",
      "source": [
        "y_pred_best = best_model.predict(X_test)\n",
        "\n",
        "from sklearn.metrics import classification_report, confusion_matrix\n",
        "print(confusion_matrix(y_test, y_pred_best))\n",
        "print(classification_report(y_test, y_pred_best))\n"
      ],
      "metadata": {
        "id": "5fXBNffm2GHq"
      },
      "execution_count": null,
      "outputs": []
    },
    {
      "cell_type": "markdown",
      "source": [
        "\"Utilizei validação cruzada com GridSearchCV para encontrar os melhores hiperparâmetros do modelo Random Forest, focando em maximizar o recall da classe de inadimplentes (classe 1). Com isso, obtivemos uma melhora no desempenho em relação à versão inicial do modelo, especialmente na sensibilidade para detectar inadimplência.\""
      ],
      "metadata": {
        "id": "PUnvw4bH2GHr"
      }
    },
    {
      "cell_type": "markdown",
      "source": [
        "Precisão para inadimplentes: 89% → poucas falsas previsões positivas.\n",
        "\n",
        "Recall para inadimplentes: 74% → o modelo consegue encontrar a maioria dos casos de inadimplência.\n",
        "\n",
        "F1-score: 0.80 → equilíbrio entre precisão e recall.\n",
        "\n",
        "Acurácia geral: 92%\n",
        "\n",
        "💡 A melhoria no modelo permitiu identificar inadimplentes com mais segurança, mesmo com o desbalanceamento original dos dados.\n",
        "\n"
      ],
      "metadata": {
        "id": "Ug7q3ehv2GHr"
      }
    },
    {
      "cell_type": "markdown",
      "source": [
        "# Interpretação do Modelo: Feature Importance"
      ],
      "metadata": {
        "id": "vzyyUoI02GHr"
      }
    },
    {
      "cell_type": "code",
      "source": [
        "import matplotlib.pyplot as plt\n",
        "import seaborn as sns\n",
        "import pandas as pd\n",
        "\n",
        "# Obter a importância das features\n",
        "importances = best_model.feature_importances_\n",
        "feature_names = X_train.columns\n",
        "feature_importance_df = pd.DataFrame({\n",
        "    'feature': feature_names,\n",
        "    'importance': importances\n",
        "}).sort_values(by='importance', ascending=False)\n",
        "\n",
        "# Visualizar\n",
        "plt.figure(figsize=(10, 6))\n",
        "sns.barplot(x='importance', y='feature', data=feature_importance_df)\n",
        "plt.title('Importância das Variáveis')\n",
        "plt.tight_layout()\n",
        "plt.show()\n"
      ],
      "metadata": {
        "id": "DBfwENiU2GHr"
      },
      "execution_count": null,
      "outputs": []
    },
    {
      "cell_type": "markdown",
      "source": [
        "Taxas de juros e renda comprometida estão altamente ligadas ao risco de inadimplência.\n",
        "\n",
        "Quanto menor o tempo de emprego e histórico de crédito, maior o risco.\n",
        "\n",
        "Fatores como loan_intent e home_ownership tiveram menor impacto."
      ],
      "metadata": {
        "id": "M50fbUk52GHs"
      }
    },
    {
      "cell_type": "markdown",
      "source": [
        "Conclusão\n",
        "O modelo final apresentou excelente desempenho preditivo, com capacidade de prever inadimplência com alta precisão e recall. A análise de importância das variáveis reforçou o valor das informações financeiras para prever o risco de crédito.\n",
        "\n"
      ],
      "metadata": {
        "id": "1lcIdBZE2GHs"
      }
    },
    {
      "cell_type": "code",
      "source": [
        "# Ver primeiras linhas\n",
        "df.head()\n",
        "\n",
        "# Ver estrutura do DataFrame\n",
        "df.info()\n",
        "\n",
        "# Ver estatísticas gerais\n",
        "df.describe()\n",
        "\n",
        "# Verificar valores nulos\n",
        "df.isnull().sum()\n",
        "\n",
        "# Ver os tipos das variáveis\n",
        "df.dtypes\n"
      ],
      "metadata": {
        "id": "0SV-yyat2H8N"
      },
      "execution_count": null,
      "outputs": []
    },
    {
      "cell_type": "code",
      "source": [
        "df.isnull().sum()  # Verifica nulos\n",
        "df.dropna(inplace=True)  # Remove linhas com nulos\n",
        "\n",
        "df.duplicated().sum()  # Verifica duplicatas\n",
        "df.drop_duplicates(inplace=True)"
      ],
      "metadata": {
        "id": "GnJy6pY82H8N"
      },
      "execution_count": null,
      "outputs": []
    },
    {
      "cell_type": "code",
      "source": [
        "import seaborn as sns\n",
        "import matplotlib.pyplot as plt\n",
        "\n",
        "sns.countplot(x='loan_status', data=df)\n",
        "plt.title('Distribuição da variável alvo (Status do Empréstimo)')\n",
        "plt.xlabel('Status do Empréstimo')\n",
        "plt.ylabel('Quantidade')\n",
        "plt.show()\n"
      ],
      "metadata": {
        "id": "J4ogh1Hm2H8O"
      },
      "execution_count": null,
      "outputs": []
    },
    {
      "cell_type": "code",
      "source": [
        "# Importar bibliotecas\n",
        "import pandas as pd\n",
        "import seaborn as sns\n",
        "import matplotlib.pyplot as plt\n",
        "\n",
        "df = pd.read_csv(path + '/credit_risk_dataset.csv')\n",
        "print(df.head())\n",
        "\n",
        "# Ver primeiras linhas\n",
        "print(\"Primeiras linhas do dataset:\")\n",
        "display(df.head())\n",
        "\n",
        "# Ver informações gerais do DataFrame\n",
        "print(\"Informações do DataFrame:\")\n",
        "df.info()\n",
        "\n",
        "# Estatísticas descritivas\n",
        "print(\"Estatísticas descritivas:\")\n",
        "display(df.describe())\n",
        "\n",
        "# Contar valores únicos da variável-alvo\n",
        "print(\"Distribuição da variável loan_status:\")\n",
        "print(df['loan_status'].value_counts())\n",
        "\n",
        "# Criar coluna com rótulos mais legíveis\n",
        "df['loan_status_label'] = df['loan_status'].map({0: 'Pagou', 1: 'Inadimplente'})\n",
        "\n",
        "# Visualização: Distribuição da variável-alvo\n",
        "plt.figure(figsize=(6,4))\n",
        "sns.countplot(x='loan_status_label', data=df, palette='Set2')\n",
        "plt.title('Distribuição dos Clientes: Pagaram vs Inadimplentes')\n",
        "plt.xlabel('Status do Empréstimo')\n",
        "plt.ylabel('Quantidade')\n",
        "plt.show()\n",
        "\n",
        "# Visualização: Distribuição de idade\n",
        "plt.figure(figsize=(6,4))\n",
        "sns.histplot(df['person_age'], bins=20, kde=True)\n",
        "plt.title('Distribuição da Idade dos Clientes')\n",
        "plt.xlabel('Idade')\n",
        "plt.ylabel('Frequência')\n",
        "plt.show()\n",
        "\n",
        "# Boxplot de renda por status do empréstimo\n",
        "plt.figure(figsize=(8,5))\n",
        "sns.boxplot(x='loan_status_label', y='person_income', data=df, palette='Set3')\n",
        "plt.title('Renda por Status do Empréstimo')\n",
        "plt.xlabel('Status do Cliente')\n",
        "plt.ylabel('Renda')\n",
        "plt.show()\n",
        "\n",
        "# Mapa de calor de correlação entre variáveis numéricas\n",
        "plt.figure(figsize=(10,8))\n",
        "sns.heatmap(df.corr(numeric_only=True), annot=True, cmap='coolwarm', fmt=\".2f\")\n",
        "plt.title('Correlação entre variáveis numéricas')\n",
        "plt.show()\n"
      ],
      "metadata": {
        "id": "APmNseyk2H8O"
      },
      "execution_count": null,
      "outputs": []
    },
    {
      "cell_type": "code",
      "source": [],
      "metadata": {
        "id": "qmidf1t72H8O"
      },
      "execution_count": null,
      "outputs": []
    },
    {
      "cell_type": "markdown",
      "source": [
        "# Análise dos Graficos:\n",
        "\n",
        "1) A quantidade de clientes que pagaram os empréstimos é consideravelmente maior do que a de inadimplentes, indicando um forte desbalanceamento. Isso mostra que a inadimplência não é comum neste conjunto de dados, o que pode influenciar negativamente o desempenho de modelos preditivos se não for tratado.\n",
        "\n",
        "2) Empréstimos são consideravelmente maiores entre pessoas de 20 a 30 anos, seguidos de uma queda gradual dos 30 aos 50 anos. Isso mostra que jovens adultos são o público mais frequente na concessão de crédito neste dataset.\n",
        "\n",
        "3) A mediana de renda é semelhante entre os clientes adimplentes e inadimplentes. No entanto, o grupo dos adimplentes apresenta mais outliers de alta renda, o que pode indicar que a renda, isoladamente, não é um preditor forte de inadimplência neste caso.\n",
        "\n",
        "4) A variável loan_status apresenta correlações positivas com loan_percent_income e loan_int_rate, o que indica que quanto maior a taxa de juros e a porcentagem da renda comprometida, maior a chance de inadimplência.\n",
        "Já a correlação com person_income é negativa (embora fraca), o que sugere que quanto maior a renda do cliente, menor a chance de inadimplência. Apesar de não serem correlações fortes, os sinais estão alinhados com o que se espera do comportamento financeiro."
      ],
      "metadata": {
        "id": "gm0um-qu2H8P"
      }
    },
    {
      "cell_type": "markdown",
      "source": [
        "# Pré-processamento dos dados para machine learning"
      ],
      "metadata": {
        "id": "6p2Y0p-A2H8P"
      }
    },
    {
      "cell_type": "markdown",
      "source": [
        "1. **Lidar com valores nulos**"
      ],
      "metadata": {
        "id": "MWudzvZq2H8P"
      }
    },
    {
      "cell_type": "code",
      "source": [
        "print(df.isnull().sum())\n"
      ],
      "metadata": {
        "id": "DT62Jfvp2H8Q"
      },
      "execution_count": null,
      "outputs": []
    },
    {
      "cell_type": "code",
      "source": [
        "# Exemplo: preencher valores nulos da experiência com a mediana\n",
        "df['person_emp_length'].fillna(df['person_emp_length'].median(), inplace=True)\n",
        "\n",
        "\n",
        "\n",
        "# Se tiver outros nulos, repita esse processo ou exclua as linhas\n",
        "df.dropna(inplace=True)  # Só se forem poucos casos\n"
      ],
      "metadata": {
        "id": "CaJHaths2H8Q"
      },
      "execution_count": null,
      "outputs": []
    },
    {
      "cell_type": "code",
      "source": [
        "df.dropna(inplace=True)  # Remove linhas com nulos\n",
        "    # ... outras operações ...\n",
        "df_encoded = pd.get_dummies(df, columns=[\n",
        "    'person_home_ownership',\n",
        "    'loan_intent',\n",
        "    'loan_grade',\n",
        "    'cb_person_default_on_file'\n",
        "], drop_first=True)\n",
        "    # ... outras operações ...\n",
        "X=df_encoded.drop(columns=['loan_status'])\n",
        "    # ... train_test_split(X, y, ...)\n",
        "    # ... SMOTE(X_train, y_train)"
      ],
      "metadata": {
        "id": "oR72PP8h2H8Q"
      },
      "execution_count": null,
      "outputs": []
    },
    {
      "cell_type": "markdown",
      "source": [
        "2. **Codificar variáveis categóricas**"
      ],
      "metadata": {
        "id": "AnrIh_v22H8Q"
      }
    },
    {
      "cell_type": "code",
      "source": [
        "# Usando pd.get_dummies (One-hot encoding)\n",
        "df_encoded=pd.get_dummies(df, columns=[\n",
        "    'person_home_ownership',\n",
        "    'loan_intent',\n",
        "    'loan_grade',\n",
        "    'cb_person_default_on_file'\n",
        "], drop_first=True)\n"
      ],
      "metadata": {
        "id": "YutNf_JE2H8R"
      },
      "execution_count": null,
      "outputs": []
    },
    {
      "cell_type": "markdown",
      "source": [
        "3. **Selecionar variáveis para o modelo**"
      ],
      "metadata": {
        "id": "KWuGCIK_2H8R"
      }
    },
    {
      "cell_type": "code",
      "source": [
        "# Features (todas as colunas, exceto o alvo)\n",
        "X = df_encoded.drop(columns=['loan_status'])\n",
        "\n",
        "\n",
        "# Alvo\n",
        "y = df_encoded['loan_status']\n"
      ],
      "metadata": {
        "id": "SmLY4S922H8R"
      },
      "execution_count": null,
      "outputs": []
    },
    {
      "cell_type": "markdown",
      "source": [
        "4. **Separar em treino e teste**\n"
      ],
      "metadata": {
        "id": "XsL9LHm02H8R"
      }
    },
    {
      "cell_type": "code",
      "source": [
        "from sklearn.model_selection import train_test_split\n",
        "\n",
        "X_train, X_test, y_train, y_test = train_test_split(\n",
        "    X, y, test_size=0.2, random_state=42, stratify=y\n",
        ")\n"
      ],
      "metadata": {
        "id": "E-kF6WXG2H8S"
      },
      "execution_count": null,
      "outputs": []
    },
    {
      "cell_type": "markdown",
      "source": [
        " 5. **Balancear os dados**"
      ],
      "metadata": {
        "id": "lkGoeNGA2H8S"
      }
    },
    {
      "cell_type": "code",
      "source": [
        "from imblearn.over_sampling import SMOTE\n",
        "\n",
        "smote = SMOTE(random_state=42)\n",
        "X_train_bal, y_train_bal = smote.fit_resample(X_train, y_train)\n"
      ],
      "metadata": {
        "id": "jmNHDIf72H8S"
      },
      "execution_count": null,
      "outputs": []
    },
    {
      "cell_type": "markdown",
      "source": [
        "# Treinar o modelo de Machine Learning"
      ],
      "metadata": {
        "id": "SMcucjWL2H8S"
      }
    },
    {
      "cell_type": "markdown",
      "source": [
        "1. **Importar e treinar o modelo**"
      ],
      "metadata": {
        "id": "8w4Pe2cN2H8T"
      }
    },
    {
      "cell_type": "code",
      "source": [
        "from sklearn.ensemble import RandomForestClassifier\n",
        "from sklearn.metrics import classification_report, confusion_matrix\n",
        "\n",
        "# Cria o modelo\n",
        "model = RandomForestClassifier(random_state=42)\n",
        "\n",
        "# Treina o modelo com os dados balanceados\n",
        "model.fit(X_train_bal, y_train_bal)\n"
      ],
      "metadata": {
        "id": "AmOoEPjb2H8T"
      },
      "execution_count": null,
      "outputs": []
    },
    {
      "cell_type": "markdown",
      "source": [
        "2. **Fazer previsões no conjunto de teste**"
      ],
      "metadata": {
        "id": "bfH1z4GR2H8T"
      }
    },
    {
      "cell_type": "code",
      "source": [
        "y_pred = model.predict(X_test)\n"
      ],
      "metadata": {
        "id": "smsXMDtJ2H8U"
      },
      "execution_count": null,
      "outputs": []
    },
    {
      "cell_type": "markdown",
      "source": [
        "3. **Avaliar o modelo**"
      ],
      "metadata": {
        "id": "IJ421ptF2H8U"
      }
    },
    {
      "cell_type": "code",
      "source": [
        "# Matriz de confusão\n",
        "print(confusion_matrix(y_test, y_pred))\n",
        "\n",
        "# Relatório de classificação\n",
        "print(classification_report(y_test, y_pred))\n"
      ],
      "metadata": {
        "id": "_tRRaGz82H8U"
      },
      "execution_count": null,
      "outputs": []
    },
    {
      "cell_type": "markdown",
      "source": [
        "Análise:\n",
        "\n",
        "O modelo apresentou boa precisão geral e desempenho consistente na identificação de pagadores.\n",
        "\n",
        "No entanto, o recall da classe 1 (inadimplentes) foi de apenas 74%, ou seja, aproximadamente 26% dos inadimplentes não foram detectados.\n",
        "\n",
        "Em cenários de risco de crédito, maximizar o recall da classe 1 é essencial, pois não identificar inadimplentes pode causar prejuízos financeiros.\n",
        "\n",
        "A partir disso, buscamos ajustar o modelo para melhorar a sensibilidade (recall) da classe 1, mesmo que isso reduza levemente a precisão ou acurácia geral."
      ],
      "metadata": {
        "id": "SD41EdbC2H8V"
      }
    },
    {
      "cell_type": "markdown",
      "source": [
        "# **melhorar a previsão (recall)**"
      ],
      "metadata": {
        "id": "pLPfmu8N2H8V"
      }
    },
    {
      "cell_type": "markdown",
      "source": [
        "Ajustar o limiar de decisão (threshold)"
      ],
      "metadata": {
        "id": "qVl2JTmb2H8V"
      }
    },
    {
      "cell_type": "code",
      "source": [
        "# Obter probabilidades previstas\n",
        "y_proba = model.predict_proba(X_test)[:, 1]\n",
        "\n",
        "# Novo limiar de corte: 0.3 (mais sensível para inadimplentes)\n",
        "y_pred_thresh = (y_proba >= 0.3).astype(int)\n",
        "\n",
        "# Avaliar novamente\n",
        "from sklearn.metrics import classification_report, confusion_matrix\n",
        "\n",
        "print(confusion_matrix(y_test, y_pred_thresh))\n",
        "print(classification_report(y_test, y_pred_thresh))\n"
      ],
      "metadata": {
        "id": "ibRk1i6b2H8V"
      },
      "execution_count": null,
      "outputs": []
    },
    {
      "cell_type": "markdown",
      "source": [
        "Ajustar o modelo com GridSearchCV"
      ],
      "metadata": {
        "id": "LdW4zB-R2H8W"
      }
    },
    {
      "cell_type": "code",
      "source": [
        "from sklearn.model_selection import GridSearchCV\n",
        "from sklearn.ensemble import RandomForestClassifier\n"
      ],
      "metadata": {
        "id": "qfyuN-vv2H8W"
      },
      "execution_count": null,
      "outputs": []
    },
    {
      "cell_type": "code",
      "source": [
        "param_grid = {\n",
        "    'n_estimators': [100, 200],          # número de árvores\n",
        "    'max_depth': [None, 10, 20],         # profundidade máxima\n",
        "    'min_samples_split': [2, 5],         # min de amostras para dividir nó\n",
        "    'min_samples_leaf': [1, 2],          # min de amostras em uma folha\n",
        "    'class_weight': [None, 'balanced']   # ajustar pesos da classe\n",
        "}\n"
      ],
      "metadata": {
        "id": "2VssP0XE2H8W"
      },
      "execution_count": null,
      "outputs": []
    },
    {
      "cell_type": "code",
      "source": [
        "rf = RandomForestClassifier(random_state=42)\n",
        "\n",
        "grid_search = GridSearchCV(estimator=rf,\n",
        "                           param_grid=param_grid,\n",
        "                           scoring='recall',   # foco em recall!\n",
        "                           cv=5,\n",
        "                           n_jobs=-1,          # usar todos os núcleos\n",
        "                           verbose=2)\n"
      ],
      "metadata": {
        "id": "Fom2KFe42H8W"
      },
      "execution_count": null,
      "outputs": []
    },
    {
      "cell_type": "code",
      "source": [
        "grid_search.fit(X_train_bal, y_train_bal)\n"
      ],
      "metadata": {
        "id": "0UcdzywB2H8X"
      },
      "execution_count": null,
      "outputs": []
    },
    {
      "cell_type": "code",
      "source": [
        "print(\"Melhores hiperparâmetros:\", grid_search.best_params_)\n",
        "\n",
        "best_model = grid_search.best_estimator_\n"
      ],
      "metadata": {
        "id": "fznwardm2H8X"
      },
      "execution_count": null,
      "outputs": []
    },
    {
      "cell_type": "code",
      "source": [
        "y_pred_best = best_model.predict(X_test)\n",
        "\n",
        "from sklearn.metrics import classification_report, confusion_matrix\n",
        "print(confusion_matrix(y_test, y_pred_best))\n",
        "print(classification_report(y_test, y_pred_best))\n"
      ],
      "metadata": {
        "id": "mG5WdOmC2H8X"
      },
      "execution_count": null,
      "outputs": []
    },
    {
      "cell_type": "markdown",
      "source": [
        "\"Utilizei validação cruzada com GridSearchCV para encontrar os melhores hiperparâmetros do modelo Random Forest, focando em maximizar o recall da classe de inadimplentes (classe 1). Com isso, obtivemos uma melhora no desempenho em relação à versão inicial do modelo, especialmente na sensibilidade para detectar inadimplência.\""
      ],
      "metadata": {
        "id": "Zu7hcpqg2H8Y"
      }
    },
    {
      "cell_type": "markdown",
      "source": [
        "Precisão para inadimplentes: 89% → poucas falsas previsões positivas.\n",
        "\n",
        "Recall para inadimplentes: 74% → o modelo consegue encontrar a maioria dos casos de inadimplência.\n",
        "\n",
        "F1-score: 0.80 → equilíbrio entre precisão e recall.\n",
        "\n",
        "Acurácia geral: 92%\n",
        "\n",
        "💡 A melhoria no modelo permitiu identificar inadimplentes com mais segurança, mesmo com o desbalanceamento original dos dados.\n",
        "\n"
      ],
      "metadata": {
        "id": "BBUSTC-B2H8Y"
      }
    },
    {
      "cell_type": "markdown",
      "source": [
        "# Interpretação do Modelo: Feature Importance"
      ],
      "metadata": {
        "id": "tzJ6TvN82H8Y"
      }
    },
    {
      "cell_type": "code",
      "source": [
        "import matplotlib.pyplot as plt\n",
        "import seaborn as sns\n",
        "import pandas as pd\n",
        "\n",
        "# Obter a importância das features\n",
        "importances = best_model.feature_importances_\n",
        "feature_names = X_train.columns\n",
        "feature_importance_df = pd.DataFrame({\n",
        "    'feature': feature_names,\n",
        "    'importance': importances\n",
        "}).sort_values(by='importance', ascending=False)\n",
        "\n",
        "# Visualizar\n",
        "plt.figure(figsize=(10, 6))\n",
        "sns.barplot(x='importance', y='feature', data=feature_importance_df)\n",
        "plt.title('Importância das Variáveis')\n",
        "plt.tight_layout()\n",
        "plt.show()\n"
      ],
      "metadata": {
        "id": "XjBSHxxr2H8Y"
      },
      "execution_count": null,
      "outputs": []
    },
    {
      "cell_type": "markdown",
      "source": [
        "Taxas de juros e renda comprometida estão altamente ligadas ao risco de inadimplência.\n",
        "\n",
        "Quanto menor o tempo de emprego e histórico de crédito, maior o risco.\n",
        "\n",
        "Fatores como loan_intent e home_ownership tiveram menor impacto."
      ],
      "metadata": {
        "id": "fenOTeG32H8Y"
      }
    },
    {
      "cell_type": "markdown",
      "source": [
        "Conclusão\n",
        "O modelo final apresentou excelente desempenho preditivo, com capacidade de prever inadimplência com alta precisão e recall. A análise de importância das variáveis reforçou o valor das informações financeiras para prever o risco de crédito.\n",
        "\n"
      ],
      "metadata": {
        "id": "gjpnreS22H8Z"
      }
    },
    {
      "cell_type": "code",
      "source": [
        "# Ver primeiras linhas\n",
        "df.head()\n",
        "\n",
        "# Ver estrutura do DataFrame\n",
        "df.info()\n",
        "\n",
        "# Ver estatísticas gerais\n",
        "df.describe()\n",
        "\n",
        "# Verificar valores nulos\n",
        "df.isnull().sum()\n",
        "\n",
        "# Ver os tipos das variáveis\n",
        "df.dtypes\n"
      ],
      "metadata": {
        "id": "WlIbbxKM2Inv"
      },
      "execution_count": null,
      "outputs": []
    },
    {
      "cell_type": "code",
      "source": [
        "df.isnull().sum()  # Verifica nulos\n",
        "df.dropna(inplace=True)  # Remove linhas com nulos\n",
        "\n",
        "df.duplicated().sum()  # Verifica duplicatas\n",
        "df.drop_duplicates(inplace=True)"
      ],
      "metadata": {
        "id": "4MAPYHRu2Inw"
      },
      "execution_count": null,
      "outputs": []
    },
    {
      "cell_type": "code",
      "source": [
        "import seaborn as sns\n",
        "import matplotlib.pyplot as plt\n",
        "\n",
        "sns.countplot(x='loan_status', data=df)\n",
        "plt.title('Distribuição da variável alvo (Status do Empréstimo)')\n",
        "plt.xlabel('Status do Empréstimo')\n",
        "plt.ylabel('Quantidade')\n",
        "plt.show()\n"
      ],
      "metadata": {
        "id": "gIco7Qmk2Inw"
      },
      "execution_count": null,
      "outputs": []
    },
    {
      "cell_type": "code",
      "source": [
        "# Importar bibliotecas\n",
        "import pandas as pd\n",
        "import seaborn as sns\n",
        "import matplotlib.pyplot as plt\n",
        "\n",
        "df = pd.read_csv(path + '/credit_risk_dataset.csv')\n",
        "print(df.head())\n",
        "\n",
        "# Ver primeiras linhas\n",
        "print(\"Primeiras linhas do dataset:\")\n",
        "display(df.head())\n",
        "\n",
        "# Ver informações gerais do DataFrame\n",
        "print(\"Informações do DataFrame:\")\n",
        "df.info()\n",
        "\n",
        "# Estatísticas descritivas\n",
        "print(\"Estatísticas descritivas:\")\n",
        "display(df.describe())\n",
        "\n",
        "# Contar valores únicos da variável-alvo\n",
        "print(\"Distribuição da variável loan_status:\")\n",
        "print(df['loan_status'].value_counts())\n",
        "\n",
        "# Criar coluna com rótulos mais legíveis\n",
        "df['loan_status_label'] = df['loan_status'].map({0: 'Pagou', 1: 'Inadimplente'})\n",
        "\n",
        "# Visualização: Distribuição da variável-alvo\n",
        "plt.figure(figsize=(6,4))\n",
        "sns.countplot(x='loan_status_label', data=df, palette='Set2')\n",
        "plt.title('Distribuição dos Clientes: Pagaram vs Inadimplentes')\n",
        "plt.xlabel('Status do Empréstimo')\n",
        "plt.ylabel('Quantidade')\n",
        "plt.show()\n",
        "\n",
        "# Visualização: Distribuição de idade\n",
        "plt.figure(figsize=(6,4))\n",
        "sns.histplot(df['person_age'], bins=20, kde=True)\n",
        "plt.title('Distribuição da Idade dos Clientes')\n",
        "plt.xlabel('Idade')\n",
        "plt.ylabel('Frequência')\n",
        "plt.show()\n",
        "\n",
        "# Boxplot de renda por status do empréstimo\n",
        "plt.figure(figsize=(8,5))\n",
        "sns.boxplot(x='loan_status_label', y='person_income', data=df, palette='Set3')\n",
        "plt.title('Renda por Status do Empréstimo')\n",
        "plt.xlabel('Status do Cliente')\n",
        "plt.ylabel('Renda')\n",
        "plt.show()\n",
        "\n",
        "# Mapa de calor de correlação entre variáveis numéricas\n",
        "plt.figure(figsize=(10,8))\n",
        "sns.heatmap(df.corr(numeric_only=True), annot=True, cmap='coolwarm', fmt=\".2f\")\n",
        "plt.title('Correlação entre variáveis numéricas')\n",
        "plt.show()\n"
      ],
      "metadata": {
        "id": "anK3GYoI2Inw"
      },
      "execution_count": null,
      "outputs": []
    },
    {
      "cell_type": "code",
      "source": [],
      "metadata": {
        "id": "VZHsE2By2Inx"
      },
      "execution_count": null,
      "outputs": []
    },
    {
      "cell_type": "markdown",
      "source": [
        "# Análise dos Graficos:\n",
        "\n",
        "1) A quantidade de clientes que pagaram os empréstimos é consideravelmente maior do que a de inadimplentes, indicando um forte desbalanceamento. Isso mostra que a inadimplência não é comum neste conjunto de dados, o que pode influenciar negativamente o desempenho de modelos preditivos se não for tratado.\n",
        "\n",
        "2) Empréstimos são consideravelmente maiores entre pessoas de 20 a 30 anos, seguidos de uma queda gradual dos 30 aos 50 anos. Isso mostra que jovens adultos são o público mais frequente na concessão de crédito neste dataset.\n",
        "\n",
        "3) A mediana de renda é semelhante entre os clientes adimplentes e inadimplentes. No entanto, o grupo dos adimplentes apresenta mais outliers de alta renda, o que pode indicar que a renda, isoladamente, não é um preditor forte de inadimplência neste caso.\n",
        "\n",
        "4) A variável loan_status apresenta correlações positivas com loan_percent_income e loan_int_rate, o que indica que quanto maior a taxa de juros e a porcentagem da renda comprometida, maior a chance de inadimplência.\n",
        "Já a correlação com person_income é negativa (embora fraca), o que sugere que quanto maior a renda do cliente, menor a chance de inadimplência. Apesar de não serem correlações fortes, os sinais estão alinhados com o que se espera do comportamento financeiro."
      ],
      "metadata": {
        "id": "XZc2qK9R2Inx"
      }
    },
    {
      "cell_type": "markdown",
      "source": [
        "# Pré-processamento dos dados para machine learning"
      ],
      "metadata": {
        "id": "FpBacjIW2Inx"
      }
    },
    {
      "cell_type": "markdown",
      "source": [
        "1. **Lidar com valores nulos**"
      ],
      "metadata": {
        "id": "nmXZWszq2Iny"
      }
    },
    {
      "cell_type": "code",
      "source": [
        "print(df.isnull().sum())\n"
      ],
      "metadata": {
        "id": "RCprZCH42Iny"
      },
      "execution_count": null,
      "outputs": []
    },
    {
      "cell_type": "code",
      "source": [
        "# Exemplo: preencher valores nulos da experiência com a mediana\n",
        "df['person_emp_length'].fillna(df['person_emp_length'].median(), inplace=True)\n",
        "\n",
        "\n",
        "\n",
        "# Se tiver outros nulos, repita esse processo ou exclua as linhas\n",
        "df.dropna(inplace=True)  # Só se forem poucos casos\n"
      ],
      "metadata": {
        "id": "YYj3OCs42Iny"
      },
      "execution_count": null,
      "outputs": []
    },
    {
      "cell_type": "code",
      "source": [
        "df.dropna(inplace=True)  # Remove linhas com nulos\n",
        "    # ... outras operações ...\n",
        "df_encoded = pd.get_dummies(df, columns=[\n",
        "    'person_home_ownership',\n",
        "    'loan_intent',\n",
        "    'loan_grade',\n",
        "    'cb_person_default_on_file'\n",
        "], drop_first=True)\n",
        "    # ... outras operações ...\n",
        "X=df_encoded.drop(columns=['loan_status'])\n",
        "    # ... train_test_split(X, y, ...)\n",
        "    # ... SMOTE(X_train, y_train)"
      ],
      "metadata": {
        "id": "x58IdmO92Iny"
      },
      "execution_count": null,
      "outputs": []
    },
    {
      "cell_type": "markdown",
      "source": [
        "2. **Codificar variáveis categóricas**"
      ],
      "metadata": {
        "id": "niNkwiE42Inz"
      }
    },
    {
      "cell_type": "code",
      "source": [
        "# Usando pd.get_dummies (One-hot encoding)\n",
        "df_encoded=pd.get_dummies(df, columns=[\n",
        "    'person_home_ownership',\n",
        "    'loan_intent',\n",
        "    'loan_grade',\n",
        "    'cb_person_default_on_file'\n",
        "], drop_first=True)\n"
      ],
      "metadata": {
        "id": "KsdfjIeK2Inz"
      },
      "execution_count": null,
      "outputs": []
    },
    {
      "cell_type": "markdown",
      "source": [
        "3. **Selecionar variáveis para o modelo**"
      ],
      "metadata": {
        "id": "EJf-1IyD2Inz"
      }
    },
    {
      "cell_type": "code",
      "source": [
        "# Features (todas as colunas, exceto o alvo)\n",
        "X = df_encoded.drop(columns=['loan_status'])\n",
        "\n",
        "\n",
        "# Alvo\n",
        "y = df_encoded['loan_status']\n"
      ],
      "metadata": {
        "id": "kKOKx96m2In0"
      },
      "execution_count": null,
      "outputs": []
    },
    {
      "cell_type": "markdown",
      "source": [
        "4. **Separar em treino e teste**\n"
      ],
      "metadata": {
        "id": "pAiHBJGl2In0"
      }
    },
    {
      "cell_type": "code",
      "source": [
        "from sklearn.model_selection import train_test_split\n",
        "\n",
        "X_train, X_test, y_train, y_test = train_test_split(\n",
        "    X, y, test_size=0.2, random_state=42, stratify=y\n",
        ")\n"
      ],
      "metadata": {
        "id": "b4qghL3K2In0"
      },
      "execution_count": null,
      "outputs": []
    },
    {
      "cell_type": "markdown",
      "source": [
        " 5. **Balancear os dados**"
      ],
      "metadata": {
        "id": "TOgIBHlQ2In0"
      }
    },
    {
      "cell_type": "code",
      "source": [
        "from imblearn.over_sampling import SMOTE\n",
        "\n",
        "smote = SMOTE(random_state=42)\n",
        "X_train_bal, y_train_bal = smote.fit_resample(X_train, y_train)\n"
      ],
      "metadata": {
        "id": "zKb1C8Nh2In0"
      },
      "execution_count": null,
      "outputs": []
    },
    {
      "cell_type": "markdown",
      "source": [
        "# Treinar o modelo de Machine Learning"
      ],
      "metadata": {
        "id": "UonezfU82In1"
      }
    },
    {
      "cell_type": "markdown",
      "source": [
        "1. **Importar e treinar o modelo**"
      ],
      "metadata": {
        "id": "GlEouE3q2In2"
      }
    },
    {
      "cell_type": "code",
      "source": [
        "from sklearn.ensemble import RandomForestClassifier\n",
        "from sklearn.metrics import classification_report, confusion_matrix\n",
        "\n",
        "# Cria o modelo\n",
        "model = RandomForestClassifier(random_state=42)\n",
        "\n",
        "# Treina o modelo com os dados balanceados\n",
        "model.fit(X_train_bal, y_train_bal)\n"
      ],
      "metadata": {
        "id": "R5I4RkGr2In2"
      },
      "execution_count": null,
      "outputs": []
    },
    {
      "cell_type": "markdown",
      "source": [
        "2. **Fazer previsões no conjunto de teste**"
      ],
      "metadata": {
        "id": "Kkhpi9RT2In2"
      }
    },
    {
      "cell_type": "code",
      "source": [
        "y_pred = model.predict(X_test)\n"
      ],
      "metadata": {
        "id": "xVBie1Rw2In2"
      },
      "execution_count": null,
      "outputs": []
    },
    {
      "cell_type": "markdown",
      "source": [
        "3. **Avaliar o modelo**"
      ],
      "metadata": {
        "id": "XgIzzOk12In2"
      }
    },
    {
      "cell_type": "code",
      "source": [
        "# Matriz de confusão\n",
        "print(confusion_matrix(y_test, y_pred))\n",
        "\n",
        "# Relatório de classificação\n",
        "print(classification_report(y_test, y_pred))\n"
      ],
      "metadata": {
        "id": "F3kcjRLh2In3"
      },
      "execution_count": null,
      "outputs": []
    },
    {
      "cell_type": "markdown",
      "source": [
        "Análise:\n",
        "\n",
        "O modelo apresentou boa precisão geral e desempenho consistente na identificação de pagadores.\n",
        "\n",
        "No entanto, o recall da classe 1 (inadimplentes) foi de apenas 74%, ou seja, aproximadamente 26% dos inadimplentes não foram detectados.\n",
        "\n",
        "Em cenários de risco de crédito, maximizar o recall da classe 1 é essencial, pois não identificar inadimplentes pode causar prejuízos financeiros.\n",
        "\n",
        "A partir disso, buscamos ajustar o modelo para melhorar a sensibilidade (recall) da classe 1, mesmo que isso reduza levemente a precisão ou acurácia geral."
      ],
      "metadata": {
        "id": "SKpGToic2In3"
      }
    },
    {
      "cell_type": "markdown",
      "source": [
        "# **melhorar a previsão (recall)**"
      ],
      "metadata": {
        "id": "5CXW0qRW2In3"
      }
    },
    {
      "cell_type": "markdown",
      "source": [
        "Ajustar o limiar de decisão (threshold)"
      ],
      "metadata": {
        "id": "flum1gAz2In3"
      }
    },
    {
      "cell_type": "code",
      "source": [
        "# Obter probabilidades previstas\n",
        "y_proba = model.predict_proba(X_test)[:, 1]\n",
        "\n",
        "# Novo limiar de corte: 0.3 (mais sensível para inadimplentes)\n",
        "y_pred_thresh = (y_proba >= 0.3).astype(int)\n",
        "\n",
        "# Avaliar novamente\n",
        "from sklearn.metrics import classification_report, confusion_matrix\n",
        "\n",
        "print(confusion_matrix(y_test, y_pred_thresh))\n",
        "print(classification_report(y_test, y_pred_thresh))\n"
      ],
      "metadata": {
        "id": "EJuX1DBs2In3"
      },
      "execution_count": null,
      "outputs": []
    },
    {
      "cell_type": "markdown",
      "source": [
        "Ajustar o modelo com GridSearchCV"
      ],
      "metadata": {
        "id": "Ke-BEVIT2In4"
      }
    },
    {
      "cell_type": "code",
      "source": [
        "from sklearn.model_selection import GridSearchCV\n",
        "from sklearn.ensemble import RandomForestClassifier\n"
      ],
      "metadata": {
        "id": "O9t4EYQC2In4"
      },
      "execution_count": null,
      "outputs": []
    },
    {
      "cell_type": "code",
      "source": [
        "param_grid = {\n",
        "    'n_estimators': [100, 200],          # número de árvores\n",
        "    'max_depth': [None, 10, 20],         # profundidade máxima\n",
        "    'min_samples_split': [2, 5],         # min de amostras para dividir nó\n",
        "    'min_samples_leaf': [1, 2],          # min de amostras em uma folha\n",
        "    'class_weight': [None, 'balanced']   # ajustar pesos da classe\n",
        "}\n"
      ],
      "metadata": {
        "id": "OVqHhcip2In4"
      },
      "execution_count": null,
      "outputs": []
    },
    {
      "cell_type": "code",
      "source": [
        "rf = RandomForestClassifier(random_state=42)\n",
        "\n",
        "grid_search = GridSearchCV(estimator=rf,\n",
        "                           param_grid=param_grid,\n",
        "                           scoring='recall',   # foco em recall!\n",
        "                           cv=5,\n",
        "                           n_jobs=-1,          # usar todos os núcleos\n",
        "                           verbose=2)\n"
      ],
      "metadata": {
        "id": "QblysPO62In4"
      },
      "execution_count": null,
      "outputs": []
    },
    {
      "cell_type": "code",
      "source": [
        "grid_search.fit(X_train_bal, y_train_bal)\n"
      ],
      "metadata": {
        "id": "ZoNB-Mgq2In4"
      },
      "execution_count": null,
      "outputs": []
    },
    {
      "cell_type": "code",
      "source": [
        "print(\"Melhores hiperparâmetros:\", grid_search.best_params_)\n",
        "\n",
        "best_model = grid_search.best_estimator_\n"
      ],
      "metadata": {
        "id": "8RZe7dqi2In5"
      },
      "execution_count": null,
      "outputs": []
    },
    {
      "cell_type": "code",
      "source": [
        "y_pred_best = best_model.predict(X_test)\n",
        "\n",
        "from sklearn.metrics import classification_report, confusion_matrix\n",
        "print(confusion_matrix(y_test, y_pred_best))\n",
        "print(classification_report(y_test, y_pred_best))\n"
      ],
      "metadata": {
        "id": "EX-Y3m__2In5"
      },
      "execution_count": null,
      "outputs": []
    },
    {
      "cell_type": "markdown",
      "source": [
        "\"Utilizei validação cruzada com GridSearchCV para encontrar os melhores hiperparâmetros do modelo Random Forest, focando em maximizar o recall da classe de inadimplentes (classe 1). Com isso, obtivemos uma melhora no desempenho em relação à versão inicial do modelo, especialmente na sensibilidade para detectar inadimplência.\""
      ],
      "metadata": {
        "id": "6P40b5FH2In5"
      }
    },
    {
      "cell_type": "markdown",
      "source": [
        "Precisão para inadimplentes: 89% → poucas falsas previsões positivas.\n",
        "\n",
        "Recall para inadimplentes: 74% → o modelo consegue encontrar a maioria dos casos de inadimplência.\n",
        "\n",
        "F1-score: 0.80 → equilíbrio entre precisão e recall.\n",
        "\n",
        "Acurácia geral: 92%\n",
        "\n",
        "💡 A melhoria no modelo permitiu identificar inadimplentes com mais segurança, mesmo com o desbalanceamento original dos dados.\n",
        "\n"
      ],
      "metadata": {
        "id": "Y55aGuwS2In5"
      }
    },
    {
      "cell_type": "markdown",
      "source": [
        "# Interpretação do Modelo: Feature Importance"
      ],
      "metadata": {
        "id": "HUKjsNTm2In5"
      }
    },
    {
      "cell_type": "code",
      "source": [
        "import matplotlib.pyplot as plt\n",
        "import seaborn as sns\n",
        "import pandas as pd\n",
        "\n",
        "# Obter a importância das features\n",
        "importances = best_model.feature_importances_\n",
        "feature_names = X_train.columns\n",
        "feature_importance_df = pd.DataFrame({\n",
        "    'feature': feature_names,\n",
        "    'importance': importances\n",
        "}).sort_values(by='importance', ascending=False)\n",
        "\n",
        "# Visualizar\n",
        "plt.figure(figsize=(10, 6))\n",
        "sns.barplot(x='importance', y='feature', data=feature_importance_df)\n",
        "plt.title('Importância das Variáveis')\n",
        "plt.tight_layout()\n",
        "plt.show()\n"
      ],
      "metadata": {
        "id": "NkNVI8p62In6"
      },
      "execution_count": null,
      "outputs": []
    },
    {
      "cell_type": "markdown",
      "source": [
        "Taxas de juros e renda comprometida estão altamente ligadas ao risco de inadimplência.\n",
        "\n",
        "Quanto menor o tempo de emprego e histórico de crédito, maior o risco.\n",
        "\n",
        "Fatores como loan_intent e home_ownership tiveram menor impacto."
      ],
      "metadata": {
        "id": "S5BcOWWV2In6"
      }
    },
    {
      "cell_type": "markdown",
      "source": [
        "Conclusão\n",
        "O modelo final apresentou excelente desempenho preditivo, com capacidade de prever inadimplência com alta precisão e recall. A análise de importância das variáveis reforçou o valor das informações financeiras para prever o risco de crédito.\n",
        "\n"
      ],
      "metadata": {
        "id": "4w7DBNr92In6"
      }
    },
    {
      "cell_type": "code",
      "source": [],
      "metadata": {
        "id": "1k4oIuvc2In6"
      },
      "execution_count": null,
      "outputs": []
    },
    {
      "cell_type": "code",
      "source": [
        "# Ver primeiras linhas\n",
        "df.head()\n",
        "\n",
        "# Ver estrutura do DataFrame\n",
        "df.info()\n",
        "\n",
        "# Ver estatísticas gerais\n",
        "df.describe()\n",
        "\n",
        "# Verificar valores nulos\n",
        "df.isnull().sum()\n",
        "\n",
        "# Ver os tipos das variáveis\n",
        "df.dtypes\n"
      ],
      "metadata": {
        "id": "Hmm76KKO2Jd_"
      },
      "execution_count": null,
      "outputs": []
    },
    {
      "cell_type": "code",
      "source": [
        "df.isnull().sum()  # Verifica nulos\n",
        "df.dropna(inplace=True)  # Remove linhas com nulos\n",
        "\n",
        "df.duplicated().sum()  # Verifica duplicatas\n",
        "df.drop_duplicates(inplace=True)"
      ],
      "metadata": {
        "id": "dipIEFQv2JeA"
      },
      "execution_count": null,
      "outputs": []
    },
    {
      "cell_type": "code",
      "source": [
        "import seaborn as sns\n",
        "import matplotlib.pyplot as plt\n",
        "\n",
        "sns.countplot(x='loan_status', data=df)\n",
        "plt.title('Distribuição da variável alvo (Status do Empréstimo)')\n",
        "plt.xlabel('Status do Empréstimo')\n",
        "plt.ylabel('Quantidade')\n",
        "plt.show()\n"
      ],
      "metadata": {
        "id": "Q9WEF1072JeA"
      },
      "execution_count": null,
      "outputs": []
    },
    {
      "cell_type": "code",
      "source": [
        "# Importar bibliotecas\n",
        "import pandas as pd\n",
        "import seaborn as sns\n",
        "import matplotlib.pyplot as plt\n",
        "\n",
        "df = pd.read_csv(path + '/credit_risk_dataset.csv')\n",
        "print(df.head())\n",
        "\n",
        "# Ver primeiras linhas\n",
        "print(\"Primeiras linhas do dataset:\")\n",
        "display(df.head())\n",
        "\n",
        "# Ver informações gerais do DataFrame\n",
        "print(\"Informações do DataFrame:\")\n",
        "df.info()\n",
        "\n",
        "# Estatísticas descritivas\n",
        "print(\"Estatísticas descritivas:\")\n",
        "display(df.describe())\n",
        "\n",
        "# Contar valores únicos da variável-alvo\n",
        "print(\"Distribuição da variável loan_status:\")\n",
        "print(df['loan_status'].value_counts())\n",
        "\n",
        "# Criar coluna com rótulos mais legíveis\n",
        "df['loan_status_label'] = df['loan_status'].map({0: 'Pagou', 1: 'Inadimplente'})\n",
        "\n",
        "# Visualização: Distribuição da variável-alvo\n",
        "plt.figure(figsize=(6,4))\n",
        "sns.countplot(x='loan_status_label', data=df, palette='Set2')\n",
        "plt.title('Distribuição dos Clientes: Pagaram vs Inadimplentes')\n",
        "plt.xlabel('Status do Empréstimo')\n",
        "plt.ylabel('Quantidade')\n",
        "plt.show()\n",
        "\n",
        "# Visualização: Distribuição de idade\n",
        "plt.figure(figsize=(6,4))\n",
        "sns.histplot(df['person_age'], bins=20, kde=True)\n",
        "plt.title('Distribuição da Idade dos Clientes')\n",
        "plt.xlabel('Idade')\n",
        "plt.ylabel('Frequência')\n",
        "plt.show()\n",
        "\n",
        "# Boxplot de renda por status do empréstimo\n",
        "plt.figure(figsize=(8,5))\n",
        "sns.boxplot(x='loan_status_label', y='person_income', data=df, palette='Set3')\n",
        "plt.title('Renda por Status do Empréstimo')\n",
        "plt.xlabel('Status do Cliente')\n",
        "plt.ylabel('Renda')\n",
        "plt.show()\n",
        "\n",
        "# Mapa de calor de correlação entre variáveis numéricas\n",
        "plt.figure(figsize=(10,8))\n",
        "sns.heatmap(df.corr(numeric_only=True), annot=True, cmap='coolwarm', fmt=\".2f\")\n",
        "plt.title('Correlação entre variáveis numéricas')\n",
        "plt.show()\n"
      ],
      "metadata": {
        "id": "HpFoQwsy2JeA"
      },
      "execution_count": null,
      "outputs": []
    },
    {
      "cell_type": "code",
      "source": [],
      "metadata": {
        "id": "8Uh8RWau2JeB"
      },
      "execution_count": null,
      "outputs": []
    },
    {
      "cell_type": "markdown",
      "source": [
        "# Análise dos Graficos:\n",
        "\n",
        "1) A quantidade de clientes que pagaram os empréstimos é consideravelmente maior do que a de inadimplentes, indicando um forte desbalanceamento. Isso mostra que a inadimplência não é comum neste conjunto de dados, o que pode influenciar negativamente o desempenho de modelos preditivos se não for tratado.\n",
        "\n",
        "2) Empréstimos são consideravelmente maiores entre pessoas de 20 a 30 anos, seguidos de uma queda gradual dos 30 aos 50 anos. Isso mostra que jovens adultos são o público mais frequente na concessão de crédito neste dataset.\n",
        "\n",
        "3) A mediana de renda é semelhante entre os clientes adimplentes e inadimplentes. No entanto, o grupo dos adimplentes apresenta mais outliers de alta renda, o que pode indicar que a renda, isoladamente, não é um preditor forte de inadimplência neste caso.\n",
        "\n",
        "4) A variável loan_status apresenta correlações positivas com loan_percent_income e loan_int_rate, o que indica que quanto maior a taxa de juros e a porcentagem da renda comprometida, maior a chance de inadimplência.\n",
        "Já a correlação com person_income é negativa (embora fraca), o que sugere que quanto maior a renda do cliente, menor a chance de inadimplência. Apesar de não serem correlações fortes, os sinais estão alinhados com o que se espera do comportamento financeiro."
      ],
      "metadata": {
        "id": "zWwMK9X32JeB"
      }
    },
    {
      "cell_type": "markdown",
      "source": [
        "# Pré-processamento dos dados para machine learning"
      ],
      "metadata": {
        "id": "034kHr6a2JeB"
      }
    },
    {
      "cell_type": "markdown",
      "source": [
        "1. **Lidar com valores nulos**"
      ],
      "metadata": {
        "id": "GjNYuzRV2JeC"
      }
    },
    {
      "cell_type": "code",
      "source": [
        "print(df.isnull().sum())\n"
      ],
      "metadata": {
        "id": "WLQBoEkM2JeC"
      },
      "execution_count": null,
      "outputs": []
    },
    {
      "cell_type": "code",
      "source": [
        "# Exemplo: preencher valores nulos da experiência com a mediana\n",
        "df['person_emp_length'].fillna(df['person_emp_length'].median(), inplace=True)\n",
        "\n",
        "\n",
        "\n",
        "# Se tiver outros nulos, repita esse processo ou exclua as linhas\n",
        "df.dropna(inplace=True)  # Só se forem poucos casos\n"
      ],
      "metadata": {
        "id": "h59m151e2JeC"
      },
      "execution_count": null,
      "outputs": []
    },
    {
      "cell_type": "code",
      "source": [
        "df.dropna(inplace=True)  # Remove linhas com nulos\n",
        "    # ... outras operações ...\n",
        "df_encoded = pd.get_dummies(df, columns=[\n",
        "    'person_home_ownership',\n",
        "    'loan_intent',\n",
        "    'loan_grade',\n",
        "    'cb_person_default_on_file'\n",
        "], drop_first=True)\n",
        "    # ... outras operações ...\n",
        "X=df_encoded.drop(columns=['loan_status'])\n",
        "    # ... train_test_split(X, y, ...)\n",
        "    # ... SMOTE(X_train, y_train)"
      ],
      "metadata": {
        "id": "qb_W1xa-2JeC"
      },
      "execution_count": null,
      "outputs": []
    },
    {
      "cell_type": "markdown",
      "source": [
        "2. **Codificar variáveis categóricas**"
      ],
      "metadata": {
        "id": "Xekb4VTw2JeD"
      }
    },
    {
      "cell_type": "code",
      "source": [
        "# Usando pd.get_dummies (One-hot encoding)\n",
        "df_encoded=pd.get_dummies(df, columns=[\n",
        "    'person_home_ownership',\n",
        "    'loan_intent',\n",
        "    'loan_grade',\n",
        "    'cb_person_default_on_file'\n",
        "], drop_first=True)\n"
      ],
      "metadata": {
        "id": "BsRxeoke2JeD"
      },
      "execution_count": null,
      "outputs": []
    },
    {
      "cell_type": "markdown",
      "source": [
        "3. **Selecionar variáveis para o modelo**"
      ],
      "metadata": {
        "id": "1B2kjEX32JeD"
      }
    },
    {
      "cell_type": "code",
      "source": [
        "# Features (todas as colunas, exceto o alvo)\n",
        "X = df_encoded.drop(columns=['loan_status'])\n",
        "\n",
        "\n",
        "# Alvo\n",
        "y = df_encoded['loan_status']\n"
      ],
      "metadata": {
        "id": "2ZSYdCtH2JeD"
      },
      "execution_count": null,
      "outputs": []
    },
    {
      "cell_type": "markdown",
      "source": [
        "4. **Separar em treino e teste**\n"
      ],
      "metadata": {
        "id": "LfTHHgYP2JeD"
      }
    },
    {
      "cell_type": "code",
      "source": [
        "from sklearn.model_selection import train_test_split\n",
        "\n",
        "X_train, X_test, y_train, y_test = train_test_split(\n",
        "    X, y, test_size=0.2, random_state=42, stratify=y\n",
        ")\n"
      ],
      "metadata": {
        "id": "V5LBTW_12JeE"
      },
      "execution_count": null,
      "outputs": []
    },
    {
      "cell_type": "markdown",
      "source": [
        " 5. **Balancear os dados**"
      ],
      "metadata": {
        "id": "Mbi916bG2JeE"
      }
    },
    {
      "cell_type": "code",
      "source": [
        "from imblearn.over_sampling import SMOTE\n",
        "\n",
        "smote = SMOTE(random_state=42)\n",
        "X_train_bal, y_train_bal = smote.fit_resample(X_train, y_train)\n"
      ],
      "metadata": {
        "id": "IXh3aPai2JeE"
      },
      "execution_count": null,
      "outputs": []
    },
    {
      "cell_type": "markdown",
      "source": [
        "# Treinar o modelo de Machine Learning"
      ],
      "metadata": {
        "id": "9fPWfqXD2JeE"
      }
    },
    {
      "cell_type": "markdown",
      "source": [
        "1. **Importar e treinar o modelo**"
      ],
      "metadata": {
        "id": "MQ3YmT3l2JeF"
      }
    },
    {
      "cell_type": "code",
      "source": [
        "from sklearn.ensemble import RandomForestClassifier\n",
        "from sklearn.metrics import classification_report, confusion_matrix\n",
        "\n",
        "# Cria o modelo\n",
        "model = RandomForestClassifier(random_state=42)\n",
        "\n",
        "# Treina o modelo com os dados balanceados\n",
        "model.fit(X_train_bal, y_train_bal)\n"
      ],
      "metadata": {
        "id": "fCwq6tLM2JeF"
      },
      "execution_count": null,
      "outputs": []
    },
    {
      "cell_type": "markdown",
      "source": [
        "2. **Fazer previsões no conjunto de teste**"
      ],
      "metadata": {
        "id": "fQwGNYnI2JeF"
      }
    },
    {
      "cell_type": "code",
      "source": [
        "y_pred = model.predict(X_test)\n"
      ],
      "metadata": {
        "id": "UwggKho52JeF"
      },
      "execution_count": null,
      "outputs": []
    },
    {
      "cell_type": "markdown",
      "source": [
        "3. **Avaliar o modelo**"
      ],
      "metadata": {
        "id": "kR44cr6I2JeG"
      }
    },
    {
      "cell_type": "code",
      "source": [
        "# Matriz de confusão\n",
        "print(confusion_matrix(y_test, y_pred))\n",
        "\n",
        "# Relatório de classificação\n",
        "print(classification_report(y_test, y_pred))\n"
      ],
      "metadata": {
        "id": "v_hA2LGF2JeG"
      },
      "execution_count": null,
      "outputs": []
    },
    {
      "cell_type": "markdown",
      "source": [
        "Análise:\n",
        "\n",
        "O modelo apresentou boa precisão geral e desempenho consistente na identificação de pagadores.\n",
        "\n",
        "No entanto, o recall da classe 1 (inadimplentes) foi de apenas 74%, ou seja, aproximadamente 26% dos inadimplentes não foram detectados.\n",
        "\n",
        "Em cenários de risco de crédito, maximizar o recall da classe 1 é essencial, pois não identificar inadimplentes pode causar prejuízos financeiros.\n",
        "\n",
        "A partir disso, buscamos ajustar o modelo para melhorar a sensibilidade (recall) da classe 1, mesmo que isso reduza levemente a precisão ou acurácia geral."
      ],
      "metadata": {
        "id": "w90yym6x2JeG"
      }
    },
    {
      "cell_type": "markdown",
      "source": [
        "# **melhorar a previsão (recall)**"
      ],
      "metadata": {
        "id": "vWCzmYWu2JeG"
      }
    },
    {
      "cell_type": "markdown",
      "source": [
        "Ajustar o limiar de decisão (threshold)"
      ],
      "metadata": {
        "id": "7YOFCtzV2JeG"
      }
    },
    {
      "cell_type": "code",
      "source": [
        "# Obter probabilidades previstas\n",
        "y_proba = model.predict_proba(X_test)[:, 1]\n",
        "\n",
        "# Novo limiar de corte: 0.3 (mais sensível para inadimplentes)\n",
        "y_pred_thresh = (y_proba >= 0.3).astype(int)\n",
        "\n",
        "# Avaliar novamente\n",
        "from sklearn.metrics import classification_report, confusion_matrix\n",
        "\n",
        "print(confusion_matrix(y_test, y_pred_thresh))\n",
        "print(classification_report(y_test, y_pred_thresh))\n"
      ],
      "metadata": {
        "id": "o5IPrq-s2JeH"
      },
      "execution_count": null,
      "outputs": []
    },
    {
      "cell_type": "markdown",
      "source": [
        "Ajustar o modelo com GridSearchCV"
      ],
      "metadata": {
        "id": "BXkP9nCv2JeH"
      }
    },
    {
      "cell_type": "code",
      "source": [
        "from sklearn.model_selection import GridSearchCV\n",
        "from sklearn.ensemble import RandomForestClassifier\n"
      ],
      "metadata": {
        "id": "GqlFKXx72JeH"
      },
      "execution_count": null,
      "outputs": []
    },
    {
      "cell_type": "code",
      "source": [
        "param_grid = {\n",
        "    'n_estimators': [100, 200],          # número de árvores\n",
        "    'max_depth': [None, 10, 20],         # profundidade máxima\n",
        "    'min_samples_split': [2, 5],         # min de amostras para dividir nó\n",
        "    'min_samples_leaf': [1, 2],          # min de amostras em uma folha\n",
        "    'class_weight': [None, 'balanced']   # ajustar pesos da classe\n",
        "}\n"
      ],
      "metadata": {
        "id": "CTy0BG-M2JeI"
      },
      "execution_count": null,
      "outputs": []
    },
    {
      "cell_type": "code",
      "source": [
        "rf = RandomForestClassifier(random_state=42)\n",
        "\n",
        "grid_search = GridSearchCV(estimator=rf,\n",
        "                           param_grid=param_grid,\n",
        "                           scoring='recall',   # foco em recall!\n",
        "                           cv=5,\n",
        "                           n_jobs=-1,          # usar todos os núcleos\n",
        "                           verbose=2)\n"
      ],
      "metadata": {
        "id": "0S_1wMwp2JeI"
      },
      "execution_count": null,
      "outputs": []
    },
    {
      "cell_type": "code",
      "source": [
        "grid_search.fit(X_train_bal, y_train_bal)\n"
      ],
      "metadata": {
        "id": "_g3ke4Lm2JeI"
      },
      "execution_count": null,
      "outputs": []
    },
    {
      "cell_type": "code",
      "source": [
        "print(\"Melhores hiperparâmetros:\", grid_search.best_params_)\n",
        "\n",
        "best_model = grid_search.best_estimator_\n"
      ],
      "metadata": {
        "id": "M0In58GL2JeI"
      },
      "execution_count": null,
      "outputs": []
    },
    {
      "cell_type": "code",
      "source": [
        "y_pred_best = best_model.predict(X_test)\n",
        "\n",
        "from sklearn.metrics import classification_report, confusion_matrix\n",
        "print(confusion_matrix(y_test, y_pred_best))\n",
        "print(classification_report(y_test, y_pred_best))\n"
      ],
      "metadata": {
        "id": "EAjKfP_62JeI"
      },
      "execution_count": null,
      "outputs": []
    },
    {
      "cell_type": "markdown",
      "source": [
        "\"Utilizei validação cruzada com GridSearchCV para encontrar os melhores hiperparâmetros do modelo Random Forest, focando em maximizar o recall da classe de inadimplentes (classe 1). Com isso, obtivemos uma melhora no desempenho em relação à versão inicial do modelo, especialmente na sensibilidade para detectar inadimplência.\""
      ],
      "metadata": {
        "id": "CCsgwoKj2JeI"
      }
    },
    {
      "cell_type": "markdown",
      "source": [
        "Precisão para inadimplentes: 89% → poucas falsas previsões positivas.\n",
        "\n",
        "Recall para inadimplentes: 74% → o modelo consegue encontrar a maioria dos casos de inadimplência.\n",
        "\n",
        "F1-score: 0.80 → equilíbrio entre precisão e recall.\n",
        "\n",
        "Acurácia geral: 92%\n",
        "\n",
        "💡 A melhoria no modelo permitiu identificar inadimplentes com mais segurança, mesmo com o desbalanceamento original dos dados.\n",
        "\n"
      ],
      "metadata": {
        "id": "k1kqwf8F2JeJ"
      }
    },
    {
      "cell_type": "markdown",
      "source": [
        "# Interpretação do Modelo: Feature Importance"
      ],
      "metadata": {
        "id": "YMb7UmwF2JeJ"
      }
    },
    {
      "cell_type": "code",
      "source": [
        "import matplotlib.pyplot as plt\n",
        "import seaborn as sns\n",
        "import pandas as pd\n",
        "\n",
        "# Obter a importância das features\n",
        "importances = best_model.feature_importances_\n",
        "feature_names = X_train.columns\n",
        "feature_importance_df = pd.DataFrame({\n",
        "    'feature': feature_names,\n",
        "    'importance': importances\n",
        "}).sort_values(by='importance', ascending=False)\n",
        "\n",
        "# Visualizar\n",
        "plt.figure(figsize=(10, 6))\n",
        "sns.barplot(x='importance', y='feature', data=feature_importance_df)\n",
        "plt.title('Importância das Variáveis')\n",
        "plt.tight_layout()\n",
        "plt.show()\n"
      ],
      "metadata": {
        "id": "_tlrDMfY2JeJ"
      },
      "execution_count": null,
      "outputs": []
    },
    {
      "cell_type": "markdown",
      "source": [
        "Taxas de juros e renda comprometida estão altamente ligadas ao risco de inadimplência.\n",
        "\n",
        "Quanto menor o tempo de emprego e histórico de crédito, maior o risco.\n",
        "\n",
        "Fatores como loan_intent e home_ownership tiveram menor impacto."
      ],
      "metadata": {
        "id": "FpxWU9eD2JeJ"
      }
    },
    {
      "cell_type": "markdown",
      "source": [
        "Conclusão\n",
        "O modelo final apresentou excelente desempenho preditivo, com capacidade de prever inadimplência com alta precisão e recall. A análise de importância das variáveis reforçou o valor das informações financeiras para prever o risco de crédito.\n",
        "\n"
      ],
      "metadata": {
        "id": "kMqy5FUB2JeJ"
      }
    },
    {
      "cell_type": "code",
      "source": [],
      "metadata": {
        "id": "olR_wcOw2JeJ"
      },
      "execution_count": null,
      "outputs": []
    },
    {
      "cell_type": "code",
      "source": [
        "# Ver primeiras linhas\n",
        "df.head()\n",
        "\n",
        "# Ver estrutura do DataFrame\n",
        "df.info()\n",
        "\n",
        "# Ver estatísticas gerais\n",
        "df.describe()\n",
        "\n",
        "# Verificar valores nulos\n",
        "df.isnull().sum()\n",
        "\n",
        "# Ver os tipos das variáveis\n",
        "df.dtypes\n"
      ],
      "metadata": {
        "id": "gAuQQLwT2Jj6"
      },
      "execution_count": null,
      "outputs": []
    },
    {
      "cell_type": "code",
      "source": [
        "df.isnull().sum()  # Verifica nulos\n",
        "df.dropna(inplace=True)  # Remove linhas com nulos\n",
        "\n",
        "df.duplicated().sum()  # Verifica duplicatas\n",
        "df.drop_duplicates(inplace=True)"
      ],
      "metadata": {
        "id": "WX3bSoQb2Jj6"
      },
      "execution_count": null,
      "outputs": []
    },
    {
      "cell_type": "code",
      "source": [
        "import seaborn as sns\n",
        "import matplotlib.pyplot as plt\n",
        "\n",
        "sns.countplot(x='loan_status', data=df)\n",
        "plt.title('Distribuição da variável alvo (Status do Empréstimo)')\n",
        "plt.xlabel('Status do Empréstimo')\n",
        "plt.ylabel('Quantidade')\n",
        "plt.show()\n"
      ],
      "metadata": {
        "id": "nwyUfoc62Jj6"
      },
      "execution_count": null,
      "outputs": []
    },
    {
      "cell_type": "code",
      "source": [
        "# Importar bibliotecas\n",
        "import pandas as pd\n",
        "import seaborn as sns\n",
        "import matplotlib.pyplot as plt\n",
        "\n",
        "df = pd.read_csv(path + '/credit_risk_dataset.csv')\n",
        "print(df.head())\n",
        "\n",
        "# Ver primeiras linhas\n",
        "print(\"Primeiras linhas do dataset:\")\n",
        "display(df.head())\n",
        "\n",
        "# Ver informações gerais do DataFrame\n",
        "print(\"Informações do DataFrame:\")\n",
        "df.info()\n",
        "\n",
        "# Estatísticas descritivas\n",
        "print(\"Estatísticas descritivas:\")\n",
        "display(df.describe())\n",
        "\n",
        "# Contar valores únicos da variável-alvo\n",
        "print(\"Distribuição da variável loan_status:\")\n",
        "print(df['loan_status'].value_counts())\n",
        "\n",
        "# Criar coluna com rótulos mais legíveis\n",
        "df['loan_status_label'] = df['loan_status'].map({0: 'Pagou', 1: 'Inadimplente'})\n",
        "\n",
        "# Visualização: Distribuição da variável-alvo\n",
        "plt.figure(figsize=(6,4))\n",
        "sns.countplot(x='loan_status_label', data=df, palette='Set2')\n",
        "plt.title('Distribuição dos Clientes: Pagaram vs Inadimplentes')\n",
        "plt.xlabel('Status do Empréstimo')\n",
        "plt.ylabel('Quantidade')\n",
        "plt.show()\n",
        "\n",
        "# Visualização: Distribuição de idade\n",
        "plt.figure(figsize=(6,4))\n",
        "sns.histplot(df['person_age'], bins=20, kde=True)\n",
        "plt.title('Distribuição da Idade dos Clientes')\n",
        "plt.xlabel('Idade')\n",
        "plt.ylabel('Frequência')\n",
        "plt.show()\n",
        "\n",
        "# Boxplot de renda por status do empréstimo\n",
        "plt.figure(figsize=(8,5))\n",
        "sns.boxplot(x='loan_status_label', y='person_income', data=df, palette='Set3')\n",
        "plt.title('Renda por Status do Empréstimo')\n",
        "plt.xlabel('Status do Cliente')\n",
        "plt.ylabel('Renda')\n",
        "plt.show()\n",
        "\n",
        "# Mapa de calor de correlação entre variáveis numéricas\n",
        "plt.figure(figsize=(10,8))\n",
        "sns.heatmap(df.corr(numeric_only=True), annot=True, cmap='coolwarm', fmt=\".2f\")\n",
        "plt.title('Correlação entre variáveis numéricas')\n",
        "plt.show()\n"
      ],
      "metadata": {
        "id": "xuC7RLMF2Jj6"
      },
      "execution_count": null,
      "outputs": []
    },
    {
      "cell_type": "code",
      "source": [],
      "metadata": {
        "id": "8iPOhrGV2Jj7"
      },
      "execution_count": null,
      "outputs": []
    },
    {
      "cell_type": "markdown",
      "source": [
        "# Análise dos Graficos:\n",
        "\n",
        "1) A quantidade de clientes que pagaram os empréstimos é consideravelmente maior do que a de inadimplentes, indicando um forte desbalanceamento. Isso mostra que a inadimplência não é comum neste conjunto de dados, o que pode influenciar negativamente o desempenho de modelos preditivos se não for tratado.\n",
        "\n",
        "2) Empréstimos são consideravelmente maiores entre pessoas de 20 a 30 anos, seguidos de uma queda gradual dos 30 aos 50 anos. Isso mostra que jovens adultos são o público mais frequente na concessão de crédito neste dataset.\n",
        "\n",
        "3) A mediana de renda é semelhante entre os clientes adimplentes e inadimplentes. No entanto, o grupo dos adimplentes apresenta mais outliers de alta renda, o que pode indicar que a renda, isoladamente, não é um preditor forte de inadimplência neste caso.\n",
        "\n",
        "4) A variável loan_status apresenta correlações positivas com loan_percent_income e loan_int_rate, o que indica que quanto maior a taxa de juros e a porcentagem da renda comprometida, maior a chance de inadimplência.\n",
        "Já a correlação com person_income é negativa (embora fraca), o que sugere que quanto maior a renda do cliente, menor a chance de inadimplência. Apesar de não serem correlações fortes, os sinais estão alinhados com o que se espera do comportamento financeiro."
      ],
      "metadata": {
        "id": "FuDXRWJI2Jj7"
      }
    },
    {
      "cell_type": "markdown",
      "source": [
        "# Pré-processamento dos dados para machine learning"
      ],
      "metadata": {
        "id": "bcRsaTVb2Jj7"
      }
    },
    {
      "cell_type": "markdown",
      "source": [
        "1. **Lidar com valores nulos**"
      ],
      "metadata": {
        "id": "DBVul_d52Jj7"
      }
    },
    {
      "cell_type": "code",
      "source": [
        "print(df.isnull().sum())\n"
      ],
      "metadata": {
        "id": "Ya7Nqdpc2Jj7"
      },
      "execution_count": null,
      "outputs": []
    },
    {
      "cell_type": "code",
      "source": [
        "# Exemplo: preencher valores nulos da experiência com a mediana\n",
        "df['person_emp_length'].fillna(df['person_emp_length'].median(), inplace=True)\n",
        "\n",
        "\n",
        "\n",
        "# Se tiver outros nulos, repita esse processo ou exclua as linhas\n",
        "df.dropna(inplace=True)  # Só se forem poucos casos\n"
      ],
      "metadata": {
        "id": "hj6SxI1V2Jj7"
      },
      "execution_count": null,
      "outputs": []
    },
    {
      "cell_type": "code",
      "source": [
        "df.dropna(inplace=True)  # Remove linhas com nulos\n",
        "    # ... outras operações ...\n",
        "df_encoded = pd.get_dummies(df, columns=[\n",
        "    'person_home_ownership',\n",
        "    'loan_intent',\n",
        "    'loan_grade',\n",
        "    'cb_person_default_on_file'\n",
        "], drop_first=True)\n",
        "    # ... outras operações ...\n",
        "X=df_encoded.drop(columns=['loan_status'])\n",
        "    # ... train_test_split(X, y, ...)\n",
        "    # ... SMOTE(X_train, y_train)"
      ],
      "metadata": {
        "id": "gDcRExMu2Jj8"
      },
      "execution_count": null,
      "outputs": []
    },
    {
      "cell_type": "markdown",
      "source": [
        "2. **Codificar variáveis categóricas**"
      ],
      "metadata": {
        "id": "2kKXi7ke2Jj8"
      }
    },
    {
      "cell_type": "code",
      "source": [
        "# Usando pd.get_dummies (One-hot encoding)\n",
        "df_encoded=pd.get_dummies(df, columns=[\n",
        "    'person_home_ownership',\n",
        "    'loan_intent',\n",
        "    'loan_grade',\n",
        "    'cb_person_default_on_file'\n",
        "], drop_first=True)\n"
      ],
      "metadata": {
        "id": "duCSLvT62Jj8"
      },
      "execution_count": null,
      "outputs": []
    },
    {
      "cell_type": "markdown",
      "source": [
        "3. **Selecionar variáveis para o modelo**"
      ],
      "metadata": {
        "id": "zlIAWuYz2Jj8"
      }
    },
    {
      "cell_type": "code",
      "source": [
        "# Features (todas as colunas, exceto o alvo)\n",
        "X = df_encoded.drop(columns=['loan_status'])\n",
        "\n",
        "\n",
        "# Alvo\n",
        "y = df_encoded['loan_status']\n"
      ],
      "metadata": {
        "id": "5TpWQ6Xf2Jj8"
      },
      "execution_count": null,
      "outputs": []
    },
    {
      "cell_type": "markdown",
      "source": [
        "4. **Separar em treino e teste**\n"
      ],
      "metadata": {
        "id": "nsDWZu4Y2Jj9"
      }
    },
    {
      "cell_type": "code",
      "source": [
        "from sklearn.model_selection import train_test_split\n",
        "\n",
        "X_train, X_test, y_train, y_test = train_test_split(\n",
        "    X, y, test_size=0.2, random_state=42, stratify=y\n",
        ")\n"
      ],
      "metadata": {
        "id": "UFH0a5SW2Jj9"
      },
      "execution_count": null,
      "outputs": []
    },
    {
      "cell_type": "markdown",
      "source": [
        " 5. **Balancear os dados**"
      ],
      "metadata": {
        "id": "hj4saCDe2Jj9"
      }
    },
    {
      "cell_type": "code",
      "source": [
        "from imblearn.over_sampling import SMOTE\n",
        "\n",
        "smote = SMOTE(random_state=42)\n",
        "X_train_bal, y_train_bal = smote.fit_resample(X_train, y_train)\n"
      ],
      "metadata": {
        "id": "wCZ8lmfK2Jj9"
      },
      "execution_count": null,
      "outputs": []
    },
    {
      "cell_type": "markdown",
      "source": [
        "# Treinar o modelo de Machine Learning"
      ],
      "metadata": {
        "id": "saYZbzpL2Jj9"
      }
    },
    {
      "cell_type": "markdown",
      "source": [
        "1. **Importar e treinar o modelo**"
      ],
      "metadata": {
        "id": "qwJev_Y22Jj9"
      }
    },
    {
      "cell_type": "code",
      "source": [
        "from sklearn.ensemble import RandomForestClassifier\n",
        "from sklearn.metrics import classification_report, confusion_matrix\n",
        "\n",
        "# Cria o modelo\n",
        "model = RandomForestClassifier(random_state=42)\n",
        "\n",
        "# Treina o modelo com os dados balanceados\n",
        "model.fit(X_train_bal, y_train_bal)\n"
      ],
      "metadata": {
        "id": "h9HKa16g2Jj9"
      },
      "execution_count": null,
      "outputs": []
    },
    {
      "cell_type": "markdown",
      "source": [
        "2. **Fazer previsões no conjunto de teste**"
      ],
      "metadata": {
        "id": "4Ts_E4kS2Jj9"
      }
    },
    {
      "cell_type": "code",
      "source": [
        "y_pred = model.predict(X_test)\n"
      ],
      "metadata": {
        "id": "LeIzGAkK2Jj-"
      },
      "execution_count": null,
      "outputs": []
    },
    {
      "cell_type": "markdown",
      "source": [
        "3. **Avaliar o modelo**"
      ],
      "metadata": {
        "id": "IsvjH7Uo2Jj-"
      }
    },
    {
      "cell_type": "code",
      "source": [
        "# Matriz de confusão\n",
        "print(confusion_matrix(y_test, y_pred))\n",
        "\n",
        "# Relatório de classificação\n",
        "print(classification_report(y_test, y_pred))\n"
      ],
      "metadata": {
        "id": "Q7D8Mq0w2Jj-"
      },
      "execution_count": null,
      "outputs": []
    },
    {
      "cell_type": "markdown",
      "source": [
        "Análise:\n",
        "\n",
        "O modelo apresentou boa precisão geral e desempenho consistente na identificação de pagadores.\n",
        "\n",
        "No entanto, o recall da classe 1 (inadimplentes) foi de apenas 74%, ou seja, aproximadamente 26% dos inadimplentes não foram detectados.\n",
        "\n",
        "Em cenários de risco de crédito, maximizar o recall da classe 1 é essencial, pois não identificar inadimplentes pode causar prejuízos financeiros.\n",
        "\n",
        "A partir disso, buscamos ajustar o modelo para melhorar a sensibilidade (recall) da classe 1, mesmo que isso reduza levemente a precisão ou acurácia geral."
      ],
      "metadata": {
        "id": "4LpWGfYy2Jj-"
      }
    },
    {
      "cell_type": "markdown",
      "source": [
        "# **melhorar a previsão (recall)**"
      ],
      "metadata": {
        "id": "lEhzZrgv2Jj-"
      }
    },
    {
      "cell_type": "markdown",
      "source": [
        "Ajustar o limiar de decisão (threshold)"
      ],
      "metadata": {
        "id": "_eu1ZQos2Jj-"
      }
    },
    {
      "cell_type": "code",
      "source": [
        "# Obter probabilidades previstas\n",
        "y_proba = model.predict_proba(X_test)[:, 1]\n",
        "\n",
        "# Novo limiar de corte: 0.3 (mais sensível para inadimplentes)\n",
        "y_pred_thresh = (y_proba >= 0.3).astype(int)\n",
        "\n",
        "# Avaliar novamente\n",
        "from sklearn.metrics import classification_report, confusion_matrix\n",
        "\n",
        "print(confusion_matrix(y_test, y_pred_thresh))\n",
        "print(classification_report(y_test, y_pred_thresh))\n"
      ],
      "metadata": {
        "id": "ZpUWe1g92Jj-"
      },
      "execution_count": null,
      "outputs": []
    },
    {
      "cell_type": "markdown",
      "source": [
        "Ajustar o modelo com GridSearchCV"
      ],
      "metadata": {
        "id": "MfpkWIZQ2Jj-"
      }
    },
    {
      "cell_type": "code",
      "source": [
        "from sklearn.model_selection import GridSearchCV\n",
        "from sklearn.ensemble import RandomForestClassifier\n"
      ],
      "metadata": {
        "id": "VHC4kLWV2Jj_"
      },
      "execution_count": null,
      "outputs": []
    },
    {
      "cell_type": "code",
      "source": [
        "param_grid = {\n",
        "    'n_estimators': [100, 200],          # número de árvores\n",
        "    'max_depth': [None, 10, 20],         # profundidade máxima\n",
        "    'min_samples_split': [2, 5],         # min de amostras para dividir nó\n",
        "    'min_samples_leaf': [1, 2],          # min de amostras em uma folha\n",
        "    'class_weight': [None, 'balanced']   # ajustar pesos da classe\n",
        "}\n"
      ],
      "metadata": {
        "id": "gcekslkC2Jj_"
      },
      "execution_count": null,
      "outputs": []
    },
    {
      "cell_type": "code",
      "source": [
        "rf = RandomForestClassifier(random_state=42)\n",
        "\n",
        "grid_search = GridSearchCV(estimator=rf,\n",
        "                           param_grid=param_grid,\n",
        "                           scoring='recall',   # foco em recall!\n",
        "                           cv=5,\n",
        "                           n_jobs=-1,          # usar todos os núcleos\n",
        "                           verbose=2)\n"
      ],
      "metadata": {
        "id": "H_CMV7wU2Jj_"
      },
      "execution_count": null,
      "outputs": []
    },
    {
      "cell_type": "code",
      "source": [
        "grid_search.fit(X_train_bal, y_train_bal)\n"
      ],
      "metadata": {
        "id": "1Gdv07wy2Jj_"
      },
      "execution_count": null,
      "outputs": []
    },
    {
      "cell_type": "code",
      "source": [
        "print(\"Melhores hiperparâmetros:\", grid_search.best_params_)\n",
        "\n",
        "best_model = grid_search.best_estimator_\n"
      ],
      "metadata": {
        "id": "QbhNxjxv2Jj_"
      },
      "execution_count": null,
      "outputs": []
    },
    {
      "cell_type": "code",
      "source": [
        "y_pred_best = best_model.predict(X_test)\n",
        "\n",
        "from sklearn.metrics import classification_report, confusion_matrix\n",
        "print(confusion_matrix(y_test, y_pred_best))\n",
        "print(classification_report(y_test, y_pred_best))\n"
      ],
      "metadata": {
        "id": "lU1HinQN2Jj_"
      },
      "execution_count": null,
      "outputs": []
    },
    {
      "cell_type": "markdown",
      "source": [
        "\"Utilizei validação cruzada com GridSearchCV para encontrar os melhores hiperparâmetros do modelo Random Forest, focando em maximizar o recall da classe de inadimplentes (classe 1). Com isso, obtivemos uma melhora no desempenho em relação à versão inicial do modelo, especialmente na sensibilidade para detectar inadimplência.\""
      ],
      "metadata": {
        "id": "dlC4IOIf2Jj_"
      }
    },
    {
      "cell_type": "markdown",
      "source": [
        "Precisão para inadimplentes: 89% → poucas falsas previsões positivas.\n",
        "\n",
        "Recall para inadimplentes: 74% → o modelo consegue encontrar a maioria dos casos de inadimplência.\n",
        "\n",
        "F1-score: 0.80 → equilíbrio entre precisão e recall.\n",
        "\n",
        "Acurácia geral: 92%\n",
        "\n",
        "💡 A melhoria no modelo permitiu identificar inadimplentes com mais segurança, mesmo com o desbalanceamento original dos dados.\n",
        "\n"
      ],
      "metadata": {
        "id": "w1u_rRAw2Jj_"
      }
    },
    {
      "cell_type": "markdown",
      "source": [
        "# Interpretação do Modelo: Feature Importance"
      ],
      "metadata": {
        "id": "n308xeq32JkA"
      }
    },
    {
      "cell_type": "code",
      "source": [
        "import matplotlib.pyplot as plt\n",
        "import seaborn as sns\n",
        "import pandas as pd\n",
        "\n",
        "# Obter a importância das features\n",
        "importances = best_model.feature_importances_\n",
        "feature_names = X_train.columns\n",
        "feature_importance_df = pd.DataFrame({\n",
        "    'feature': feature_names,\n",
        "    'importance': importances\n",
        "}).sort_values(by='importance', ascending=False)\n",
        "\n",
        "# Visualizar\n",
        "plt.figure(figsize=(10, 6))\n",
        "sns.barplot(x='importance', y='feature', data=feature_importance_df)\n",
        "plt.title('Importância das Variáveis')\n",
        "plt.tight_layout()\n",
        "plt.show()\n"
      ],
      "metadata": {
        "id": "jpzO8kK02JkA"
      },
      "execution_count": null,
      "outputs": []
    },
    {
      "cell_type": "markdown",
      "source": [
        "Taxas de juros e renda comprometida estão altamente ligadas ao risco de inadimplência.\n",
        "\n",
        "Quanto menor o tempo de emprego e histórico de crédito, maior o risco.\n",
        "\n",
        "Fatores como loan_intent e home_ownership tiveram menor impacto."
      ],
      "metadata": {
        "id": "adZY9tq02JkA"
      }
    },
    {
      "cell_type": "markdown",
      "source": [
        "Conclusão\n",
        "O modelo final apresentou excelente desempenho preditivo, com capacidade de prever inadimplência com alta precisão e recall. A análise de importância das variáveis reforçou o valor das informações financeiras para prever o risco de crédito.\n",
        "\n"
      ],
      "metadata": {
        "id": "BzH4THyY2JkA"
      }
    },
    {
      "cell_type": "code",
      "source": [],
      "metadata": {
        "id": "CUbVwaXJ2JkA"
      },
      "execution_count": null,
      "outputs": []
    },
    {
      "cell_type": "code",
      "source": [
        "# Ver primeiras linhas\n",
        "df.head()\n",
        "\n",
        "# Ver estrutura do DataFrame\n",
        "df.info()\n",
        "\n",
        "# Ver estatísticas gerais\n",
        "df.describe()\n",
        "\n",
        "# Verificar valores nulos\n",
        "df.isnull().sum()\n",
        "\n",
        "# Ver os tipos das variáveis\n",
        "df.dtypes\n"
      ],
      "metadata": {
        "id": "fETTFzBw2JpY"
      },
      "execution_count": null,
      "outputs": []
    },
    {
      "cell_type": "code",
      "source": [
        "df.isnull().sum()  # Verifica nulos\n",
        "df.dropna(inplace=True)  # Remove linhas com nulos\n",
        "\n",
        "df.duplicated().sum()  # Verifica duplicatas\n",
        "df.drop_duplicates(inplace=True)"
      ],
      "metadata": {
        "id": "sfukyube2JpY"
      },
      "execution_count": null,
      "outputs": []
    },
    {
      "cell_type": "code",
      "source": [
        "import seaborn as sns\n",
        "import matplotlib.pyplot as plt\n",
        "\n",
        "sns.countplot(x='loan_status', data=df)\n",
        "plt.title('Distribuição da variável alvo (Status do Empréstimo)')\n",
        "plt.xlabel('Status do Empréstimo')\n",
        "plt.ylabel('Quantidade')\n",
        "plt.show()\n"
      ],
      "metadata": {
        "id": "ZPnUNu9A2JpY"
      },
      "execution_count": null,
      "outputs": []
    },
    {
      "cell_type": "code",
      "source": [
        "# Importar bibliotecas\n",
        "import pandas as pd\n",
        "import seaborn as sns\n",
        "import matplotlib.pyplot as plt\n",
        "\n",
        "df = pd.read_csv(path + '/credit_risk_dataset.csv')\n",
        "print(df.head())\n",
        "\n",
        "# Ver primeiras linhas\n",
        "print(\"Primeiras linhas do dataset:\")\n",
        "display(df.head())\n",
        "\n",
        "# Ver informações gerais do DataFrame\n",
        "print(\"Informações do DataFrame:\")\n",
        "df.info()\n",
        "\n",
        "# Estatísticas descritivas\n",
        "print(\"Estatísticas descritivas:\")\n",
        "display(df.describe())\n",
        "\n",
        "# Contar valores únicos da variável-alvo\n",
        "print(\"Distribuição da variável loan_status:\")\n",
        "print(df['loan_status'].value_counts())\n",
        "\n",
        "# Criar coluna com rótulos mais legíveis\n",
        "df['loan_status_label'] = df['loan_status'].map({0: 'Pagou', 1: 'Inadimplente'})\n",
        "\n",
        "# Visualização: Distribuição da variável-alvo\n",
        "plt.figure(figsize=(6,4))\n",
        "sns.countplot(x='loan_status_label', data=df, palette='Set2')\n",
        "plt.title('Distribuição dos Clientes: Pagaram vs Inadimplentes')\n",
        "plt.xlabel('Status do Empréstimo')\n",
        "plt.ylabel('Quantidade')\n",
        "plt.show()\n",
        "\n",
        "# Visualização: Distribuição de idade\n",
        "plt.figure(figsize=(6,4))\n",
        "sns.histplot(df['person_age'], bins=20, kde=True)\n",
        "plt.title('Distribuição da Idade dos Clientes')\n",
        "plt.xlabel('Idade')\n",
        "plt.ylabel('Frequência')\n",
        "plt.show()\n",
        "\n",
        "# Boxplot de renda por status do empréstimo\n",
        "plt.figure(figsize=(8,5))\n",
        "sns.boxplot(x='loan_status_label', y='person_income', data=df, palette='Set3')\n",
        "plt.title('Renda por Status do Empréstimo')\n",
        "plt.xlabel('Status do Cliente')\n",
        "plt.ylabel('Renda')\n",
        "plt.show()\n",
        "\n",
        "# Mapa de calor de correlação entre variáveis numéricas\n",
        "plt.figure(figsize=(10,8))\n",
        "sns.heatmap(df.corr(numeric_only=True), annot=True, cmap='coolwarm', fmt=\".2f\")\n",
        "plt.title('Correlação entre variáveis numéricas')\n",
        "plt.show()\n"
      ],
      "metadata": {
        "id": "n7s7XHFz2JpY"
      },
      "execution_count": null,
      "outputs": []
    },
    {
      "cell_type": "code",
      "source": [],
      "metadata": {
        "id": "dTY2vz_L2JpZ"
      },
      "execution_count": null,
      "outputs": []
    },
    {
      "cell_type": "markdown",
      "source": [
        "# Análise dos Graficos:\n",
        "\n",
        "1) A quantidade de clientes que pagaram os empréstimos é consideravelmente maior do que a de inadimplentes, indicando um forte desbalanceamento. Isso mostra que a inadimplência não é comum neste conjunto de dados, o que pode influenciar negativamente o desempenho de modelos preditivos se não for tratado.\n",
        "\n",
        "2) Empréstimos são consideravelmente maiores entre pessoas de 20 a 30 anos, seguidos de uma queda gradual dos 30 aos 50 anos. Isso mostra que jovens adultos são o público mais frequente na concessão de crédito neste dataset.\n",
        "\n",
        "3) A mediana de renda é semelhante entre os clientes adimplentes e inadimplentes. No entanto, o grupo dos adimplentes apresenta mais outliers de alta renda, o que pode indicar que a renda, isoladamente, não é um preditor forte de inadimplência neste caso.\n",
        "\n",
        "4) A variável loan_status apresenta correlações positivas com loan_percent_income e loan_int_rate, o que indica que quanto maior a taxa de juros e a porcentagem da renda comprometida, maior a chance de inadimplência.\n",
        "Já a correlação com person_income é negativa (embora fraca), o que sugere que quanto maior a renda do cliente, menor a chance de inadimplência. Apesar de não serem correlações fortes, os sinais estão alinhados com o que se espera do comportamento financeiro."
      ],
      "metadata": {
        "id": "HlJHUFJ32JpZ"
      }
    },
    {
      "cell_type": "markdown",
      "source": [
        "# Pré-processamento dos dados para machine learning"
      ],
      "metadata": {
        "id": "3WB-4lUO2JpZ"
      }
    },
    {
      "cell_type": "markdown",
      "source": [
        "1. **Lidar com valores nulos**"
      ],
      "metadata": {
        "id": "NoOllbcd2JpZ"
      }
    },
    {
      "cell_type": "code",
      "source": [
        "print(df.isnull().sum())\n"
      ],
      "metadata": {
        "id": "ZfsipLPs2JpZ"
      },
      "execution_count": null,
      "outputs": []
    },
    {
      "cell_type": "code",
      "source": [
        "# Exemplo: preencher valores nulos da experiência com a mediana\n",
        "df['person_emp_length'].fillna(df['person_emp_length'].median(), inplace=True)\n",
        "\n",
        "\n",
        "\n",
        "# Se tiver outros nulos, repita esse processo ou exclua as linhas\n",
        "df.dropna(inplace=True)  # Só se forem poucos casos\n"
      ],
      "metadata": {
        "id": "TV1VUIAm2JpZ"
      },
      "execution_count": null,
      "outputs": []
    },
    {
      "cell_type": "code",
      "source": [
        "df.dropna(inplace=True)  # Remove linhas com nulos\n",
        "    # ... outras operações ...\n",
        "df_encoded = pd.get_dummies(df, columns=[\n",
        "    'person_home_ownership',\n",
        "    'loan_intent',\n",
        "    'loan_grade',\n",
        "    'cb_person_default_on_file'\n",
        "], drop_first=True)\n",
        "    # ... outras operações ...\n",
        "X=df_encoded.drop(columns=['loan_status'])\n",
        "    # ... train_test_split(X, y, ...)\n",
        "    # ... SMOTE(X_train, y_train)"
      ],
      "metadata": {
        "id": "ssAOtoL_2Jpa"
      },
      "execution_count": null,
      "outputs": []
    },
    {
      "cell_type": "markdown",
      "source": [
        "2. **Codificar variáveis categóricas**"
      ],
      "metadata": {
        "id": "mH9pZLO12Jpa"
      }
    },
    {
      "cell_type": "code",
      "source": [
        "# Usando pd.get_dummies (One-hot encoding)\n",
        "df_encoded=pd.get_dummies(df, columns=[\n",
        "    'person_home_ownership',\n",
        "    'loan_intent',\n",
        "    'loan_grade',\n",
        "    'cb_person_default_on_file'\n",
        "], drop_first=True)\n"
      ],
      "metadata": {
        "id": "nifd8njO2Jpa"
      },
      "execution_count": null,
      "outputs": []
    },
    {
      "cell_type": "markdown",
      "source": [
        "3. **Selecionar variáveis para o modelo**"
      ],
      "metadata": {
        "id": "PDpDjbvg2Jpa"
      }
    },
    {
      "cell_type": "code",
      "source": [
        "# Features (todas as colunas, exceto o alvo)\n",
        "X = df_encoded.drop(columns=['loan_status'])\n",
        "\n",
        "\n",
        "# Alvo\n",
        "y = df_encoded['loan_status']\n"
      ],
      "metadata": {
        "id": "Iz40eY9g2Jpa"
      },
      "execution_count": null,
      "outputs": []
    },
    {
      "cell_type": "markdown",
      "source": [
        "4. **Separar em treino e teste**\n"
      ],
      "metadata": {
        "id": "zcJSxZ1B2Jpa"
      }
    },
    {
      "cell_type": "code",
      "source": [
        "from sklearn.model_selection import train_test_split\n",
        "\n",
        "X_train, X_test, y_train, y_test = train_test_split(\n",
        "    X, y, test_size=0.2, random_state=42, stratify=y\n",
        ")\n"
      ],
      "metadata": {
        "id": "ByOQ3F8K2Jpa"
      },
      "execution_count": null,
      "outputs": []
    },
    {
      "cell_type": "markdown",
      "source": [
        " 5. **Balancear os dados**"
      ],
      "metadata": {
        "id": "VTBTGPLA2Jpb"
      }
    },
    {
      "cell_type": "code",
      "source": [
        "from imblearn.over_sampling import SMOTE\n",
        "\n",
        "smote = SMOTE(random_state=42)\n",
        "X_train_bal, y_train_bal = smote.fit_resample(X_train, y_train)\n"
      ],
      "metadata": {
        "id": "zna_vMoP2Jpb"
      },
      "execution_count": null,
      "outputs": []
    },
    {
      "cell_type": "markdown",
      "source": [
        "# Treinar o modelo de Machine Learning"
      ],
      "metadata": {
        "id": "sJRq-_Cc2Jpb"
      }
    },
    {
      "cell_type": "markdown",
      "source": [
        "1. **Importar e treinar o modelo**"
      ],
      "metadata": {
        "id": "DCpbeQFl2Jpb"
      }
    },
    {
      "cell_type": "code",
      "source": [
        "from sklearn.ensemble import RandomForestClassifier\n",
        "from sklearn.metrics import classification_report, confusion_matrix\n",
        "\n",
        "# Cria o modelo\n",
        "model = RandomForestClassifier(random_state=42)\n",
        "\n",
        "# Treina o modelo com os dados balanceados\n",
        "model.fit(X_train_bal, y_train_bal)\n"
      ],
      "metadata": {
        "id": "1hRB4SmE2Jpb"
      },
      "execution_count": null,
      "outputs": []
    },
    {
      "cell_type": "markdown",
      "source": [
        "2. **Fazer previsões no conjunto de teste**"
      ],
      "metadata": {
        "id": "wfxjUG4k2Jpb"
      }
    },
    {
      "cell_type": "code",
      "source": [
        "y_pred = model.predict(X_test)\n"
      ],
      "metadata": {
        "id": "pnatOaQZ2Jpb"
      },
      "execution_count": null,
      "outputs": []
    },
    {
      "cell_type": "markdown",
      "source": [
        "3. **Avaliar o modelo**"
      ],
      "metadata": {
        "id": "xUp428Y32Jpb"
      }
    },
    {
      "cell_type": "code",
      "source": [
        "# Matriz de confusão\n",
        "print(confusion_matrix(y_test, y_pred))\n",
        "\n",
        "# Relatório de classificação\n",
        "print(classification_report(y_test, y_pred))\n"
      ],
      "metadata": {
        "id": "df_d2umZ2Jpb"
      },
      "execution_count": null,
      "outputs": []
    },
    {
      "cell_type": "markdown",
      "source": [
        "Análise:\n",
        "\n",
        "O modelo apresentou boa precisão geral e desempenho consistente na identificação de pagadores.\n",
        "\n",
        "No entanto, o recall da classe 1 (inadimplentes) foi de apenas 74%, ou seja, aproximadamente 26% dos inadimplentes não foram detectados.\n",
        "\n",
        "Em cenários de risco de crédito, maximizar o recall da classe 1 é essencial, pois não identificar inadimplentes pode causar prejuízos financeiros.\n",
        "\n",
        "A partir disso, buscamos ajustar o modelo para melhorar a sensibilidade (recall) da classe 1, mesmo que isso reduza levemente a precisão ou acurácia geral."
      ],
      "metadata": {
        "id": "GSWMX0hJ2Jpc"
      }
    },
    {
      "cell_type": "markdown",
      "source": [
        "# **melhorar a previsão (recall)**"
      ],
      "metadata": {
        "id": "7GbqC7sV2Jpc"
      }
    },
    {
      "cell_type": "markdown",
      "source": [
        "Ajustar o limiar de decisão (threshold)"
      ],
      "metadata": {
        "id": "fCo-IA422Jpc"
      }
    },
    {
      "cell_type": "code",
      "source": [
        "# Obter probabilidades previstas\n",
        "y_proba = model.predict_proba(X_test)[:, 1]\n",
        "\n",
        "# Novo limiar de corte: 0.3 (mais sensível para inadimplentes)\n",
        "y_pred_thresh = (y_proba >= 0.3).astype(int)\n",
        "\n",
        "# Avaliar novamente\n",
        "from sklearn.metrics import classification_report, confusion_matrix\n",
        "\n",
        "print(confusion_matrix(y_test, y_pred_thresh))\n",
        "print(classification_report(y_test, y_pred_thresh))\n"
      ],
      "metadata": {
        "id": "5jeZX4nt2Jpc"
      },
      "execution_count": null,
      "outputs": []
    },
    {
      "cell_type": "markdown",
      "source": [
        "Ajustar o modelo com GridSearchCV"
      ],
      "metadata": {
        "id": "6or14r4N2Jpc"
      }
    },
    {
      "cell_type": "code",
      "source": [
        "from sklearn.model_selection import GridSearchCV\n",
        "from sklearn.ensemble import RandomForestClassifier\n"
      ],
      "metadata": {
        "id": "YmuHOtjt2Jpc"
      },
      "execution_count": null,
      "outputs": []
    },
    {
      "cell_type": "code",
      "source": [
        "param_grid = {\n",
        "    'n_estimators': [100, 200],          # número de árvores\n",
        "    'max_depth': [None, 10, 20],         # profundidade máxima\n",
        "    'min_samples_split': [2, 5],         # min de amostras para dividir nó\n",
        "    'min_samples_leaf': [1, 2],          # min de amostras em uma folha\n",
        "    'class_weight': [None, 'balanced']   # ajustar pesos da classe\n",
        "}\n"
      ],
      "metadata": {
        "id": "bUxrNy3d2Jpc"
      },
      "execution_count": null,
      "outputs": []
    },
    {
      "cell_type": "code",
      "source": [
        "rf = RandomForestClassifier(random_state=42)\n",
        "\n",
        "grid_search = GridSearchCV(estimator=rf,\n",
        "                           param_grid=param_grid,\n",
        "                           scoring='recall',   # foco em recall!\n",
        "                           cv=5,\n",
        "                           n_jobs=-1,          # usar todos os núcleos\n",
        "                           verbose=2)\n"
      ],
      "metadata": {
        "id": "1SNk5Qp22Jpk"
      },
      "execution_count": null,
      "outputs": []
    },
    {
      "cell_type": "code",
      "source": [
        "grid_search.fit(X_train_bal, y_train_bal)\n"
      ],
      "metadata": {
        "id": "qjgL9rFk2Jpk"
      },
      "execution_count": null,
      "outputs": []
    },
    {
      "cell_type": "code",
      "source": [
        "print(\"Melhores hiperparâmetros:\", grid_search.best_params_)\n",
        "\n",
        "best_model = grid_search.best_estimator_\n"
      ],
      "metadata": {
        "id": "-d6Xu8-G2Jpk"
      },
      "execution_count": null,
      "outputs": []
    },
    {
      "cell_type": "code",
      "source": [
        "y_pred_best = best_model.predict(X_test)\n",
        "\n",
        "from sklearn.metrics import classification_report, confusion_matrix\n",
        "print(confusion_matrix(y_test, y_pred_best))\n",
        "print(classification_report(y_test, y_pred_best))\n"
      ],
      "metadata": {
        "id": "aUA6ryQE2Jpk"
      },
      "execution_count": null,
      "outputs": []
    },
    {
      "cell_type": "markdown",
      "source": [
        "\"Utilizei validação cruzada com GridSearchCV para encontrar os melhores hiperparâmetros do modelo Random Forest, focando em maximizar o recall da classe de inadimplentes (classe 1). Com isso, obtivemos uma melhora no desempenho em relação à versão inicial do modelo, especialmente na sensibilidade para detectar inadimplência.\""
      ],
      "metadata": {
        "id": "vEMBc_Df2Jpk"
      }
    },
    {
      "cell_type": "markdown",
      "source": [
        "Precisão para inadimplentes: 89% → poucas falsas previsões positivas.\n",
        "\n",
        "Recall para inadimplentes: 74% → o modelo consegue encontrar a maioria dos casos de inadimplência.\n",
        "\n",
        "F1-score: 0.80 → equilíbrio entre precisão e recall.\n",
        "\n",
        "Acurácia geral: 92%\n",
        "\n",
        "💡 A melhoria no modelo permitiu identificar inadimplentes com mais segurança, mesmo com o desbalanceamento original dos dados.\n",
        "\n"
      ],
      "metadata": {
        "id": "M1ut5bh-2Jpk"
      }
    },
    {
      "cell_type": "markdown",
      "source": [
        "# Interpretação do Modelo: Feature Importance"
      ],
      "metadata": {
        "id": "DgKLGsqQ2Jpl"
      }
    },
    {
      "cell_type": "code",
      "source": [
        "import matplotlib.pyplot as plt\n",
        "import seaborn as sns\n",
        "import pandas as pd\n",
        "\n",
        "# Obter a importância das features\n",
        "importances = best_model.feature_importances_\n",
        "feature_names = X_train.columns\n",
        "feature_importance_df = pd.DataFrame({\n",
        "    'feature': feature_names,\n",
        "    'importance': importances\n",
        "}).sort_values(by='importance', ascending=False)\n",
        "\n",
        "# Visualizar\n",
        "plt.figure(figsize=(10, 6))\n",
        "sns.barplot(x='importance', y='feature', data=feature_importance_df)\n",
        "plt.title('Importância das Variáveis')\n",
        "plt.tight_layout()\n",
        "plt.show()\n"
      ],
      "metadata": {
        "id": "PTNlXZfN2Jpl"
      },
      "execution_count": null,
      "outputs": []
    },
    {
      "cell_type": "markdown",
      "source": [
        "Taxas de juros e renda comprometida estão altamente ligadas ao risco de inadimplência.\n",
        "\n",
        "Quanto menor o tempo de emprego e histórico de crédito, maior o risco.\n",
        "\n",
        "Fatores como loan_intent e home_ownership tiveram menor impacto."
      ],
      "metadata": {
        "id": "oWqjEvwi2Jpl"
      }
    },
    {
      "cell_type": "markdown",
      "source": [
        "Conclusão\n",
        "O modelo final apresentou excelente desempenho preditivo, com capacidade de prever inadimplência com alta precisão e recall. A análise de importância das variáveis reforçou o valor das informações financeiras para prever o risco de crédito.\n",
        "\n"
      ],
      "metadata": {
        "id": "_1cfPTWe2Jpl"
      }
    },
    {
      "cell_type": "code",
      "source": [],
      "metadata": {
        "id": "UBisejR42Jpl"
      },
      "execution_count": null,
      "outputs": []
    },
    {
      "cell_type": "code",
      "source": [
        "# Ver primeiras linhas\n",
        "df.head()\n",
        "\n",
        "# Ver estrutura do DataFrame\n",
        "df.info()\n",
        "\n",
        "# Ver estatísticas gerais\n",
        "df.describe()\n",
        "\n",
        "# Verificar valores nulos\n",
        "df.isnull().sum()\n",
        "\n",
        "# Ver os tipos das variáveis\n",
        "df.dtypes\n"
      ],
      "metadata": {
        "id": "rfNqcxU_2KCL"
      },
      "execution_count": null,
      "outputs": []
    },
    {
      "cell_type": "code",
      "source": [
        "df.isnull().sum()  # Verifica nulos\n",
        "df.dropna(inplace=True)  # Remove linhas com nulos\n",
        "\n",
        "df.duplicated().sum()  # Verifica duplicatas\n",
        "df.drop_duplicates(inplace=True)"
      ],
      "metadata": {
        "id": "1SldQ3-d2KCM"
      },
      "execution_count": null,
      "outputs": []
    },
    {
      "cell_type": "code",
      "source": [
        "import seaborn as sns\n",
        "import matplotlib.pyplot as plt\n",
        "\n",
        "sns.countplot(x='loan_status', data=df)\n",
        "plt.title('Distribuição da variável alvo (Status do Empréstimo)')\n",
        "plt.xlabel('Status do Empréstimo')\n",
        "plt.ylabel('Quantidade')\n",
        "plt.show()\n"
      ],
      "metadata": {
        "id": "t0OY0lK92KCM"
      },
      "execution_count": null,
      "outputs": []
    },
    {
      "cell_type": "code",
      "source": [
        "# Importar bibliotecas\n",
        "import pandas as pd\n",
        "import seaborn as sns\n",
        "import matplotlib.pyplot as plt\n",
        "\n",
        "df = pd.read_csv(path + '/credit_risk_dataset.csv')\n",
        "print(df.head())\n",
        "\n",
        "# Ver primeiras linhas\n",
        "print(\"Primeiras linhas do dataset:\")\n",
        "display(df.head())\n",
        "\n",
        "# Ver informações gerais do DataFrame\n",
        "print(\"Informações do DataFrame:\")\n",
        "df.info()\n",
        "\n",
        "# Estatísticas descritivas\n",
        "print(\"Estatísticas descritivas:\")\n",
        "display(df.describe())\n",
        "\n",
        "# Contar valores únicos da variável-alvo\n",
        "print(\"Distribuição da variável loan_status:\")\n",
        "print(df['loan_status'].value_counts())\n",
        "\n",
        "# Criar coluna com rótulos mais legíveis\n",
        "df['loan_status_label'] = df['loan_status'].map({0: 'Pagou', 1: 'Inadimplente'})\n",
        "\n",
        "# Visualização: Distribuição da variável-alvo\n",
        "plt.figure(figsize=(6,4))\n",
        "sns.countplot(x='loan_status_label', data=df, palette='Set2')\n",
        "plt.title('Distribuição dos Clientes: Pagaram vs Inadimplentes')\n",
        "plt.xlabel('Status do Empréstimo')\n",
        "plt.ylabel('Quantidade')\n",
        "plt.show()\n",
        "\n",
        "# Visualização: Distribuição de idade\n",
        "plt.figure(figsize=(6,4))\n",
        "sns.histplot(df['person_age'], bins=20, kde=True)\n",
        "plt.title('Distribuição da Idade dos Clientes')\n",
        "plt.xlabel('Idade')\n",
        "plt.ylabel('Frequência')\n",
        "plt.show()\n",
        "\n",
        "# Boxplot de renda por status do empréstimo\n",
        "plt.figure(figsize=(8,5))\n",
        "sns.boxplot(x='loan_status_label', y='person_income', data=df, palette='Set3')\n",
        "plt.title('Renda por Status do Empréstimo')\n",
        "plt.xlabel('Status do Cliente')\n",
        "plt.ylabel('Renda')\n",
        "plt.show()\n",
        "\n",
        "# Mapa de calor de correlação entre variáveis numéricas\n",
        "plt.figure(figsize=(10,8))\n",
        "sns.heatmap(df.corr(numeric_only=True), annot=True, cmap='coolwarm', fmt=\".2f\")\n",
        "plt.title('Correlação entre variáveis numéricas')\n",
        "plt.show()\n"
      ],
      "metadata": {
        "id": "LvlnxGMZ2KCN"
      },
      "execution_count": null,
      "outputs": []
    },
    {
      "cell_type": "code",
      "source": [],
      "metadata": {
        "id": "btx66JSI2KCN"
      },
      "execution_count": null,
      "outputs": []
    },
    {
      "cell_type": "markdown",
      "source": [
        "# Análise dos Graficos:\n",
        "\n",
        "1) A quantidade de clientes que pagaram os empréstimos é consideravelmente maior do que a de inadimplentes, indicando um forte desbalanceamento. Isso mostra que a inadimplência não é comum neste conjunto de dados, o que pode influenciar negativamente o desempenho de modelos preditivos se não for tratado.\n",
        "\n",
        "2) Empréstimos são consideravelmente maiores entre pessoas de 20 a 30 anos, seguidos de uma queda gradual dos 30 aos 50 anos. Isso mostra que jovens adultos são o público mais frequente na concessão de crédito neste dataset.\n",
        "\n",
        "3) A mediana de renda é semelhante entre os clientes adimplentes e inadimplentes. No entanto, o grupo dos adimplentes apresenta mais outliers de alta renda, o que pode indicar que a renda, isoladamente, não é um preditor forte de inadimplência neste caso.\n",
        "\n",
        "4) A variável loan_status apresenta correlações positivas com loan_percent_income e loan_int_rate, o que indica que quanto maior a taxa de juros e a porcentagem da renda comprometida, maior a chance de inadimplência.\n",
        "Já a correlação com person_income é negativa (embora fraca), o que sugere que quanto maior a renda do cliente, menor a chance de inadimplência. Apesar de não serem correlações fortes, os sinais estão alinhados com o que se espera do comportamento financeiro."
      ],
      "metadata": {
        "id": "fbTyHo_N2KCN"
      }
    },
    {
      "cell_type": "markdown",
      "source": [
        "# Pré-processamento dos dados para machine learning"
      ],
      "metadata": {
        "id": "dLoBtM352KCN"
      }
    },
    {
      "cell_type": "markdown",
      "source": [
        "1. **Lidar com valores nulos**"
      ],
      "metadata": {
        "id": "qp-aZOdz2KCO"
      }
    },
    {
      "cell_type": "code",
      "source": [
        "print(df.isnull().sum())\n"
      ],
      "metadata": {
        "id": "Vg9IzkJ72KCO"
      },
      "execution_count": null,
      "outputs": []
    },
    {
      "cell_type": "code",
      "source": [
        "# Exemplo: preencher valores nulos da experiência com a mediana\n",
        "df['person_emp_length'].fillna(df['person_emp_length'].median(), inplace=True)\n",
        "\n",
        "\n",
        "\n",
        "# Se tiver outros nulos, repita esse processo ou exclua as linhas\n",
        "df.dropna(inplace=True)  # Só se forem poucos casos\n"
      ],
      "metadata": {
        "id": "1wL3Pttm2KCO"
      },
      "execution_count": null,
      "outputs": []
    },
    {
      "cell_type": "code",
      "source": [
        "df.dropna(inplace=True)  # Remove linhas com nulos\n",
        "    # ... outras operações ...\n",
        "df_encoded = pd.get_dummies(df, columns=[\n",
        "    'person_home_ownership',\n",
        "    'loan_intent',\n",
        "    'loan_grade',\n",
        "    'cb_person_default_on_file'\n",
        "], drop_first=True)\n",
        "    # ... outras operações ...\n",
        "X=df_encoded.drop(columns=['loan_status'])\n",
        "    # ... train_test_split(X, y, ...)\n",
        "    # ... SMOTE(X_train, y_train)"
      ],
      "metadata": {
        "id": "EbaQsOMi2KCP"
      },
      "execution_count": null,
      "outputs": []
    },
    {
      "cell_type": "markdown",
      "source": [
        "2. **Codificar variáveis categóricas**"
      ],
      "metadata": {
        "id": "AUh7hDLR2KCP"
      }
    },
    {
      "cell_type": "code",
      "source": [
        "# Usando pd.get_dummies (One-hot encoding)\n",
        "df_encoded=pd.get_dummies(df, columns=[\n",
        "    'person_home_ownership',\n",
        "    'loan_intent',\n",
        "    'loan_grade',\n",
        "    'cb_person_default_on_file'\n",
        "], drop_first=True)\n"
      ],
      "metadata": {
        "id": "63kq1CES2KCP"
      },
      "execution_count": null,
      "outputs": []
    },
    {
      "cell_type": "markdown",
      "source": [
        "3. **Selecionar variáveis para o modelo**"
      ],
      "metadata": {
        "id": "Bo502d-D2KCP"
      }
    },
    {
      "cell_type": "code",
      "source": [
        "# Features (todas as colunas, exceto o alvo)\n",
        "X = df_encoded.drop(columns=['loan_status'])\n",
        "\n",
        "\n",
        "# Alvo\n",
        "y = df_encoded['loan_status']\n"
      ],
      "metadata": {
        "id": "HJ0d-v9j2KCQ"
      },
      "execution_count": null,
      "outputs": []
    },
    {
      "cell_type": "markdown",
      "source": [
        "4. **Separar em treino e teste**\n"
      ],
      "metadata": {
        "id": "PzEAUkji2KCQ"
      }
    },
    {
      "cell_type": "code",
      "source": [
        "from sklearn.model_selection import train_test_split\n",
        "\n",
        "X_train, X_test, y_train, y_test = train_test_split(\n",
        "    X, y, test_size=0.2, random_state=42, stratify=y\n",
        ")\n"
      ],
      "metadata": {
        "id": "yN2mR4eX2KCQ"
      },
      "execution_count": null,
      "outputs": []
    },
    {
      "cell_type": "markdown",
      "source": [
        " 5. **Balancear os dados**"
      ],
      "metadata": {
        "id": "h-EIqFFG2KCQ"
      }
    },
    {
      "cell_type": "code",
      "source": [
        "from imblearn.over_sampling import SMOTE\n",
        "\n",
        "smote = SMOTE(random_state=42)\n",
        "X_train_bal, y_train_bal = smote.fit_resample(X_train, y_train)\n"
      ],
      "metadata": {
        "id": "XuOB3emI2KCR"
      },
      "execution_count": null,
      "outputs": []
    },
    {
      "cell_type": "markdown",
      "source": [
        "# Treinar o modelo de Machine Learning"
      ],
      "metadata": {
        "id": "nW5TPVeO2KCR"
      }
    },
    {
      "cell_type": "markdown",
      "source": [
        "1. **Importar e treinar o modelo**"
      ],
      "metadata": {
        "id": "38A6UTFg2KCR"
      }
    },
    {
      "cell_type": "code",
      "source": [
        "from sklearn.ensemble import RandomForestClassifier\n",
        "from sklearn.metrics import classification_report, confusion_matrix\n",
        "\n",
        "# Cria o modelo\n",
        "model = RandomForestClassifier(random_state=42)\n",
        "\n",
        "# Treina o modelo com os dados balanceados\n",
        "model.fit(X_train_bal, y_train_bal)\n"
      ],
      "metadata": {
        "id": "UY-7Kexp2KCR"
      },
      "execution_count": null,
      "outputs": []
    },
    {
      "cell_type": "markdown",
      "source": [
        "2. **Fazer previsões no conjunto de teste**"
      ],
      "metadata": {
        "id": "iIBRyES62KCS"
      }
    },
    {
      "cell_type": "code",
      "source": [
        "y_pred = model.predict(X_test)\n"
      ],
      "metadata": {
        "id": "Mn2KJmjn2KCS"
      },
      "execution_count": null,
      "outputs": []
    },
    {
      "cell_type": "markdown",
      "source": [
        "3. **Avaliar o modelo**"
      ],
      "metadata": {
        "id": "Ib_ocg4C2KCS"
      }
    },
    {
      "cell_type": "code",
      "source": [
        "# Matriz de confusão\n",
        "print(confusion_matrix(y_test, y_pred))\n",
        "\n",
        "# Relatório de classificação\n",
        "print(classification_report(y_test, y_pred))\n"
      ],
      "metadata": {
        "id": "w-sPid-b2KCT"
      },
      "execution_count": null,
      "outputs": []
    },
    {
      "cell_type": "markdown",
      "source": [
        "Análise:\n",
        "\n",
        "O modelo apresentou boa precisão geral e desempenho consistente na identificação de pagadores.\n",
        "\n",
        "No entanto, o recall da classe 1 (inadimplentes) foi de apenas 74%, ou seja, aproximadamente 26% dos inadimplentes não foram detectados.\n",
        "\n",
        "Em cenários de risco de crédito, maximizar o recall da classe 1 é essencial, pois não identificar inadimplentes pode causar prejuízos financeiros.\n",
        "\n",
        "A partir disso, buscamos ajustar o modelo para melhorar a sensibilidade (recall) da classe 1, mesmo que isso reduza levemente a precisão ou acurácia geral."
      ],
      "metadata": {
        "id": "1GDyouFH2KCT"
      }
    },
    {
      "cell_type": "markdown",
      "source": [
        "# **melhorar a previsão (recall)**"
      ],
      "metadata": {
        "id": "rA92vWix2KCT"
      }
    },
    {
      "cell_type": "markdown",
      "source": [
        "Ajustar o limiar de decisão (threshold)"
      ],
      "metadata": {
        "id": "fcbxQT5C2KCT"
      }
    },
    {
      "cell_type": "code",
      "source": [
        "# Obter probabilidades previstas\n",
        "y_proba = model.predict_proba(X_test)[:, 1]\n",
        "\n",
        "# Novo limiar de corte: 0.3 (mais sensível para inadimplentes)\n",
        "y_pred_thresh = (y_proba >= 0.3).astype(int)\n",
        "\n",
        "# Avaliar novamente\n",
        "from sklearn.metrics import classification_report, confusion_matrix\n",
        "\n",
        "print(confusion_matrix(y_test, y_pred_thresh))\n",
        "print(classification_report(y_test, y_pred_thresh))\n"
      ],
      "metadata": {
        "id": "MkPFJft02KCT"
      },
      "execution_count": null,
      "outputs": []
    },
    {
      "cell_type": "markdown",
      "source": [
        "Ajustar o modelo com GridSearchCV"
      ],
      "metadata": {
        "id": "lF8aOju42KCU"
      }
    },
    {
      "cell_type": "code",
      "source": [
        "from sklearn.model_selection import GridSearchCV\n",
        "from sklearn.ensemble import RandomForestClassifier\n"
      ],
      "metadata": {
        "id": "OzVnaFp82KCU"
      },
      "execution_count": null,
      "outputs": []
    },
    {
      "cell_type": "code",
      "source": [
        "param_grid = {\n",
        "    'n_estimators': [100, 200],          # número de árvores\n",
        "    'max_depth': [None, 10, 20],         # profundidade máxima\n",
        "    'min_samples_split': [2, 5],         # min de amostras para dividir nó\n",
        "    'min_samples_leaf': [1, 2],          # min de amostras em uma folha\n",
        "    'class_weight': [None, 'balanced']   # ajustar pesos da classe\n",
        "}\n"
      ],
      "metadata": {
        "id": "41bbsMX72KCU"
      },
      "execution_count": null,
      "outputs": []
    },
    {
      "cell_type": "code",
      "source": [
        "rf = RandomForestClassifier(random_state=42)\n",
        "\n",
        "grid_search = GridSearchCV(estimator=rf,\n",
        "                           param_grid=param_grid,\n",
        "                           scoring='recall',   # foco em recall!\n",
        "                           cv=5,\n",
        "                           n_jobs=-1,          # usar todos os núcleos\n",
        "                           verbose=2)\n"
      ],
      "metadata": {
        "id": "B5F_Jqz12KCU"
      },
      "execution_count": null,
      "outputs": []
    },
    {
      "cell_type": "code",
      "source": [
        "grid_search.fit(X_train_bal, y_train_bal)\n"
      ],
      "metadata": {
        "id": "20J3IQK12KCV"
      },
      "execution_count": null,
      "outputs": []
    },
    {
      "cell_type": "code",
      "source": [
        "print(\"Melhores hiperparâmetros:\", grid_search.best_params_)\n",
        "\n",
        "best_model = grid_search.best_estimator_\n"
      ],
      "metadata": {
        "id": "ajDt2Tzt2KCV"
      },
      "execution_count": null,
      "outputs": []
    },
    {
      "cell_type": "code",
      "source": [
        "y_pred_best = best_model.predict(X_test)\n",
        "\n",
        "from sklearn.metrics import classification_report, confusion_matrix\n",
        "print(confusion_matrix(y_test, y_pred_best))\n",
        "print(classification_report(y_test, y_pred_best))\n"
      ],
      "metadata": {
        "id": "dAB6B-EP2KCV"
      },
      "execution_count": null,
      "outputs": []
    },
    {
      "cell_type": "markdown",
      "source": [
        "\"Utilizei validação cruzada com GridSearchCV para encontrar os melhores hiperparâmetros do modelo Random Forest, focando em maximizar o recall da classe de inadimplentes (classe 1). Com isso, obtivemos uma melhora no desempenho em relação à versão inicial do modelo, especialmente na sensibilidade para detectar inadimplência.\""
      ],
      "metadata": {
        "id": "9GNm1h0t2KCV"
      }
    },
    {
      "cell_type": "markdown",
      "source": [
        "Precisão para inadimplentes: 89% → poucas falsas previsões positivas.\n",
        "\n",
        "Recall para inadimplentes: 74% → o modelo consegue encontrar a maioria dos casos de inadimplência.\n",
        "\n",
        "F1-score: 0.80 → equilíbrio entre precisão e recall.\n",
        "\n",
        "Acurácia geral: 92%\n",
        "\n",
        "💡 A melhoria no modelo permitiu identificar inadimplentes com mais segurança, mesmo com o desbalanceamento original dos dados.\n",
        "\n"
      ],
      "metadata": {
        "id": "VDkdKwBD2KCV"
      }
    },
    {
      "cell_type": "markdown",
      "source": [
        "# Interpretação do Modelo: Feature Importance"
      ],
      "metadata": {
        "id": "G0mv22s-2KCV"
      }
    },
    {
      "cell_type": "code",
      "source": [
        "import matplotlib.pyplot as plt\n",
        "import seaborn as sns\n",
        "import pandas as pd\n",
        "\n",
        "# Obter a importância das features\n",
        "importances = best_model.feature_importances_\n",
        "feature_names = X_train.columns\n",
        "feature_importance_df = pd.DataFrame({\n",
        "    'feature': feature_names,\n",
        "    'importance': importances\n",
        "}).sort_values(by='importance', ascending=False)\n",
        "\n",
        "# Visualizar\n",
        "plt.figure(figsize=(10, 6))\n",
        "sns.barplot(x='importance', y='feature', data=feature_importance_df)\n",
        "plt.title('Importância das Variáveis')\n",
        "plt.tight_layout()\n",
        "plt.show()\n"
      ],
      "metadata": {
        "id": "HX638qVk2KCW"
      },
      "execution_count": null,
      "outputs": []
    },
    {
      "cell_type": "markdown",
      "source": [
        "Taxas de juros e renda comprometida estão altamente ligadas ao risco de inadimplência.\n",
        "\n",
        "Quanto menor o tempo de emprego e histórico de crédito, maior o risco.\n",
        "\n",
        "Fatores como loan_intent e home_ownership tiveram menor impacto."
      ],
      "metadata": {
        "id": "WBVQO_yS2KCW"
      }
    },
    {
      "cell_type": "markdown",
      "source": [
        "Conclusão\n",
        "O modelo final apresentou excelente desempenho preditivo, com capacidade de prever inadimplência com alta precisão e recall. A análise de importância das variáveis reforçou o valor das informações financeiras para prever o risco de crédito.\n",
        "\n"
      ],
      "metadata": {
        "id": "ZtAMuRmH2KCW"
      }
    },
    {
      "cell_type": "code",
      "source": [],
      "metadata": {
        "id": "qyT584Sz2KCW"
      },
      "execution_count": null,
      "outputs": []
    }
  ]
}